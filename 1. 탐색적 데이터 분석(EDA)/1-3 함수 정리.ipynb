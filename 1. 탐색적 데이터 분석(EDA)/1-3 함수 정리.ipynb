{
 "cells": [
  {
   "cell_type": "markdown",
   "id": "5033b18d",
   "metadata": {},
   "source": [
    "# chapter_1 함수 정리"
   ]
  },
  {
   "cell_type": "markdown",
   "id": "d8f0e82e",
   "metadata": {},
   "source": [
    "- 파일 csv로 불러오기 => pd.read_csv(파일 경로)\n",
    "- .unique() => 범주형 피처의 개수 출력\n",
    "- .value_counts() => 개수가 많은 순대로 출력\n",
    "- .iteritems() => (key, value_counts)식의 리스트를 출력\n",
    "- groupby(\"item name\")[\"order_id\"].count() => \"item name\"피처를 기준으로 그룹을 생성하고 각 아이템별 몇 개의 주문이 발생하였는지\n",
    "- .tolist() => OO를 리스트로 만들어줌.\n",
    "- np.arange(숫자) => range(숫자)랑 비슷함\n",
    "- .apply() => 어떠한 피처의 값을 다른 값으로 바꿀 수 있음.(전처리 작업)\n",
    "- .sort_values(by = \"\", ascending = False) => 어떠한 피처를 기준으로 정렬 시켜줌.(내림차순으로)\n",
    "- .drop_duplicates([\"item_name\", \"order_id\"]) => (item_name, order_id)의 중복 항목을 제거해줌\n",
    "                                              => (1, 1) (1, 2) (1, 1) -> (1, 1) (1, 2)\n",
    "- corr = drinks[[\"beer_servings\", \"wine_servings\"]].corr(method = \"pearson\") => 피처 간의 상관계수 구하기\n",
    "- sns.heatmap(corr.values,\n",
    "            cbar = True,\n",
    "            annot = True, => 숫자 출력\n",
    "            fmt = \".2f\", => 숫자 소수점 둘 째 자리까지 출력\n",
    "            annot_kws = {\"size\": 15}, => 숫자 크기 수정\n",
    "            yticklabels = cols_view, => y축 이름 수정\n",
    "            xticklabels = cols_view => x축 이름 수정) \n",
    "- sns.set(sytle = \"\", text = \"\", font_scale = 1.5) => 그래프 스타일, 텍스트, 폰트 크기 수정\n",
    "- .fillna(\"OT\") => 결측치 값들을 OT로 변환\n",
    "- plt.bar(x축, y축, bar_width,\n",
    "         color = \"\"\n",
    "         label = \"Mean\", => 범례 이름 설정)\n",
    "- bar_list[어떤 x축 순서].set_color(\"\") => bar_list 그래프 어떤 x축의 색깔을 수정\n",
    "- plt.plot([x축 범위], [y축 범위], \"k--\") => 그래프에 정해진 x축 y축 범위에서 검은색 점선 생성\n",
    "- plt.xticks(x_pos, continents) => x_pos로 되어 있는 x축 이름을 continents리스트의 원소들로 변환\n",
    "- plt.axis([0, 200, 0, 0.3]) => x축 범위 0~200, y축 범위 0~0.3으로 수정\n",
    "- plt.annotate(\"South Korea: \" + str(south_korea + 1), => \"South Korea: 15\"를 그래프에 추가\n",
    "              xy = (x, y), => (x, y) 방향으로 화살표 방향 설정\n",
    "              xytext = (x + 10, y + 0.05), => (x + 10, y + 0.05)위치에 화살표 생성\n",
    "              arrowprops = dict(facecolor =\"\", shrink = 0.5) => 화살표 색 및 화살표 기둥 길이(작을수록 길어짐) 설정)\n",
    "- plt.pie(수치값,\n",
    "         explode = [0, 0, 0, 0.25, 0, 0], => 4번째 파이가 0.25만큼 튀어나오도록 함\n",
    "         autopct = \"%.0f%%\", => 소수점 0 째 자리까지 %붙여서 출력\n",
    "         shadow = True => 파이 차트 그림자 출력)\n",
    "- plt.rcParams[\"figure.figsize\"] = (14,4) => (가로, 세로) 그림의 크기\n",
    "- plt.rcParams['lines.linewidth'] = 2 => 선의 두께\n",
    "- plt.rcParams['lines.color'] = 'r' => 빨간색\n",
    "- plt.rcParams['axes.grid'] = True => 격자 생성\n",
    "- .agg([\"mean\", \"min\", \"max\", \"sum\"]) => 그룹(.groupby(\"\"))에 대한 여러 가지 연산 결과를 동시에 얻을 수 있음.\n",
    "- .idxmax() => 가장 값이 큰 인덱스를 출력\n",
    "- stats.ttest_ind(africa[\"beer_serving\"], europe[\"beer_serving\"], equal_var = True)\n",
    "   => africa의 beer_serving 열과 europe의 beer_serving열 간의 t검정(동분산 가정 O)"
   ]
  },
  {
   "cell_type": "markdown",
   "id": "e77bdd9c",
   "metadata": {},
   "source": [
    "# chapter_3 함수 정리"
   ]
  },
  {
   "cell_type": "markdown",
   "id": "e0d5e8c5",
   "metadata": {},
   "source": [
    "- df.shpae => df의 행과 열의 개수\n",
    "- df.boxplot(column = \"a\") => df a열로 상자그림 생성\n",
    "- df.hist(column = \"a\", bins = 100) => df a열로 막대 100개가 들어갈 수 있는 히스토그램 생성\n",
    "- df.plot(x = \"a\", y =\"b\", kind = \"bar\") => df a열의 x변수와 b열의 y변수로 막대그래프 생성\n",
    "- plt.rcParams[\"figure.figsize\"] = [20, 16] => plot 크기 조절\n",
    "- plt.rcParams['axes.unicode_minus'] = False => 마이너스 부호 안 깨지게 해줌\n",
    "- pd.Series(x) => x를 데이터 프레임의 열 형태로 생성\n",
    "- pd.merge(result_df, pitcher, on = \"선수명\", how = \"left\") => 선수명열을 기준으로 왼쪽 df에 오른쪽 df를 병합\n",
    "- pd.get_dummies(pitcher_df[\"a\"]) => pitcher_df a열에 대해서 원-핫 인코딩 실행\n",
    "- fig = plt.figure(1) => 1크기의 plot 생성\n",
    "- fig.add_subplot(5, 5, i) => fig로 5*5 배열로 i번째 순서에 subplot 생성\n",
    "- pitcher_df.join(df) => pitcher_df에 df 추가\n",
    "- pitcher_df.drop(\"a\", axis = 1) => pitcher_df에서 a열 제거\n",
    "- pitcher_df.drop(\"a\", axis = 0) => pitcher_df에서 a행 제거\n",
    "- pitcher_df.drop(index = i) => pithcer_df에서 i번째 행 제거\n",
    "- pitcher_df.columns.difference([\"a\", \"b\"]) => a열과 b열을 제외한 나머지 열\n",
    "- x_train, x_test, y_train, y_test = train_test_split(x, y, test_size = 0.2, random_state = 19) => 학습 데에터셋과 테스트 데이터셋을 8:2비율로 생성, random seed를 19번으로 고정하여 같은 레코드를 추출\n",
    "- lr = linear_model.LinearRegression() => 회귀분석 모델에 대한 객체 생성\n",
    "- model = lr.fit(x_trian, y_train) => 회귀분석 계수를 학습\n",
    "- model.coef_ => 회귀계수를 출력\n",
    "- x_train = sm.add_constant(x_train) => 절편항, y = ax + b에서 b\n",
    "- sm.OLS(y_train, x_train) => 학습모델들의 회귀분석\n",
    "- model.params.tolist() => model의 회귀계수들을 리스트로\n",
    "- ax.set_title() => ax 그래프의 제목 생성\n",
    "- ax.set_xlabel() => ax 그래프의 x축 이름 생성\n",
    "- ax.set_ylabel() => ax 그래프의 y축 이름 생성\n",
    "- ax.set_xticklabels() => ax 그래프 x값들의 이름 생성\n",
    "- y_prediction = lr.predict(x_train) => x_train 으로 y_prediction을 예측\n",
    "- sqrt(mean_squared_error(y_train, y_predictions)) => 오차를 나타내줌\n",
    "- model.score(x_train, y_train) => R2 score(결정계수(상관계수))\n",
    "- [variance_inflation_factor(x.values, i) for i in range(x.shape[1])] => x열 값들에 대한 다중공선성을 순서대로 생성\n",
    "- result_df.rename(columns = {\"y\": \"실제연봉(2018)\", \"연봉(2017)\": \"작년연봉(2017)\"}) => result_df열들의 이름을 수정\n",
    "- result_df.reset_index() => result_df index 재설정"
   ]
  }
 ],
 "metadata": {
  "kernelspec": {
   "display_name": "Python 3.10.5 64-bit",
   "language": "python",
   "name": "python3"
  },
  "language_info": {
   "codemirror_mode": {
    "name": "ipython",
    "version": 3
   },
   "file_extension": ".py",
   "mimetype": "text/x-python",
   "name": "python",
   "nbconvert_exporter": "python",
   "pygments_lexer": "ipython3",
   "version": "3.10.5"
  },
  "toc": {
   "base_numbering": 1,
   "nav_menu": {},
   "number_sections": true,
   "sideBar": true,
   "skip_h1_title": false,
   "title_cell": "Table of Contents",
   "title_sidebar": "Contents",
   "toc_cell": false,
   "toc_position": {},
   "toc_section_display": true,
   "toc_window_display": false
  },
  "vscode": {
   "interpreter": {
    "hash": "aee8b7b246df8f9039afb4144a1f6fd8d2ca17a180786b69acc140d282b71a49"
   }
  }
 },
 "nbformat": 4,
 "nbformat_minor": 5
}
