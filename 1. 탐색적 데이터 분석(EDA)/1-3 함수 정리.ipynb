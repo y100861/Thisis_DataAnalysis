{
 "cells": [
  {
   "cell_type": "markdown",
   "id": "5033b18d",
   "metadata": {},
   "source": [
    "# chapter_1 함수 정리"
   ]
  },
  {
   "cell_type": "code",
   "execution_count": null,
   "id": "2e564fe8",
   "metadata": {},
   "outputs": [],
   "source": [
    "# pd.read_csv(파일 경로, => csv 파일 불러오기\n",
    "#             encoding_errors = \"ignore\",\n",
    "#             delimiter = \"::\") => \"::\"를 기준으로 열을 나눔\n",
    "# .unique() => 범주형 피처의 개수 출력\n",
    "# .value_counts() => 개수가 많은 순대로 출력\n",
    "# .iteritems() => (key, value_counts)식의 리스트를 출력\n",
    "# groupby(\"item name\")[\"order_id\"].count() => \"item name\"피처를 기준으로 그룹을 생성하고 각 아이템별 몇 개의 주문이 발생하였는지\n",
    "# .tolist() => OO를 리스트로 만들어줌.\n",
    "# np.arange(숫자) => range(숫자)랑 비슷함\n",
    "# .apply() => 어떠한 피처의 값을 다른 값으로 바꿀 수 있음.(전처리 작업)\n",
    "# .sort_values(by = \"\", ascending = False) => 어떠한 피처를 기준으로 정렬 시켜줌.(내림차순으로)\n",
    "# .drop_duplicates([\"item_name\", \"order_id\"]) => (item_name, order_id)의 중복 항목을 제거해줌\n",
    "#                                            => (1, 1) (1, 2) (1, 1) -> (1, 1) (1, 2)\n",
    "#  corr = drinks[[\"beer_servings\", \"wine_servings\"]].corr(method = \"pearson\") => 피처 간의 상관계수 구하기\n",
    "# .fillna(\"OT\") => 결측치 값들을 OT로 변환\n",
    "# .agg([\"mean\", \"min\", \"max\", \"sum\"]) => 그룹(.groupby(\"\"))에 대한 여러 가지 연산 결과를 동시에 얻을 수 있음.\n",
    "# .idxmax() => 가장 값이 큰 인덱스를 \n",
    "# df.astype({\"col1\": \"float64\"}) => df의 col1 열을 float으로 변환\n",
    "# df.astype(dtype = \"float64\") => df의 모든 열을 float으로 변환"
   ]
  },
  {
   "cell_type": "markdown",
   "id": "adf9c732",
   "metadata": {},
   "source": [
    "- plot"
   ]
  },
  {
   "cell_type": "code",
   "execution_count": 4,
   "id": "39d39ca1",
   "metadata": {},
   "outputs": [],
   "source": [
    "# plt.bar(x = x축, height = y축, bar_width,\n",
    "#        color = \"\"\n",
    "#        label = \"Mean\", => 범례 이름 설정) => 상태 기반(하나의 plot에 그래프를 하나씩 추가해감)\n",
    "# bar_list[어떤 x축 순서].set_color(\"\") => bar_list 그래프 어떤 x축의 색깔을 수정\n",
    "# plt.plot([x축 범위], [y축 범위], \"k--\") => 그래프에 정해진 x축 y축 범위에서 검은색 점선 생성\n",
    "# plt.xticks(x_pos, continents) => x_pos로 되어 있는 x축 이름을 continents리스트의 원소들로 변환\n",
    "# plt.axis([0, 200, 0, 0.3]) => x축 범위 0~200, y축 범위 0~0.3으로 수정\n",
    "# plt.legend(loc = \"lower right\") => 오른쪽 아래에 범례 생성\n",
    "# plt.xlim([0.0, 1.0]) => x축 범위 설정\n",
    "# plt.ylim([0.0, 1.0]) => y축 범위 설정\n",
    "# plt.annotate(\"South Korea: \" + str(south_korea + 1), => \"South Korea: 15\"를 그래프에 추가\n",
    "#             xy = (x, y), => (x, y) 방향으로 화살표 방향 설정\n",
    "#             xytext = (x + 10, y + 0.05), => (x + 10, y + 0.05)위치에 화살표 생성\n",
    "#             arrowprops = dict(facecolor =\"\", shrink = 0.5) => 화살표 색 및 화살표 기둥 길이(작을수록 길어짐) 설정)\n",
    "# plt.pie(수치값,\n",
    "#        explode = [0, 0, 0, 0.25, 0, 0], => 4번째 파이가 0.25만큼 튀어나오도록 함\n",
    "#        autopct = \"%.0f%%\", => 소수점 0 째 자리까지 %붙여서 출력\n",
    "#        shadow = True => 파이 차트 그림자 출력)\n",
    "# plt.rcParams[\"figure.figsize\"] = (14,4) => (가로, 세로) 그림의 크기\n",
    "# plt.rcParams['lines.linewidth'] = 2 => 선의 두께\n",
    "# plt.rcParams['lines.color'] = 'r' => 빨간색\n",
    "# plt.rcParams['axes.grid'] = True => 격자 생성\n",
    "# fig = plt.figure(1) => 1크기의 plot 생성, 객체 기반(하나의 그림에 여러가지 plot을 추가함)\n",
    "# fig.add_subplot(5, 5, i) => fig로 5*5 배열로 i번째 순서에 subplot 생성\n",
    "# df.boxplot(column = \"a\") => df a열로 상자그림 생성\n",
    "# df.hist(column = \"a\", bins = 100) => df a열로 막대 100개가 들어갈 수 있는 히스토그램 생성\n",
    "# df.plot(x = \"a\", y =\"b\", kind = \"bar\") => df a열의 x변수와 b열의 y변수로 막대그래프 생성\n",
    "# plt.rcParams[\"figure.figsize\"] = [20, 16] => plot 크기 조절\n",
    "# plt.rcParams['axes.unicode_minus'] = False => 마이너스 부호 안 깨지게 해줌\n",
    "# ax.set_title() => ax 그래프의 제목 생성\n",
    "# ax.set_xlabel() => ax 그래프의 x축 이름 생성\n",
    "# ax.set_ylabel() => ax 그래프의 y축 이름 생성\n",
    "# ax.set_xticklabels() => ax 그래프 x값들의 이름 생성\n",
    "# plt.imshow(table) => 행렬 형태의 table의 이미지를 보여줌(결측값이 많을수록 하얀색에 가까움)\n",
    "# fig, ax = plt.subplots() => fig, ax 빈 그래프 생성\n",
    "# ax.barh(y_pos, lr_coef[0]) => y_pos개의 lr_coef[0]에 대한 그래프 출력"
   ]
  },
  {
   "cell_type": "markdown",
   "id": "6e679cfa",
   "metadata": {},
   "source": [
    "- seaborn(heatmap, countplot, FacetGrid)"
   ]
  },
  {
   "cell_type": "code",
   "execution_count": 1,
   "id": "f46ea69d",
   "metadata": {},
   "outputs": [],
   "source": [
    "# sns.heatmap(corr.values,\n",
    "#           cbar = True,\n",
    "#           annot = True, => 숫자 출력\n",
    "#           fmt = \".2f\", => 숫자 소수점 둘 째 자리까지 출력\n",
    "#           annot_kws = {\"size\": 15}, => 숫자 크기 수정\n",
    "#           yticklabels = cols_view, => y축 이름 수정\n",
    "#           xticklabels = cols_view => x축 이름 수정) \n",
    "# sns.set(sytle = \"\", text = \"\", font_scale = 1.5) => 그래프 스타일, 텍스트, 폰트 크기 수정\n",
    "# sns.barplot(x = a, y = b) => seaborn식 막대그래프 출력\n",
    "# sns.countplot(x = \"a\", hue = \"b\", data = \"df\") => df 데이터프레임에서 \"b\" 내에서 그룹을 나누어 \"a\" 피처의 그룹 간 차이를 탐색하는 그래프를 출력\n",
    "# g = sns.FacetGrid(df, col = \"b\")\n",
    "# g.map(plt.hist, \"a\", bins = 30) => df 데이터프레임에서 \"b\" 내에서 그룹을 나누어 \"a\"피처의 분포 그래프(히스토그램)를 출력"
   ]
  },
  {
   "cell_type": "markdown",
   "id": "f98566e5",
   "metadata": {},
   "source": [
    "- t-test 정리"
   ]
  },
  {
   "cell_type": "code",
   "execution_count": 6,
   "id": "3dccade5",
   "metadata": {},
   "outputs": [],
   "source": [
    "# from scipy import stats\n",
    "# stats.ttest_ind(africa[\"beer_serving\"], europe[\"beer_serving\"], equal_var = True)\n",
    "#  => africa의 beer_serving 열과 europe의 beer_serving열 간의 t검정(동분산 가정 O)"
   ]
  },
  {
   "cell_type": "markdown",
   "id": "eaedf318",
   "metadata": {},
   "source": [
    "# chapter_2 함수정리"
   ]
  },
  {
   "cell_type": "code",
   "execution_count": null,
   "id": "0b8e5396",
   "metadata": {},
   "outputs": [],
   "source": [
    "# .replace(\"\\n\", \" \") => 문자열의 문자들 중 개행 문자들을 띄어쓰기 한 칸으로 대체. 즉 제거함.\n",
    "# from collections import Counter\n",
    "# count = Counter(a) => {\"단어\": \"빈도\"...} 형태로 추출"
   ]
  },
  {
   "cell_type": "markdown",
   "id": "f63de08f",
   "metadata": {},
   "source": [
    "- 텍스트 파일 불러오기"
   ]
  },
  {
   "cell_type": "code",
   "execution_count": 9,
   "id": "aeae2c21",
   "metadata": {},
   "outputs": [],
   "source": [
    "# with open(a, encoding = \"utf-8\") as f: => 지정해준 경로에 있는 a파일을 f라는 객체로 불러옴\n",
    "#    b = f.readlines() => 각 줄을 원소로 하는 리스트로 반환\n",
    "# c = b.strip() => 각 줄 사이 공백을 제거"
   ]
  },
  {
   "cell_type": "markdown",
   "id": "73fb39a4",
   "metadata": {},
   "source": [
    "- pytagcloud(워드클라우드 만들기)"
   ]
  },
  {
   "cell_type": "code",
   "execution_count": null,
   "id": "afd2ae29",
   "metadata": {},
   "outputs": [],
   "source": [
    "# import pytagcloud\n",
    "# import random\n",
    "# import webbrowser\n",
    "# from IPython.display import Image\n",
    "# b = a.most_common(n) => a에서 출현 빈도수가 높은 n개의 단어를 선정\n",
    "# c = pytagcloud.make_tags(b, maxsize = n) => pytagcloud로 출력할 b를 입력. 단어 출력의 최대 크기는 n\n",
    "# pytagcloud.create_tag_image(c, \"wordcloud.jpg\", fontname = \"NanumGothic\", size = (900, 600), rectangular = False) => pytagcloud 이미지를 NanumGothic 폰트로 생성\n",
    "# Image(file = \"wordcloud.jpg\") => wordcloud.jpg를 출력"
   ]
  },
  {
   "cell_type": "markdown",
   "id": "51dd731a",
   "metadata": {},
   "source": [
    "- 웹 크롤링"
   ]
  },
  {
   "cell_type": "code",
   "execution_count": null,
   "id": "6206f78c",
   "metadata": {},
   "outputs": [],
   "source": [
    "# xpath 참고 블로그(https://wkdtjsgur100.github.io/selenium-xpath/)\n",
    "# from selenium import webdriver\n",
    "# from bs4 import BeautifulSoup\n",
    "# from selenium.webdriver.common.by import By\n",
    "# import time\n",
    "# path = \"/Users/yanghaejun/opt/homebrew/Caskroom/chromedriver/chromedriver_mac64/chromedriver\" => 크롬드라이버 경로\n",
    "# source_url = \"사이트 주소\" => 크롤링할 사이트 주소\n",
    "# driver = webdriver.Chrome(path)\n",
    "# driver.get(source_url) => 사이트 접속\n",
    "# searchbox = driver.find_element(By.XPATH, \"//검색창 Node[@속성='검색창 속성']\")\n",
    "# searchbox.send_keys(\"검색할 내용\")\n",
    "# searchbutton = driver.find_element(By.XPATH, \"//검색버튼 Node[@속성='검색버튼 속성']\")\n",
    "# driver.execute_script(\"arguments[0].click();\", searchbutton) => 검색버튼을 클릭하는 것을 javascript로 불러옴\n",
    "# html = driver.page_source => 페이지 소스를 가져옴\n",
    "# soup = BeautifulSoup(html, \"html.parser\") => 페이지 소스를 파싱할 객체(soup) 생성\n",
    "# a = soup.find_all(name = \"Node\", attrs = {\"속성\": \"html에 나온 속성\"}) => 페이지 소스에서 Node의 속성들을 다 가져옴\n",
    "# a.click() => 클릭해야 되는 속성들"
   ]
  },
  {
   "cell_type": "markdown",
   "id": "e77bdd9c",
   "metadata": {},
   "source": [
    "# chapter_3 함수 정리"
   ]
  },
  {
   "cell_type": "code",
   "execution_count": 7,
   "id": "a826783b",
   "metadata": {},
   "outputs": [],
   "source": [
    "# df.shpae => df의 행과 열의 개수\n",
    "# pd.Series(x, index = a.columns) => x리스트를 a의 열들을 인덱스로 시리즈 생성\n",
    "# pd.merge(result_df, pitcher, on = \"선수명\", how = \"left\") => 선수명열을 기준으로 왼쪽 df에 오른쪽 df를 병합\n",
    "# pd.get_dummies(pitcher_df[\"a\"]) => pitcher_df a열에 대해서 원-핫 인코딩 실행\n",
    "# pitcher_df.join(df) => pitcher_df에 df 추가\n",
    "# pitcher_df.drop(\"a\", axis = 1) => pitcher_df에서 a열 제거\n",
    "# pitcher_df.drop(\"a\", axis = 0) => pitcher_df에서 a행 제거\n",
    "# pitcher_df.drop(index = i) => pithcer_df에서 i번째 행 제거\n",
    "# pitcher_df.columns.difference([\"a\", \"b\"]) => a열과 b열을 제외한 나머지 열\n",
    "# result_df.rename(columns = {\"y\": \"실제연봉(2018)\", \"연봉(2017)\": \"작년연봉(2017)\"}) => result_df열들의 이름을 수정\n",
    "# result_df.reset_index() => result_df index 재설정\n",
    "# df.iterrows() => df 행들의 index와 열들을 row로 출력\n",
    "# df[[\"a\", \"b\", \"c\"]].set_index([\"b\", \"c\"]) = > a, b, c 열들 중 b, c를 index로 보냄\n",
    "# df[[\"a\", \"b\", \"c\"]].set_index([\"b\", \"c\"]).unstack(\"c\") => c열을 df의 축으로 보냄(지정 열이 없을 경우 마지막 index를 보냄)(행렬 만들기)"
   ]
  },
  {
   "cell_type": "markdown",
   "id": "78eba982",
   "metadata": {},
   "source": [
    "- 회귀분석 모델"
   ]
  },
  {
   "cell_type": "code",
   "execution_count": 8,
   "id": "7745eb64",
   "metadata": {},
   "outputs": [],
   "source": [
    "# from sklearn import linear_model\n",
    "# from sklearn.model_selection import train_test_split\n",
    "# from sklearn.metrics import mean_squared_error\n",
    "# from math import sqrt\n",
    "# x_train, x_test, y_train, y_test = train_test_split(x, y, test_size = 0.2, random_state = 19) => 학습 데에터셋과 테스트 데이터셋을 8:2비율로 생성, random seed를 19번으로 고정하여 같은 레코드를 추출\n",
    "# lr = linear_model.LinearRegression() => 회귀분석 모델에 대한 객체 생성\n",
    "# model = lr.fit(x_trian, y_train) => 회귀분석 계수를 학습\n",
    "# model.coef_ => 회귀계수를 출력\n",
    "# x_train = sm.add_constant(x_train) => 절편항, y = ax + b에서 b\n",
    "# sm.OLS(y_train, x_train) => 학습모델들의 회귀분석\n",
    "# model.params.tolist() => model의 회귀계수들을 리스트로\n",
    "# y_prediction = lr.predict(x_train) => x_train 으로 y_prediction을 예측\n",
    "# sqrt(mean_squared_error(y_train, y_predictions)) => 오차를 나타내줌\n",
    "# model.score(x_train, y_train) => R2 score(결정계수(상관계수))\n",
    "# [variance_inflation_factor(x.values, i) for i in range(x.shape[1])] => x열 값들에 대한 다중공선성을 순서대로 생성"
   ]
  },
  {
   "cell_type": "markdown",
   "id": "b361d91e",
   "metadata": {},
   "source": [
    "- 시계열 모델"
   ]
  },
  {
   "cell_type": "code",
   "execution_count": 9,
   "id": "0ddf6667",
   "metadata": {},
   "outputs": [],
   "source": [
    "# Fackbook Prophet을 사용하기 위해서는 피처명을 \"ds\", \"y\"로 변경해야 됨.\n",
    "# prophet = Prophet(seasonality_mode = \"multiplicative\", => 연간, 월간, 주간, 일간 등의 트렌드성을 반영하는 것을 의미하는 파라미터, 데이터의 진폭이 점점 증가하거나 감소: multiplicative, 일정: additive\n",
    "#                   yearly_seasonality = True,\n",
    "#                   weekly_seasonality = True,\n",
    "#                   daily_seasonality = True,\n",
    "#                   changepoint_prior_scale = 0.5) => 트렌드가 변경되는 문맥을 반영하는 파라미터. 수치가 높을수록 모델은 과적합에 가까워짐.\n",
    "# prophet.fit(df) => 모델을 학습시킴\n",
    "# future_data = prophet.make_future_dataframe(periods = i, freq = \"D\"( or \"M\")) => day(혹은 month)를 기준으로 앞으로의 i일(개월)의 데이터프레임 생성\n",
    "# forecast_data = prophet.predict(future_data) => future_data를 학습시킴 => future_data를 기반으로 예측 데이터 생성\n",
    "# prophet.plot(forecast_data) => 전체적인 경향성을 띤 그래프 생성\n",
    "# propeht.plot_components(forecast_data) => year, week, day 각각의 경향을 보여주는 그래프 생성"
   ]
  },
  {
   "cell_type": "markdown",
   "id": "50a57958",
   "metadata": {},
   "source": [
    "- SVD 모델(추천 모델)"
   ]
  },
  {
   "cell_type": "code",
   "execution_count": null,
   "id": "2a7eaaaf",
   "metadata": {},
   "outputs": [],
   "source": [
    "# https://velog.io/@gjtang/%ED%8C%8C%EC%9D%B4%EC%8D%AC-%EB%A8%B8%EC%8B%A0%EB%9F%AC%EB%8B%9D-%EC%99%84%EB%B2%BD-%EA%B0%80%EC%9D%B4%EB%93%9C-Section9 => SVD 설명 블로그\n",
    "# from surprise import SVD, Dataset, Reader, accuracy\n",
    "# from surprise.model_selection impot train_test_split\n",
    "# reader = Reader(rating_scale = (1, 5)) => 평점이 1~5점 사이\n",
    "# data = Dataset.loading_from_df(rating_data[[\"a\", \"b\", \"c\"]], reader = reader) => rating_data의 a, b, c열의 데이터를 가져옴\n",
    "# train_data = data.build_full_trainset() / train_data, test_data = train_test_split(data, test_size = 0.2)\n",
    "# model = SVD(n_factors = i, => 잠재요인 k의 수. 디폴트는 100. 커질수록 정확도가 높아질 수 있으나 과적합 문제가 발생할 수 있음\n",
    "#             lr_all = 0.005, => 학습률\n",
    "#             reg_all = 0.02, => 정규화 항\n",
    "#             n_epochs = 100) => SGD 수행 시 반복 횟수, 디폴트는 20\n",
    "# model.fit(train_data) => train_data를 model로 학습\n",
    "# model.test(test_data) => 예측 평점들을 생성\n",
    "# accuracy.rmse(predictions) => predictions(예측평점들)의 rmse 수치를 출력"
   ]
  },
  {
   "cell_type": "markdown",
   "id": "e33c2d85",
   "metadata": {},
   "source": [
    "# chapter_4 함수정리"
   ]
  },
  {
   "cell_type": "code",
   "execution_count": 15,
   "id": "362e2808",
   "metadata": {},
   "outputs": [],
   "source": [
    "# df.sample(50, random_state = 30) => 동일한 결과를 재현할 수 있게 하면서 무작위로 50개의 샘플을 df 데이터프레임에서 가져옴\n",
    "# sorted(((value, index)) for index, value in enumerate(a)) => 리스트 a에서 value, index를 출력하는데 value 기준으로 오름차순으로 출력\n",
    "# invert_index_vectorizer = {v: k for k, v in index_vectorizer.vocabulary_.items()}"
   ]
  },
  {
   "cell_type": "markdown",
   "id": "400166a7",
   "metadata": {},
   "source": [
    "- Shapiro-wilk 검정"
   ]
  },
  {
   "cell_type": "code",
   "execution_count": null,
   "id": "d186c82c",
   "metadata": {},
   "outputs": [],
   "source": [
    "# 주어진 데이터의 정규성 검정\n",
    "# print(\"The w-statistic and p-value in Survived %.3f and %.3f\" % stats.shapiro(df[\"a\"])) => df 데이터프레임에서 \"a\"열에 대한 정규성 검정을 해줌"
   ]
  },
  {
   "cell_type": "markdown",
   "id": "f8cfa28c",
   "metadata": {},
   "source": [
    "- 로지스틱 회귀 모델\n",
    "    - 기존 회귀 분석의 예측값 y를 0~1 사이의 값으로 제한하여 0.5보다 크면 1, 0.5보다 작으면 0이라고 분류하는 방법\n",
    "    - 결측값이 존재하는 피처를 전처리해야 함\n",
    "        - 1. 결측이 존재하는 데이터들을 삭제하는 방법\n",
    "        - 2. 평균값, 중앙값, 최빈값 등의 임의의 수치로 채워 넣는 방법"
   ]
  },
  {
   "cell_type": "code",
   "execution_count": 3,
   "id": "2061ed6e",
   "metadata": {},
   "outputs": [],
   "source": [
    "# from sklearn.linear_model import LogisticRegression\n",
    "# from sklearn.metrics import confusion_matrix\n",
    "# x_train, y_train = df_train.ioc[:, df_train.columns != \"a\"].values, df_train[\"a\"].values => 학습데이터 생성\n",
    "# x_test, y_test = df_test.ioc[:, df_test.columns != \"a\"].values, df_test[\"a\"].values => 테스트데이터 생성\n",
    "# lr = LogisticRegression(random_state = 0)\n",
    "# lr.fit(x_train, y_train) => 모델을 생성한 후 학습데이터들로 모델 학습\n",
    "# y_pred = lr.predict(x_test) => 학습한 모델로 예측 데이터 생성\n",
    "# y_pred_probability = lr.predict_proba(x_test)[:, 1] => 예측 데이터들을 확률 값으로 반환"
   ]
  },
  {
   "cell_type": "markdown",
   "id": "d97cb5a0",
   "metadata": {},
   "source": [
    "- 로지스틱 회귀모델\n",
    "    - 정확도, 정밀도, 재현도, f1 score"
   ]
  },
  {
   "cell_type": "code",
   "execution_count": null,
   "id": "6086b140",
   "metadata": {},
   "outputs": [],
   "source": [
    "# from sklearn.metrics import accuracy_score, precision_score, recall_score, f1_score => 정확도, 정밀도, 재현도, 정밀도와 재현도의 조화 평균값\n",
    "# print(\"Accuracy: %.2f\" % accuracy_score(y_test, y_pred)) => 실제 데이터와 예측 데이터 간의 정확도\n",
    "# print(\"Precision: %.3f\" % precision_score(y_test, y_pred)) => 실제 데이터와 예측 데이터 간의 정밀도\n",
    "# print(\"Recall: %.3f\" % recall_score(y_test, y_pred)) => 실제 데이터와 예측 데이터 간의 재현도\n",
    "# print(\"F1: %.3f\" % f1_score(y_test, y_pred)) => 실제 데이터와 예측 데이터 간의 f1 score"
   ]
  },
  {
   "cell_type": "markdown",
   "id": "e40582ef",
   "metadata": {},
   "source": [
    "- 로지스틱 회귀모델\n",
    "    - confusion_matrix"
   ]
  },
  {
   "cell_type": "code",
   "execution_count": 2,
   "id": "e70b7bb4",
   "metadata": {},
   "outputs": [],
   "source": [
    "# from sklearn.metrics import confusion_matrix\n",
    "# confmat = confusion_matrix(y_true = y_test, y_pred = y_pred) => 실제 데이터와 예측 데이터를 비교하여 잘 분류되었는지 보여줌"
   ]
  },
  {
   "cell_type": "markdown",
   "id": "af3f25ae",
   "metadata": {},
   "source": [
    "- 로지스틱 회귀모델\n",
    "    - AUC score"
   ]
  },
  {
   "cell_type": "code",
   "execution_count": null,
   "id": "cde0f375",
   "metadata": {},
   "outputs": [],
   "source": [
    "# from sklearn.metrics import roc_curve, roc_auc_score\n",
    "# false_positive_rate, true_positive_rate, thresholds = roc_curve(y_test, y_pred_probability) => 실제 0인 값을 1로 예측한 비율, 실제 1인 값을 1로 예측한 비율\n",
    "# roc_auc = roc_auc_score(y_test, y_pred_probability) => 종합적인 모델의 성능을 나타내줌\n",
    "# plt.plot(false_positive_rate, true_positive_rate, color = \"red\", linewidth = 4.0) => AUC score에 대한 그래프 출력\n",
    "# plt.plot([0, 1], [0, 1], \"k--\") => (0, 0) ~ (1, 1) 범위까지 검은색의 점선 생성\n",
    "# print(\"AUC: %.3f\" % roc_auc)"
   ]
  },
  {
   "cell_type": "markdown",
   "id": "830ea4ec",
   "metadata": {},
   "source": [
    "- 의사결정 나무\n",
    "    - 피처 단위로 조건을 분기하여 정답의 집합을 좁혀나가는 방법. 마치 스무고개 놀이에서 정답을 찾아 나가는 과정과 유사"
   ]
  },
  {
   "cell_type": "code",
   "execution_count": 5,
   "id": "ad431b61",
   "metadata": {},
   "outputs": [],
   "source": [
    "# from sklearn.tree import DecisionTreeClassifier\n",
    "# dtc = DecisionTreeClassifier()\n",
    "# dtc.fit(x_train, y_train)\n",
    "# y_pred = dtc.predict(x_test)\n",
    "# y_pred_probability = dtc.predict_proba(x_test)[:, 1]"
   ]
  },
  {
   "cell_type": "markdown",
   "id": "a4582aeb",
   "metadata": {},
   "source": [
    "- K-fold 교차검증(모델 과적합 여부 검증)\n",
    "    - 학습 데이터셋과 테스트 데이터셋을 나눌 때, 불균등하게 나눠졌을 가능성이 있음. 이에 대한 가능성을 낮춰주는 방법\n",
    "    - 모델 분할 검증을 k번 반복.\n",
    "    - 만약 이 k번의 검증 과정에서 테스트 점수 간의 차이가 크지 않다면 모델은 과적합이 일어났을 가능성이 낮은 것임"
   ]
  },
  {
   "cell_type": "code",
   "execution_count": 6,
   "id": "e042af93",
   "metadata": {},
   "outputs": [],
   "source": [
    "# from sklearn.model_selection import KFold\n",
    "# k = 5\n",
    "# cv = KFold(k,\n",
    "#           shuffle = True, => 데이터셋을 섞어서 분할\n",
    "#           random_state = 0)\n",
    "# auc_history = []\n",
    "\n",
    "# K-fold를 5번 분할 학습으로 반복\n",
    "# for i, (train_data_row, test_data_row) in enumerate(cv.split(whole_df_encoded)):\n",
    "     # 5개로 분할된 fold 중 4개를 학습 데이터셋, 1개를 테스트 데이터셋으로 지정함. 매 반복시마다, 테스트 데이터셋은 변경됨.\n",
    "#    df_train = whole_df_encoded.iloc[train_data_row]\n",
    "#    df_test = whole_df_encoded.iloc[test_data_row]\n",
    "#\n",
    "     # survived 피처를 y, 나머지 피처들을 x 데이터로 지정\n",
    "#    splited_x_train, splited_y_train = df_train.loc[:, df_train.columns != \"survived\"].values, df_train[\"survived\"].values\n",
    "#    splited_x_test, splited_y_test = df_test.loc[:, df_test.columns != \"survived\"].values, df_test[\"survived\"].values\n",
    "#\n",
    "     # 주어진 데이터로 로지스틱 회귀모델을 학습\n",
    "#    lr = LogisticRegression(random_state = 0)\n",
    "#    lr.fit(splited_x_train, splited_y_train)\n",
    "#    y_pred = lr.predict(splited_x_test)\n",
    "#    y_pred_probability = lr.predict_proba(splited_x_test)[:, 1]\n",
    "#\n",
    "     # 테스트 데이터셋의 AUC를 계산하여 auc_history에 저장\n",
    "#    false_positive_rate, true_positive_rate, thresholds = roc_curve(splited_y_test, y_pred_probability)\n",
    "#    roc_auc = roc_auc_score(splited_y_test, y_pred_probability)\n",
    "#    auc_history.append(roc_auc)\n",
    "\n",
    "# plt.plot(range(1, k + 1), auc_history)"
   ]
  },
  {
   "cell_type": "markdown",
   "id": "39f98150",
   "metadata": {},
   "source": [
    "- 학습 곡선\n",
    "    - 학습 데이터 개수에 따른 학습데이터와 테스트데이터 사이의 스코어 차이를 보여줌\n",
    "    - 차이가 많이 날수록 과적합"
   ]
  },
  {
   "cell_type": "code",
   "execution_count": null,
   "id": "c599d73b",
   "metadata": {},
   "outputs": [],
   "source": [
    "# import scikitplot as skplt\n",
    "# skplt.estimators.plot_learning_curve(lr, x_train, y_train) "
   ]
  },
  {
   "cell_type": "markdown",
   "id": "81d81da3",
   "metadata": {},
   "source": [
    "- 텍스트 전처리\n",
    "    - https://kibua20.tistory.com/199"
   ]
  },
  {
   "cell_type": "code",
   "execution_count": 2,
   "id": "fbcc6338",
   "metadata": {},
   "outputs": [],
   "source": [
    "# import re\n",
    "# hangul = re.compile('[^ ㄱ-ㅣ가-힣]+') => 한글 패턴\n",
    "# re.sub(pattern = hangul, repl = \"\", text) => text에서 한글이 아닌 것들을 \"\"로 치환"
   ]
  },
  {
   "cell_type": "markdown",
   "id": "a6ddf070",
   "metadata": {},
   "source": [
    "- 형태소 단위 추출(konlpy Okt)"
   ]
  },
  {
   "cell_type": "code",
   "execution_count": null,
   "id": "8663c8b5",
   "metadata": {},
   "outputs": [],
   "source": [
    "# from konlpy.tag import Okt\n",
    "# tagger = Okt()\n",
    "# pos = tagger.pos(x) => 문장 내에서 각 단어에 대한 품사를 태깅해줌\n",
    "# nouns = tagger.nouns(x) => 문자 내에서 명사를 태깅해줌"
   ]
  },
  {
   "cell_type": "markdown",
   "id": "82e36370",
   "metadata": {},
   "source": [
    "- 형태소들을 학습 데이터셋으로 변환"
   ]
  },
  {
   "cell_type": "code",
   "execution_count": 12,
   "id": "7e0bb02c",
   "metadata": {},
   "outputs": [],
   "source": [
    "# from sklearn.feature_extraction.text import CountVectorizer\n",
    "# index_vectorizer = CountVectorizer(tokenizer = 텍스트 전처리 방식)\n",
    "# X = index_vectorizer.fit_transform(a) => a를 어떠한 텍스트 전처리 방식으로 형태소를 학습 데이터셋으로 생성\n",
    "# str(index_vectorizer.vocabulary_) => 말뭉치를 출력"
   ]
  },
  {
   "cell_type": "markdown",
   "id": "69831347",
   "metadata": {},
   "source": [
    "- TF-IDF\n",
    "    - 다른 문서들에서는 등장하지 않았지만 현재 문서에서는 많이 등장하는 단어를 의미\n",
    "    - 그 단어가 현재 단서에서 얼마나 중요한지를 피처로 나타낼 수 있는 방법"
   ]
  },
  {
   "cell_type": "code",
   "execution_count": 13,
   "id": "12dbfd66",
   "metadata": {},
   "outputs": [],
   "source": [
    "# from sklearn.feature_extraction.text import TfidfTransformer\n",
    "# tfidf_vectorizer = TfidfTransformer()\n",
    "# x = tfidf_vectorizer.fit_transform(a) => a에 대한 TF-IDF 수치를 생성"
   ]
  },
  {
   "attachments": {},
   "cell_type": "markdown",
   "id": "b6623679",
   "metadata": {},
   "source": [
    "# chapter_5 함수정리"
   ]
  },
  {
   "attachments": {},
   "cell_type": "markdown",
   "id": "c84955a9",
   "metadata": {},
   "source": [
    "- Class: 반복되는 불필요한 소스 코드를 최소화하면서 현실 세계의 사물을 컴퓨터 프로그래밍 상에서 쉽게 표현할 수 있도록 해주는 프로그래밍 기술\n",
    "    - 인스턴스: 클래스로 정의된 객체를 프로그램 상에서 이용할 수 있게 만든 변수\n",
    "    - 클래스의 멤버: 클래스 내부에 포함되는 변수\n",
    "    - 클래스의 함수: 클래스 내부에 포홤되는 함수. 메소드라고 부름.\n",
    "    - 상속: 다른 클래스의 멤버 변수와 메소드를 물려 받아 사용하는 기법\n",
    "        - 부모와 자식 관계가 존재\n",
    "        - 자식 클래스: 부모 클래스를 상속 받은 클래스"
   ]
  },
  {
   "cell_type": "code",
   "execution_count": 3,
   "id": "2231a4ca",
   "metadata": {},
   "outputs": [
    {
     "name": "stdout",
     "output_type": "stream",
     "text": [
      "자동차 종류: 소나타 / 색깔: 검은색\n",
      "홍길동 이(가) 공격을 수행합니다. [전투력: 375 ]\n"
     ]
    }
   ],
   "source": [
    "class Car:\n",
    "    # 클래스 생성자\n",
    "    def __init__(self, name, color): # 매개변수 self를 기본적으로 가짐, Car라는 특징을 정의(name, color)\n",
    "        self.name = name # 클래스의 멤버\n",
    "        self.color = color # 클래스의 멤버\n",
    "    # 클래스의 메소드\n",
    "    def show_info(self):\n",
    "        print(\"자동차 종류:\", self.name, \"/ 색깔:\", self.color)\n",
    "\n",
    "car1 = Car(\"소나타\", \"검은색\")\n",
    "car1.show_info()\n",
    "\n",
    "class Unit:\n",
    "    def __init__(self, name, power):\n",
    "        self.name = name\n",
    "        self.power = power\n",
    "    def attack(self):\n",
    "        print(self.name, \"이(가) 공격을 수행합니다. [전투력:\", self.power, \"]\")\n",
    "\n",
    "unit1 = Unit(\"홍길동\", \"375\")\n",
    "unit1.attack()"
   ]
  },
  {
   "attachments": {},
   "cell_type": "markdown",
   "id": "61820777",
   "metadata": {},
   "source": []
  }
 ],
 "metadata": {
  "kernelspec": {
   "display_name": "Python 3.8.15 ('yang_conda')",
   "language": "python",
   "name": "python3"
  },
  "language_info": {
   "codemirror_mode": {
    "name": "ipython",
    "version": 3
   },
   "file_extension": ".py",
   "mimetype": "text/x-python",
   "name": "python",
   "nbconvert_exporter": "python",
   "pygments_lexer": "ipython3",
   "version": "3.8.15"
  },
  "toc": {
   "base_numbering": 1,
   "nav_menu": {},
   "number_sections": true,
   "sideBar": true,
   "skip_h1_title": false,
   "title_cell": "Table of Contents",
   "title_sidebar": "Contents",
   "toc_cell": false,
   "toc_position": {},
   "toc_section_display": true,
   "toc_window_display": false
  },
  "vscode": {
   "interpreter": {
    "hash": "52c978c14acf5f637cf647b0b291a2b8a626b2be490b9270ac09acb4761bcaa5"
   }
  }
 },
 "nbformat": 4,
 "nbformat_minor": 5
}
