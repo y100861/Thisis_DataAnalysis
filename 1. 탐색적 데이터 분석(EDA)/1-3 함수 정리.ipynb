{
 "cells": [
  {
   "cell_type": "markdown",
   "id": "5033b18d",
   "metadata": {},
   "source": [
    "- 파일 csv로 불러오기 => pd.read_csv(파일 경로)\n",
    "- .unique() => 범주형 피처의 개수 출력\n",
    "- .value_counts() => 개수가 많은 순대로 출력\n",
    "- .iteritems() => (key, value_countsue)식의 리스트를 출력\n",
    "- groupby(\"item name\")[\"order_id\"].count() => \"item name\"피처를 기준으로 그룹을 생성하고 각 아이템별 몇 개의 주문이 발생하였는지\n",
    "- .tolist() => OO를 리스트로 만들어줌.\n",
    "- np.arange(숫자) => range(숫자)랑 비슷함\n",
    "- .apply() => 어떠한 피처의 값을 다른 값으로 바꿀 수 있음.(전처리 작업)\n",
    "- .sort_values(by = \"\", ascending = False) => 어떠한 피처를 기준으로 정렬 시켜줌.(내림차순으로)\n",
    "- .drop_duplicates([\"item_name\", \"order_id\"]) => (item_name, order_id)의 중복 항목을 제거해줌\n",
    "                                              => (1, 1) (1, 2) (1, 1) -> (1, 1) (1, 2)\n",
    "- corr = drinks[[\"beer_servings\", \"wine_servings\"]].corr(method = \"pearson\") => 피처 간의 상관계수 구하기\n",
    "- sns.heatmap(corr.values,\n",
    "            cbar = True,\n",
    "            annot = True, => 숫자 출력\n",
    "            fmt = \".2f\", => 숫자 소수점 둘 째 자리까지 출력\n",
    "            annot_kws = {\"size\": 15}, => 숫자 크기 수정\n",
    "            yticklabels = cols_view, => y축 이름 수정\n",
    "            xticklabels = cols_view => x축 이름 수정) \n",
    "- sns.set(sytle = \"\", text = \"\", font_scale = 1.5) => 그래프 스타일, 텍스트, 폰트 크기 수정\n",
    "- .fillna(\"OT\") => 결측치 값들을 OT로 변환\n",
    "- plt.bar(x축, y축, bar_width,\n",
    "         color = \"\"\n",
    "         label = \"Mean\", => 범례 이름 설정)\n",
    "- bar_list[어떤 x축 순서].set_color(\"\") => bar_list 그래프 어떤 x축의 색깔을 수정\n",
    "- plt.plot([x축 범위], [y축 범위], \"k--\") => 그래프에 정해진 x축 y축 범위에서 검은색 점선 생성\n",
    "- plt.xticks(x_pos, continents) => x_pos로 되어 있는 x축 이름을 continents리스트의 원소들로 변환\n",
    "- plt.axis([0, 200, 0, 0.3]) => x축 범위 0~200, y축 범위 0~0.3으로 수정\n",
    "- plt.annotate(\"South Korea: \" + str(south_korea + 1), => \"South Korea: 15\"를 그래프에 추가\n",
    "              xy = (x, y), => (x, y) 방향으로 화살표 방향 설정\n",
    "              xytext = (x + 10, y + 0.05), => (x + 10, y + 0.05)위치에 화살표 생성\n",
    "              arrowprops = dict(facecolor =\"\", shrink = 0.5) => 화살표 색 설정)\n",
    "- plt.pie(수치값,\n",
    "         explode = [0, 0, 0, 0.25, 0, 0], => 4번째 파이가 0.25만큼 튀어나오도록 함\n",
    "         autopct = \"%.0f%%\", => 소수점 0 째 자리까지 %붙여서 출력\n",
    "         shadow = True => 파이 차트 그림자 출력)\n",
    "- .agg([\"mean\", \"min\", \"max\", \"sum\"]) => 그룹(.groupby(\"\"))에 대한 여러 가지 연산 결과를 동시에 얻을 수 있음.\n",
    "- .idxmax() => 가장 값이 큰 인덱스를 출력\n",
    "- stats.ttest_ind(africa[\"beer_serving\"], europe[\"beer_serving\"], equal_var = True)\n",
    "   => africa의 beer_serving 열과 europe의 beer_serving열 간의 t검정(동분산 가정 O)"
   ]
  },
  {
   "cell_type": "markdown",
   "id": "e0d5e8c5",
   "metadata": {},
   "source": []
  }
 ],
 "metadata": {
  "kernelspec": {
   "display_name": "Python 3.10.5 64-bit",
   "language": "python",
   "name": "python3"
  },
  "language_info": {
   "codemirror_mode": {
    "name": "ipython",
    "version": 3
   },
   "file_extension": ".py",
   "mimetype": "text/x-python",
   "name": "python",
   "nbconvert_exporter": "python",
   "pygments_lexer": "ipython3",
   "version": "3.10.5"
  },
  "toc": {
   "base_numbering": 1,
   "nav_menu": {},
   "number_sections": true,
   "sideBar": true,
   "skip_h1_title": false,
   "title_cell": "Table of Contents",
   "title_sidebar": "Contents",
   "toc_cell": false,
   "toc_position": {},
   "toc_section_display": true,
   "toc_window_display": false
  },
  "vscode": {
   "interpreter": {
    "hash": "aee8b7b246df8f9039afb4144a1f6fd8d2ca17a180786b69acc140d282b71a49"
   }
  }
 },
 "nbformat": 4,
 "nbformat_minor": 5
}
