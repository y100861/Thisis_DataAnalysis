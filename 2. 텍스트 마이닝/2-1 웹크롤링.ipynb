{
 "cells": [
  {
   "cell_type": "markdown",
   "id": "a81ed91b",
   "metadata": {},
   "source": [
    "# 페이지의 URL 정보 추출하기"
   ]
  },
  {
   "cell_type": "code",
   "execution_count": 11,
   "id": "d84faecf",
   "metadata": {
    "ExecuteTime": {
     "end_time": "2022-11-26T13:56:37.660902Z",
     "start_time": "2022-11-26T13:56:37.655488Z"
    }
   },
   "outputs": [],
   "source": [
    "from selenium import webdriver\n",
    "from bs4 import BeautifulSoup\n",
    "import re"
   ]
  },
  {
   "cell_type": "code",
   "execution_count": 12,
   "id": "0d60cd81",
   "metadata": {
    "ExecuteTime": {
     "end_time": "2022-11-26T13:56:38.169946Z",
     "start_time": "2022-11-26T13:56:38.161618Z"
    }
   },
   "outputs": [],
   "source": [
    "# brew로 설치된 chromedriver의 path\n",
    "path = \"/Users/yanghaejun/homebrew/Caskroom/chromedriver/107.0.5304.62/chromedriver\""
   ]
  },
  {
   "cell_type": "code",
   "execution_count": 57,
   "id": "8086b05a",
   "metadata": {
    "ExecuteTime": {
     "end_time": "2022-11-26T14:59:07.470112Z",
     "start_time": "2022-11-26T14:59:07.457875Z"
    }
   },
   "outputs": [],
   "source": [
    "# 크롤링 할 사이트 주소를 정의\n",
    "source_url = \"https://m.sports.naver.com/qatar2022/news/index\""
   ]
  },
  {
   "cell_type": "code",
   "execution_count": 59,
   "id": "c739896a",
   "metadata": {
    "ExecuteTime": {
     "end_time": "2022-11-26T14:59:16.056227Z",
     "start_time": "2022-11-26T14:59:14.832908Z"
    }
   },
   "outputs": [
    {
     "name": "stderr",
     "output_type": "stream",
     "text": [
      "/var/folders/79/v97_0rqs3p34z9xx6y57xks80000gn/T/ipykernel_1831/2362576081.py:3: DeprecationWarning: executable_path has been deprecated, please pass in a Service object\n",
      "  driver = webdriver.Chrome(path)\n"
     ]
    }
   ],
   "source": [
    "# 크롬 드라이버를 사용\n",
    "# driver = webdriver.Chrome(path)\n",
    "driver = webdriver.Chrome(path)"
   ]
  },
  {
   "cell_type": "code",
   "execution_count": 60,
   "id": "ac766b7e",
   "metadata": {
    "ExecuteTime": {
     "end_time": "2022-11-26T14:59:22.970344Z",
     "start_time": "2022-11-26T14:59:21.909384Z"
    }
   },
   "outputs": [],
   "source": [
    "# 드라이버가 브라우징 할 페이지 소스를 입력\n",
    "driver.get(source_url)\n",
    "req = driver.page_source"
   ]
  },
  {
   "cell_type": "code",
   "execution_count": 89,
   "id": "1ca17014",
   "metadata": {
    "ExecuteTime": {
     "end_time": "2022-11-26T15:36:30.400629Z",
     "start_time": "2022-11-26T15:36:30.368659Z"
    }
   },
   "outputs": [
    {
     "name": "stdout",
     "output_type": "stream",
     "text": [
      "[]\n"
     ]
    }
   ],
   "source": [
    "# 사이트의 html 구조에 기반하여 데이터를 파싱\n",
    "soup = BeautifulSoup(req, \"html.parser\")\n",
    "content_div = soup.find(\"div\", {\"class\": \"News_main_section__1b-Va\"})\n",
    "content_uls = content_div.find(\"ul\", {\"class\": \"News_news_list__3_uUk\"})\n",
    "content_li = content_ul.find_all(\"li\", {\"class\": \"News_news_item__2prgi\"})\n",
    "print(content_li)"
   ]
  },
  {
   "cell_type": "code",
   "execution_count": 55,
   "id": "200cdab7",
   "metadata": {
    "ExecuteTime": {
     "end_time": "2022-11-26T14:44:45.046264Z",
     "start_time": "2022-11-26T14:44:45.027761Z"
    }
   },
   "outputs": [],
   "source": [
    "# a 태그의 href 속성을 리스트로 추출하여 크롤링할 페이지 리스트를 생성\n",
    "page_url_base = \"https://namu.wiki\"\n",
    "page_urls = []\n",
    "for index in range(0, len(table_rows)):\n",
    "    first_td = table_rows[index].find_all(\"td\")[0]\n",
    "    td_url = first_td.find_all(\"a\")\n",
    "    if len(td_url) > 0:\n",
    "        page_url = page_url_base + td_url[0].get(\"href\")\n",
    "        if \"png\" not in page_url:\n",
    "            page_urls.append(page_url)"
   ]
  },
  {
   "cell_type": "code",
   "execution_count": 51,
   "id": "953215a1",
   "metadata": {
    "ExecuteTime": {
     "end_time": "2022-11-26T14:42:40.754153Z",
     "start_time": "2022-11-26T14:42:40.746556Z"
    }
   },
   "outputs": [
    {
     "name": "stdout",
     "output_type": "stream",
     "text": [
      "https://namu.wiki/w/%EC%99%80%EB%9D%BC%EC%BF%A0%20%EC%B9%98%EC%84%B8\n",
      "https://namu.wiki/w/%ED%95%99%EA%B5%90%EA%B2%8C%EC%9E%84\n",
      "https://namu.wiki/w/%EC%95%84%EC%82%B0%EC%8B%9C%20%EC%8B%9C%EB%82%B4%EB%B2%84%EC%8A%A4\n"
     ]
    }
   ],
   "source": [
    "# 중복 url을 제거\n",
    "page_urls = list(set(page_urls))\n",
    "for page in page_urls[:3]:\n",
    "    print(page)"
   ]
  },
  {
   "cell_type": "code",
   "execution_count": 39,
   "id": "49f5e0be",
   "metadata": {
    "ExecuteTime": {
     "end_time": "2022-11-26T14:31:35.221439Z",
     "start_time": "2022-11-26T14:31:35.120023Z"
    }
   },
   "outputs": [
    {
     "name": "stdout",
     "output_type": "stream",
     "text": [
      "None\n"
     ]
    }
   ],
   "source": [
    "# 하나의 '최근 변경된 문서'를 크롤링\n",
    "driver.get(page_urls[0])\n",
    "req = driver.page_source\n",
    "soup = BeautifulSoup(req, \"html.parser\")\n",
    "contents_table = soup.find(name = \"theseed-dark-mode\")\n",
    "print(contents_table)"
   ]
  },
  {
   "cell_type": "code",
   "execution_count": 40,
   "id": "d1772fa0",
   "metadata": {
    "ExecuteTime": {
     "end_time": "2022-11-26T14:31:36.374758Z",
     "start_time": "2022-11-26T14:31:36.347936Z"
    }
   },
   "outputs": [
    {
     "ename": "AttributeError",
     "evalue": "'NoneType' object has no attribute 'find_all'",
     "output_type": "error",
     "traceback": [
      "\u001b[0;31m---------------------------------------------------------------------------\u001b[0m",
      "\u001b[0;31mAttributeError\u001b[0m                            Traceback (most recent call last)",
      "Input \u001b[0;32mIn [40]\u001b[0m, in \u001b[0;36m<cell line: 1>\u001b[0;34m()\u001b[0m\n\u001b[0;32m----> 1\u001b[0m title \u001b[38;5;241m=\u001b[39m \u001b[43mcontents_table\u001b[49m\u001b[38;5;241;43m.\u001b[39;49m\u001b[43mfind_all\u001b[49m(\u001b[38;5;124m'\u001b[39m\u001b[38;5;124mh1\u001b[39m\u001b[38;5;124m'\u001b[39m)[\u001b[38;5;241m0\u001b[39m]\n\u001b[1;32m      2\u001b[0m category \u001b[38;5;241m=\u001b[39m contents_table\u001b[38;5;241m.\u001b[39mfind_all(\u001b[38;5;124m'\u001b[39m\u001b[38;5;124mul\u001b[39m\u001b[38;5;124m'\u001b[39m)[\u001b[38;5;241m0\u001b[39m]\n\u001b[1;32m      3\u001b[0m content_paragraphs \u001b[38;5;241m=\u001b[39m contents_table\u001b[38;5;241m.\u001b[39mfind_all(name \u001b[38;5;241m=\u001b[39m \u001b[38;5;124m\"\u001b[39m\u001b[38;5;124mdiv\u001b[39m\u001b[38;5;124m\"\u001b[39m, attr \u001b[38;5;241m=\u001b[39m {\u001b[38;5;124m\"\u001b[39m\u001b[38;5;124mclass\u001b[39m\u001b[38;5;124m\"\u001b[39m: \u001b[38;5;124m\"\u001b[39m\u001b[38;5;124m824bdff0\u001b[39m\u001b[38;5;124m\"\u001b[39m})\n",
      "\u001b[0;31mAttributeError\u001b[0m: 'NoneType' object has no attribute 'find_all'"
     ]
    }
   ],
   "source": [
    "title = contents_table.find_all('h1')[0]\n",
    "category = contents_table.find_all('ul')[0]\n",
    "content_paragraphs = contents_table.find_all(name = \"div\", attr = {\"class\": \"824bdff0\"})\n",
    "content_corpus_list = []\n",
    "\n",
    "for paragraphs in content_paragraphs:\n",
    "    content_corpus_list.append(paragraphs.titleext)\n",
    "content_corpus = \"\".join(content_corpus_list)\n",
    "\n",
    "print(title.text)\n",
    "print()\n",
    "print(category.text)\n",
    "print()\n",
    "print(content_corpus)"
   ]
  },
  {
   "cell_type": "code",
   "execution_count": null,
   "id": "c282316a",
   "metadata": {},
   "outputs": [],
   "source": []
  }
 ],
 "metadata": {
  "kernelspec": {
   "display_name": "Python 3 (ipykernel)",
   "language": "python",
   "name": "python3"
  },
  "language_info": {
   "codemirror_mode": {
    "name": "ipython",
    "version": 3
   },
   "file_extension": ".py",
   "mimetype": "text/x-python",
   "name": "python",
   "nbconvert_exporter": "python",
   "pygments_lexer": "ipython3",
   "version": "3.9.13"
  },
  "toc": {
   "base_numbering": 1,
   "nav_menu": {},
   "number_sections": true,
   "sideBar": true,
   "skip_h1_title": false,
   "title_cell": "Table of Contents",
   "title_sidebar": "Contents",
   "toc_cell": false,
   "toc_position": {},
   "toc_section_display": true,
   "toc_window_display": false
  }
 },
 "nbformat": 4,
 "nbformat_minor": 5
}
