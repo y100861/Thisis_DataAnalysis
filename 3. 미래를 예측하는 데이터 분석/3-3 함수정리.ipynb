{
 "cells": [
  {
   "cell_type": "markdown",
   "metadata": {},
   "source": [
    "- plt.rcParams[\"figure.figsize\"] = (14,4) => (가로, 세로) 그림의 크기\n",
    "- plt.rcParams['lines.linewidth'] = 2 => 선의 두께\n",
    "- plt.rcParams['lines.color'] = 'r' => 빨간색\n",
    "- plt.rcParams['axes.grid'] = True => 격자 생성"
   ]
  }
 ],
 "metadata": {
  "kernelspec": {
   "display_name": "Python 3.9.13 ('pybook')",
   "language": "python",
   "name": "python3"
  },
  "language_info": {
   "name": "python",
   "version": "3.9.13"
  },
  "orig_nbformat": 4,
  "vscode": {
   "interpreter": {
    "hash": "917c9a4eb13275d5ec406dd71d94180d14a834d76f565734363a6dc68488e139"
   }
  }
 },
 "nbformat": 4,
 "nbformat_minor": 2
}
