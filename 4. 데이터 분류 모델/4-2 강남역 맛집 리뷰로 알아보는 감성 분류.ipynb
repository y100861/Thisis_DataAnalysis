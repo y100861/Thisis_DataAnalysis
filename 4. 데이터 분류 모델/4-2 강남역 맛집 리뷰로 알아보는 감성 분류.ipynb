{
 "cells": [
  {
   "cell_type": "markdown",
   "metadata": {},
   "source": [
    "# 4-2 강남역 맛집 리뷰로 알아보는 감성 분류"
   ]
  },
  {
   "cell_type": "markdown",
   "metadata": {},
   "source": [
    "## 크롤링: 카카오맵 리뷰 크롤링"
   ]
  },
  {
   "cell_type": "markdown",
   "metadata": {},
   "source": [
    "### [카카오맵 검색 결과로 나오는 고기집 상세페이지 url 정보 구하기]"
   ]
  },
  {
   "cell_type": "code",
   "execution_count": 3,
   "metadata": {},
   "outputs": [],
   "source": [
    "# -*- coding: utf-8 -*-\n",
    "%matplotlib inline\n",
    "\n",
    "import pandas as pd\n",
    "import numpy as np\n",
    "import matplotlib.pyplot as plt\n",
    "import seaborn as sns\n",
    "import warnings\n",
    "warnings.filterwarnings(\"ignore\")\n",
    "\n",
    "from selenium import webdriver\n",
    "from bs4 import BeautifulSoup\n",
    "import re"
   ]
  },
  {
   "cell_type": "code",
   "execution_count": 11,
   "metadata": {},
   "outputs": [
    {
     "name": "stdout",
     "output_type": "stream",
     "text": [
      "https://place.map.kakao.com/95713992\n",
      "https://place.map.kakao.com/2011092566\n",
      "https://place.map.kakao.com/741391811\n",
      "https://place.map.kakao.com/1503746075\n",
      "https://place.map.kakao.com/1052874675\n",
      "https://place.map.kakao.com/168079537\n",
      "https://place.map.kakao.com/1648266796\n",
      "https://place.map.kakao.com/27238067\n",
      "https://place.map.kakao.com/26573718\n",
      "https://place.map.kakao.com/263830255\n",
      "https://place.map.kakao.com/1511737742\n",
      "https://place.map.kakao.com/1780387311\n",
      "https://place.map.kakao.com/56929632\n",
      "https://place.map.kakao.com/27511865\n",
      "https://place.map.kakao.com/1907052666\n"
     ]
    }
   ],
   "source": [
    "import time\n",
    "from selenium.webdriver.common.by import By\n",
    "\n",
    "# brew로 설치된 chromedriver의 path (Mac)\n",
    "path = \"/Users/yanghaejun/opt/homebrew/Caskroom/chromedriver/chromedriver_mac64/chromedriver\"\n",
    "\n",
    "# 크롤링할 사이트 주소 정의\n",
    "source_url = \"https://map.kakao.com/\"\n",
    "\n",
    "# 크롬드라이버 사용\n",
    "driver = webdriver.Chrome(path)\n",
    "\n",
    "# 카카오 지도에 접속\n",
    "driver.get(source_url)\n",
    "\n",
    "# 검색창에 검색어를 입력함\n",
    "searchbox = driver.find_element(By.XPATH, \"//input[@id='search.keyword.query']\")\n",
    "searchbox.send_keys(\"강남역 고기집\")\n",
    "\n",
    "# 검색버튼을 눌러서 결과를 가져옴\n",
    "searchbutton = driver.find_element(By.XPATH, \"//button[@id='search.keyword.submit']\")\n",
    "driver.execute_script(\"arguments[0].click();\", searchbutton)\n",
    "\n",
    "# 검색 결과를 가져올 시간을 기다림\n",
    "time.sleep(2)\n",
    "\n",
    "# 검색 결과의 페이지 소스를 가져옴\n",
    "html = driver.page_source\n",
    "\n",
    "# BeautifulSoup을 이용하여 html 정보를 파싱\n",
    "soup = BeautifulSoup(html, \"html.parser\")\n",
    "moreviews = soup.find_all(name = \"a\", attrs = {\"class\": \"moreview\"})\n",
    "\n",
    "# a태그의 href 속성을 리스트로 추출하여, 크롤링 할 페이지 리스트를 생성\n",
    "page_urls = []\n",
    "for moreview in moreviews:\n",
    "    page_url = moreview.get(\"href\")\n",
    "    print(page_url)\n",
    "    page_urls.append(page_url)\n",
    "\n",
    "# 크롤링에 사용한 브라우저를 종료\n",
    "driver.close()"
   ]
  },
  {
   "cell_type": "markdown",
   "metadata": {},
   "source": [
    "### [가져온 맛집 리스트의 리뷰 정보 크롤링하기]"
   ]
  },
  {
   "cell_type": "code",
   "execution_count": 12,
   "metadata": {},
   "outputs": [
    {
     "name": "stdout",
     "output_type": "stream",
     "text": [
      "https://place.map.kakao.com/2011092566\n",
      "https://place.map.kakao.com/27238067\n",
      "https://place.map.kakao.com/263830255\n"
     ]
    }
   ],
   "source": [
    "columns = [\"review\"]\n",
    "df = pd.DataFrame(columns = columns)\n",
    "\n",
    "driver = webdriver.Chrome(path)\n",
    "\n",
    "for page_url in page_urls:\n",
    "    driver.get(page_url)\n",
    "    time.sleep(1)\n",
    "\n",
    "    # 더보기 버튼을 2번 클릭\n",
    "    for _ in range(7):\n",
    "        try:\n",
    "            # xpath 참고 블로그(https://wkdtjsgur100.github.io/selenium-xpath/)\n",
    "            many_reviews = driver.find_element(By.XPATH, \"//div[@class='evaluation_review']/a[@class='link_more']\")\n",
    "            many_reviews.click()\n",
    "            time.sleep(1)\n",
    "        except:\n",
    "            pass\n",
    "\n",
    "    try:\n",
    "        # \"후기 더보기\"를 5번 클릭한 상태의 html로 파싱\n",
    "        html = driver.page_source\n",
    "        soup = BeautifulSoup(html, \"html.parser\")\n",
    "        contents_div = soup.find(name = \"div\", attrs = {\"class\": \"evaluation_review\"})\n",
    "\n",
    "        # 그 후 리뷰를 가져옴\n",
    "        reviews = contents_div.find_all(name = \"p\", attrs = {\"class\": \"txt_comment\"})\n",
    "        for review in reviews:\n",
    "            row = review.find(name = \"span\").text\n",
    "            series = pd.Series(row, index = df.columns)\n",
    "            df = df.append(series, ignore_index = True)\n",
    "    except:\n",
    "        # 리뷰 페이지가 없는 경우 수행하지 않음\n",
    "        print(page_url)\n",
    "        continue\n",
    "\n",
    "driver.close()"
   ]
  },
  {
   "cell_type": "code",
   "execution_count": 13,
   "metadata": {},
   "outputs": [
    {
     "data": {
      "text/html": [
       "<div>\n",
       "<style scoped>\n",
       "    .dataframe tbody tr th:only-of-type {\n",
       "        vertical-align: middle;\n",
       "    }\n",
       "\n",
       "    .dataframe tbody tr th {\n",
       "        vertical-align: top;\n",
       "    }\n",
       "\n",
       "    .dataframe thead th {\n",
       "        text-align: right;\n",
       "    }\n",
       "</style>\n",
       "<table border=\"1\" class=\"dataframe\">\n",
       "  <thead>\n",
       "    <tr style=\"text-align: right;\">\n",
       "      <th></th>\n",
       "      <th>score</th>\n",
       "      <th>review</th>\n",
       "    </tr>\n",
       "  </thead>\n",
       "  <tbody>\n",
       "    <tr>\n",
       "      <th>0</th>\n",
       "      <td>5</td>\n",
       "      <td>강남역에서 닭갈비 먹고 싶을 때가면 좋을 것 같아요런치로 먹으니 가격도 저렴하고치즈...</td>\n",
       "    </tr>\n",
       "    <tr>\n",
       "      <th>1</th>\n",
       "      <td>4</td>\n",
       "      <td>사람이 너무 많기도 하고 공간이 너무 좁아서 힘들었어요ㅠㅠㅠ 그리고 가격이 좀 비싸...</td>\n",
       "    </tr>\n",
       "    <tr>\n",
       "      <th>2</th>\n",
       "      <td>4</td>\n",
       "      <td>위생 개판이고 컵에 드러운거 덕지덕지 붙어있어요.제발 좀 닦으세요! 그리고 부탄가스...</td>\n",
       "    </tr>\n",
       "    <tr>\n",
       "      <th>3</th>\n",
       "      <td>5</td>\n",
       "      <td>맛도 특색없고 비위생적이었어요..!</td>\n",
       "    </tr>\n",
       "    <tr>\n",
       "      <th>4</th>\n",
       "      <td>5</td>\n",
       "      <td>닭갈비는 1인분에 11,000원이구요. 사진은 닭갈비 2인분 주문해서 음식 나오자마...</td>\n",
       "    </tr>\n",
       "    <tr>\n",
       "      <th>...</th>\n",
       "      <td>...</td>\n",
       "      <td>...</td>\n",
       "    </tr>\n",
       "    <tr>\n",
       "      <th>344</th>\n",
       "      <td>5</td>\n",
       "      <td>꽃삼겹 미쳤습니다... 목살도 묵직하고 좋아요 .. 가격이 있지만 충분히 그 값을 ...</td>\n",
       "    </tr>\n",
       "    <tr>\n",
       "      <th>345</th>\n",
       "      <td>5</td>\n",
       "      <td>무난무난 체인이라 거기서 거기</td>\n",
       "    </tr>\n",
       "    <tr>\n",
       "      <th>346</th>\n",
       "      <td>1</td>\n",
       "      <td>교대에 있는 이층집 자주가서 갔는데 반찬수도 뭔가 작고 엄청 불친절하네요.. 교대 ...</td>\n",
       "    </tr>\n",
       "    <tr>\n",
       "      <th>347</th>\n",
       "      <td>5</td>\n",
       "      <td>장인어른과 장모님을 모시고 간곳중에 최고의 고깃집 왠만해선 장인 장모가 극찬을 하는...</td>\n",
       "    </tr>\n",
       "    <tr>\n",
       "      <th>348</th>\n",
       "      <td>3</td>\n",
       "      <td>인생고기집! 육즙 장난 아님 고기도 다 구워주시고 된장찌개랑 차돌볶음밥 엄마가 해준...</td>\n",
       "    </tr>\n",
       "  </tbody>\n",
       "</table>\n",
       "<p>349 rows × 2 columns</p>\n",
       "</div>"
      ],
      "text/plain": [
       "     score                                             review\n",
       "0        5  강남역에서 닭갈비 먹고 싶을 때가면 좋을 것 같아요런치로 먹으니 가격도 저렴하고치즈...\n",
       "1        4  사람이 너무 많기도 하고 공간이 너무 좁아서 힘들었어요ㅠㅠㅠ 그리고 가격이 좀 비싸...\n",
       "2        4  위생 개판이고 컵에 드러운거 덕지덕지 붙어있어요.제발 좀 닦으세요! 그리고 부탄가스...\n",
       "3        5                                맛도 특색없고 비위생적이었어요..!\n",
       "4        5  닭갈비는 1인분에 11,000원이구요. 사진은 닭갈비 2인분 주문해서 음식 나오자마...\n",
       "..     ...                                                ...\n",
       "344      5  꽃삼겹 미쳤습니다... 목살도 묵직하고 좋아요 .. 가격이 있지만 충분히 그 값을 ...\n",
       "345      5                                   무난무난 체인이라 거기서 거기\n",
       "346      1  교대에 있는 이층집 자주가서 갔는데 반찬수도 뭔가 작고 엄청 불친절하네요.. 교대 ...\n",
       "347      5  장인어른과 장모님을 모시고 간곳중에 최고의 고깃집 왠만해선 장인 장모가 극찬을 하는...\n",
       "348      3  인생고기집! 육즙 장난 아님 고기도 다 구워주시고 된장찌개랑 차돌볶음밥 엄마가 해준...\n",
       "\n",
       "[349 rows x 2 columns]"
      ]
     },
     "execution_count": 13,
     "metadata": {},
     "output_type": "execute_result"
    }
   ],
   "source": [
    "# 한 글자 이상의 텍스트를 가지고 있는 데이터만 추출합니다\n",
    "df = df[df[\"review\"].str.len() > 0]\n",
    "df = df.reset_index()\n",
    "\n",
    "# review_data의 score를 가져옴\n",
    "review = pd.read_csv(\"/Users/yanghaejun/Documents/이것이 데이터분석이다/이것이 데이터 분석이다 예제/chapter4/review_data.csv\")\n",
    "review = review.iloc[:len(df), :]\n",
    "score = review[\"score\"]\n",
    "score_data = pd.DataFrame(score)\n",
    "\n",
    "# df와 score_data를 병합\n",
    "df = df.join(score_data)\n",
    "df = df[[\"score\", \"review\"]]\n",
    "df"
   ]
  },
  {
   "cell_type": "code",
   "execution_count": 14,
   "metadata": {},
   "outputs": [],
   "source": [
    "# 4점 이상의 리뷰는 긍정리뷰(1), 3점 이하의 리뷰는 부정 리뷰(0)로 평가\n",
    "df[\"y\"] = df[\"score\"].apply(lambda x: 1 if float(x) > 3 else 0)\n",
    "\n",
    "# df를 csv파일로 저장\n",
    "df.to_csv(\"/Users/yanghaejun/Desktop/reviewdata.csv\", index = False)"
   ]
  },
  {
   "cell_type": "code",
   "execution_count": 15,
   "metadata": {},
   "outputs": [
    {
     "data": {
      "text/html": [
       "<div>\n",
       "<style scoped>\n",
       "    .dataframe tbody tr th:only-of-type {\n",
       "        vertical-align: middle;\n",
       "    }\n",
       "\n",
       "    .dataframe tbody tr th {\n",
       "        vertical-align: top;\n",
       "    }\n",
       "\n",
       "    .dataframe thead th {\n",
       "        text-align: right;\n",
       "    }\n",
       "</style>\n",
       "<table border=\"1\" class=\"dataframe\">\n",
       "  <thead>\n",
       "    <tr style=\"text-align: right;\">\n",
       "      <th></th>\n",
       "      <th>score</th>\n",
       "      <th>review</th>\n",
       "      <th>y</th>\n",
       "    </tr>\n",
       "  </thead>\n",
       "  <tbody>\n",
       "    <tr>\n",
       "      <th>0</th>\n",
       "      <td>5</td>\n",
       "      <td>강남역에서 닭갈비 먹고 싶을 때가면 좋을 것 같아요런치로 먹으니 가격도 저렴하고치즈...</td>\n",
       "      <td>1</td>\n",
       "    </tr>\n",
       "    <tr>\n",
       "      <th>1</th>\n",
       "      <td>4</td>\n",
       "      <td>사람이 너무 많기도 하고 공간이 너무 좁아서 힘들었어요ㅠㅠㅠ 그리고 가격이 좀 비싸...</td>\n",
       "      <td>1</td>\n",
       "    </tr>\n",
       "    <tr>\n",
       "      <th>2</th>\n",
       "      <td>4</td>\n",
       "      <td>위생 개판이고 컵에 드러운거 덕지덕지 붙어있어요.제발 좀 닦으세요! 그리고 부탄가스...</td>\n",
       "      <td>1</td>\n",
       "    </tr>\n",
       "    <tr>\n",
       "      <th>3</th>\n",
       "      <td>5</td>\n",
       "      <td>맛도 특색없고 비위생적이었어요..!</td>\n",
       "      <td>1</td>\n",
       "    </tr>\n",
       "    <tr>\n",
       "      <th>4</th>\n",
       "      <td>5</td>\n",
       "      <td>닭갈비는 1인분에 11,000원이구요. 사진은 닭갈비 2인분 주문해서 음식 나오자마...</td>\n",
       "      <td>1</td>\n",
       "    </tr>\n",
       "    <tr>\n",
       "      <th>...</th>\n",
       "      <td>...</td>\n",
       "      <td>...</td>\n",
       "      <td>...</td>\n",
       "    </tr>\n",
       "    <tr>\n",
       "      <th>344</th>\n",
       "      <td>5</td>\n",
       "      <td>꽃삼겹 미쳤습니다... 목살도 묵직하고 좋아요 .. 가격이 있지만 충분히 그 값을 ...</td>\n",
       "      <td>1</td>\n",
       "    </tr>\n",
       "    <tr>\n",
       "      <th>345</th>\n",
       "      <td>5</td>\n",
       "      <td>무난무난 체인이라 거기서 거기</td>\n",
       "      <td>1</td>\n",
       "    </tr>\n",
       "    <tr>\n",
       "      <th>346</th>\n",
       "      <td>1</td>\n",
       "      <td>교대에 있는 이층집 자주가서 갔는데 반찬수도 뭔가 작고 엄청 불친절하네요.. 교대 ...</td>\n",
       "      <td>0</td>\n",
       "    </tr>\n",
       "    <tr>\n",
       "      <th>347</th>\n",
       "      <td>5</td>\n",
       "      <td>장인어른과 장모님을 모시고 간곳중에 최고의 고깃집 왠만해선 장인 장모가 극찬을 하는...</td>\n",
       "      <td>1</td>\n",
       "    </tr>\n",
       "    <tr>\n",
       "      <th>348</th>\n",
       "      <td>3</td>\n",
       "      <td>인생고기집! 육즙 장난 아님 고기도 다 구워주시고 된장찌개랑 차돌볶음밥 엄마가 해준...</td>\n",
       "      <td>0</td>\n",
       "    </tr>\n",
       "  </tbody>\n",
       "</table>\n",
       "<p>349 rows × 3 columns</p>\n",
       "</div>"
      ],
      "text/plain": [
       "     score                                             review  y\n",
       "0        5  강남역에서 닭갈비 먹고 싶을 때가면 좋을 것 같아요런치로 먹으니 가격도 저렴하고치즈...  1\n",
       "1        4  사람이 너무 많기도 하고 공간이 너무 좁아서 힘들었어요ㅠㅠㅠ 그리고 가격이 좀 비싸...  1\n",
       "2        4  위생 개판이고 컵에 드러운거 덕지덕지 붙어있어요.제발 좀 닦으세요! 그리고 부탄가스...  1\n",
       "3        5                                맛도 특색없고 비위생적이었어요..!  1\n",
       "4        5  닭갈비는 1인분에 11,000원이구요. 사진은 닭갈비 2인분 주문해서 음식 나오자마...  1\n",
       "..     ...                                                ... ..\n",
       "344      5  꽃삼겹 미쳤습니다... 목살도 묵직하고 좋아요 .. 가격이 있지만 충분히 그 값을 ...  1\n",
       "345      5                                   무난무난 체인이라 거기서 거기  1\n",
       "346      1  교대에 있는 이층집 자주가서 갔는데 반찬수도 뭔가 작고 엄청 불친절하네요.. 교대 ...  0\n",
       "347      5  장인어른과 장모님을 모시고 간곳중에 최고의 고깃집 왠만해선 장인 장모가 극찬을 하는...  1\n",
       "348      3  인생고기집! 육즙 장난 아님 고기도 다 구워주시고 된장찌개랑 차돌볶음밥 엄마가 해준...  0\n",
       "\n",
       "[349 rows x 3 columns]"
      ]
     },
     "execution_count": 15,
     "metadata": {},
     "output_type": "execute_result"
    }
   ],
   "source": [
    "df"
   ]
  },
  {
   "cell_type": "markdown",
   "metadata": {},
   "source": [
    "## 텍스트 전처리: TF-IDF를 이용한 핵심어 추출"
   ]
  },
  {
   "cell_type": "markdown",
   "metadata": {},
   "source": [
    "### [한글 텍스트로 전처리하기]"
   ]
  },
  {
   "cell_type": "code",
   "execution_count": 4,
   "metadata": {},
   "outputs": [],
   "source": [
    "# 텍스트 정제함수: 한글 이외의 문자는 전부 제거\n",
    "def text_cleaning(text):\n",
    "    # 한글의 정규표현식으로 한글만 추출합니다.\n",
    "    hangul = re.compile('[^ ㄱ-ㅣ가-힣]+')\n",
    "    result = hangul.sub(repl = '', string = text)\n",
    "    return result"
   ]
  },
  {
   "cell_type": "code",
   "execution_count": 5,
   "metadata": {},
   "outputs": [
    {
     "data": {
      "text/html": [
       "<div>\n",
       "<style scoped>\n",
       "    .dataframe tbody tr th:only-of-type {\n",
       "        vertical-align: middle;\n",
       "    }\n",
       "\n",
       "    .dataframe tbody tr th {\n",
       "        vertical-align: top;\n",
       "    }\n",
       "\n",
       "    .dataframe thead th {\n",
       "        text-align: right;\n",
       "    }\n",
       "</style>\n",
       "<table border=\"1\" class=\"dataframe\">\n",
       "  <thead>\n",
       "    <tr style=\"text-align: right;\">\n",
       "      <th></th>\n",
       "      <th>score</th>\n",
       "      <th>y</th>\n",
       "      <th>ko_text</th>\n",
       "    </tr>\n",
       "  </thead>\n",
       "  <tbody>\n",
       "    <tr>\n",
       "      <th>0</th>\n",
       "      <td>5</td>\n",
       "      <td>1</td>\n",
       "      <td>강남역에서 닭갈비 먹고 싶을 때가면 좋을 것 같아요런치로 먹으니 가격도 저렴하고치즈...</td>\n",
       "    </tr>\n",
       "    <tr>\n",
       "      <th>1</th>\n",
       "      <td>4</td>\n",
       "      <td>1</td>\n",
       "      <td>사람이 너무 많기도 하고 공간이 너무 좁아서 힘들었어요ㅠㅠㅠ 그리고 가격이 좀 비싸...</td>\n",
       "    </tr>\n",
       "    <tr>\n",
       "      <th>2</th>\n",
       "      <td>4</td>\n",
       "      <td>1</td>\n",
       "      <td>위생 개판이고 컵에 드러운거 덕지덕지 붙어있어요제발 좀 닦으세요 그리고 부탄가스좀 ...</td>\n",
       "    </tr>\n",
       "    <tr>\n",
       "      <th>3</th>\n",
       "      <td>5</td>\n",
       "      <td>1</td>\n",
       "      <td>맛도 특색없고 비위생적이었어요</td>\n",
       "    </tr>\n",
       "    <tr>\n",
       "      <th>4</th>\n",
       "      <td>5</td>\n",
       "      <td>1</td>\n",
       "      <td>닭갈비는 인분에 원이구요 사진은 닭갈비 인분 주문해서 음식 나오자마자 전혀 손도 안...</td>\n",
       "    </tr>\n",
       "    <tr>\n",
       "      <th>...</th>\n",
       "      <td>...</td>\n",
       "      <td>...</td>\n",
       "      <td>...</td>\n",
       "    </tr>\n",
       "    <tr>\n",
       "      <th>343</th>\n",
       "      <td>5</td>\n",
       "      <td>1</td>\n",
       "      <td>꽃삼겹 미쳤습니다 목살도 묵직하고 좋아요  가격이 있지만 충분히 그 값을 합니다 디...</td>\n",
       "    </tr>\n",
       "    <tr>\n",
       "      <th>344</th>\n",
       "      <td>5</td>\n",
       "      <td>1</td>\n",
       "      <td>무난무난 체인이라 거기서 거기</td>\n",
       "    </tr>\n",
       "    <tr>\n",
       "      <th>345</th>\n",
       "      <td>5</td>\n",
       "      <td>1</td>\n",
       "      <td>교대에 있는 이층집 자주가서 갔는데 반찬수도 뭔가 작고 엄청 불친절하네요 교대 생각...</td>\n",
       "    </tr>\n",
       "    <tr>\n",
       "      <th>346</th>\n",
       "      <td>1</td>\n",
       "      <td>0</td>\n",
       "      <td>장인어른과 장모님을 모시고 간곳중에 최고의 고깃집 왠만해선 장인 장모가 극찬을 하는...</td>\n",
       "    </tr>\n",
       "    <tr>\n",
       "      <th>347</th>\n",
       "      <td>5</td>\n",
       "      <td>1</td>\n",
       "      <td>인생고기집 육즙 장난 아님 고기도 다 구워주시고 된장찌개랑 차돌볶음밥 엄마가 해준거...</td>\n",
       "    </tr>\n",
       "  </tbody>\n",
       "</table>\n",
       "<p>348 rows × 3 columns</p>\n",
       "</div>"
      ],
      "text/plain": [
       "     score  y                                            ko_text\n",
       "0        5  1  강남역에서 닭갈비 먹고 싶을 때가면 좋을 것 같아요런치로 먹으니 가격도 저렴하고치즈...\n",
       "1        4  1  사람이 너무 많기도 하고 공간이 너무 좁아서 힘들었어요ㅠㅠㅠ 그리고 가격이 좀 비싸...\n",
       "2        4  1  위생 개판이고 컵에 드러운거 덕지덕지 붙어있어요제발 좀 닦으세요 그리고 부탄가스좀 ...\n",
       "3        5  1                                   맛도 특색없고 비위생적이었어요\n",
       "4        5  1  닭갈비는 인분에 원이구요 사진은 닭갈비 인분 주문해서 음식 나오자마자 전혀 손도 안...\n",
       "..     ... ..                                                ...\n",
       "343      5  1  꽃삼겹 미쳤습니다 목살도 묵직하고 좋아요  가격이 있지만 충분히 그 값을 합니다 디...\n",
       "344      5  1                                   무난무난 체인이라 거기서 거기\n",
       "345      5  1  교대에 있는 이층집 자주가서 갔는데 반찬수도 뭔가 작고 엄청 불친절하네요 교대 생각...\n",
       "346      1  0  장인어른과 장모님을 모시고 간곳중에 최고의 고깃집 왠만해선 장인 장모가 극찬을 하는...\n",
       "347      5  1  인생고기집 육즙 장난 아님 고기도 다 구워주시고 된장찌개랑 차돌볶음밥 엄마가 해준거...\n",
       "\n",
       "[348 rows x 3 columns]"
      ]
     },
     "execution_count": 5,
     "metadata": {},
     "output_type": "execute_result"
    }
   ],
   "source": [
    "# 저장한 df 파일 가져오기\n",
    "df = pd.read_csv(\"/Users/yanghaejun/Desktop/reviewdata.csv\")\n",
    "\n",
    "# 함수를 적용하여 리뷰에서 한글만 추출합니다.\n",
    "df[\"ko_text\"] = df[\"review\"].apply(lambda x: text_cleaning(x))\n",
    "df = df.drop(\"review\", axis = 1)\n",
    "df"
   ]
  },
  {
   "cell_type": "markdown",
   "metadata": {},
   "source": [
    "### [형태 단위의 추출 함수 정의하기]"
   ]
  },
  {
   "cell_type": "code",
   "execution_count": 12,
   "metadata": {},
   "outputs": [
    {
     "name": "stdout",
     "output_type": "stream",
     "text": [
      "['강남역/Noun', '에서/Josa', '닭갈비/Noun', '먹고/Verb', '싶을/Verb', '때/Noun', '가면/Noun', '좋을/Adjective', '것/Noun', '같아/Adjective', '요런/Modifier', '치/Noun', '로/Josa', '먹으니/Verb', '가격/Noun', '도/Josa', '저렴하고/Adjective', '치즈/Noun', '양도/Noun', '진짜/Noun', '많더라구요/Adjective', '사리/Noun', '추가/Noun', '해서/Verb', '먹으니/Verb', '배/Noun', '터질/Verb', '뻔/Noun', '했어요/Verb', 'ㅋㅋ/KoreanParticle', '평일/Noun', '오후/Noun', '시/Noun', '이후/Noun', '에/Josa', '가야/Noun', '웨이/Noun', '팅/Noun', '안/Noun', '하고/Verb', '바로/Noun', '먹을/Verb', '수/Noun', '있을/Adjective', '것/Noun', '같아요/Adjective']\n"
     ]
    }
   ],
   "source": [
    "from konlpy.tag import Okt\n",
    "\n",
    "# konply 라이브러리로 텍스트 데이터에서 형태소를 추출\n",
    "def get_pos(x):\n",
    "    tagger = Okt()\n",
    "    pos = tagger.pos(x)\n",
    "    pos = [\"{}/{}\".format(word, tag) for word, tag in pos]\n",
    "    return pos\n",
    "\n",
    "# 형태소 추출 동작을 테스트\n",
    "result = get_pos(df['ko_text'][0])\n",
    "print(result)"
   ]
  },
  {
   "cell_type": "markdown",
   "metadata": {},
   "source": [
    "### [분류 모델의 학습 데이터로 변환하기: corpus index 생성]"
   ]
  },
  {
   "cell_type": "code",
   "execution_count": 139,
   "metadata": {},
   "outputs": [
    {
     "name": "stdout",
     "output_type": "stream",
     "text": [
      "(349, 3083)\n"
     ]
    }
   ],
   "source": [
    "from sklearn.feature_extraction.text import CountVectorizer\n",
    "\n",
    "# 형태소를 벡터 형태의 학습 데이터셋(X 데이터)으로 변환\n",
    "index_vectorizer = CountVectorizer(tokenizer = lambda x: get_pos(x))\n",
    "X = index_vectorizer.fit_transform(df[\"ko_text\"].tolist())\n",
    "print(X.shape)"
   ]
  },
  {
   "cell_type": "code",
   "execution_count": 134,
   "metadata": {},
   "outputs": [
    {
     "name": "stdout",
     "output_type": "stream",
     "text": [
      "{'강남역/Noun': 122, '에서/Josa': 1964, '닭갈비/Noun': 661, '먹고/Verb': 1033, '싶을/Verb': 1689, '때/Noun': 851,..\n"
     ]
    }
   ],
   "source": [
    "print(str(index_vectorizer.vocabulary_)[:100] + \"..\")"
   ]
  },
  {
   "cell_type": "code",
   "execution_count": 35,
   "metadata": {},
   "outputs": [
    {
     "name": "stdout",
     "output_type": "stream",
     "text": [
      "사람이 너무 많기도 하고 공간이 너무 좁아서 힘들었어요ㅠㅠㅠ 그리고 가격이 좀 비싸네요맛은 괜찮았습니다만 웨이팅 할만하지는 않은 것 같습니다\n",
      "  (0, 184)\t1\n",
      "  (0, 23)\t1\n",
      "  (0, 2119)\t1\n",
      "  (0, 2821)\t1\n",
      "  (0, 2878)\t1\n",
      "  (0, 1470)\t1\n",
      "  (0, 2167)\t3\n",
      "  (0, 552)\t2\n",
      "  (0, 943)\t1\n",
      "  (0, 235)\t1\n",
      "  (0, 2471)\t1\n",
      "  (0, 3081)\t1\n",
      "  (0, 19)\t1\n",
      "  (0, 368)\t1\n",
      "  (0, 2469)\t1\n",
      "  (0, 1427)\t1\n",
      "  (0, 971)\t1\n",
      "  (0, 2152)\t1\n",
      "  (0, 255)\t1\n",
      "  (0, 2947)\t1\n",
      "  (0, 941)\t1\n",
      "  (0, 2570)\t1\n",
      "  (0, 1839)\t1\n",
      "  (0, 131)\t1\n"
     ]
    }
   ],
   "source": [
    "print(df[\"ko_text\"][1])\n",
    "print(X[1])"
   ]
  },
  {
   "cell_type": "markdown",
   "metadata": {},
   "source": [
    "### [분류 모델의 학습 데이터로 변환하기: TF-IDF로 변환]"
   ]
  },
  {
   "cell_type": "code",
   "execution_count": 36,
   "metadata": {},
   "outputs": [],
   "source": [
    "from sklearn.feature_extraction.text import TfidfTransformer\n",
    "\n",
    "# TF-IDF 방법으로 형태소를 벡터 형태의 학습 데이터셋(X 데이터)으로 변환\n",
    "tfidf_vectorizer = TfidfTransformer()\n",
    "X = tfidf_vectorizer.fit_transform(X)"
   ]
  },
  {
   "cell_type": "code",
   "execution_count": 61,
   "metadata": {},
   "outputs": [
    {
     "name": "stdout",
     "output_type": "stream",
     "text": [
      "맛도 특색없고 비위생적이었어요\n",
      "(349, 3083)\n",
      "  (0, 2814)\t0.4850208242407046\n",
      "  (0, 2211)\t0.4850208242407046\n",
      "  (0, 1930)\t0.38763686709480244\n",
      "  (0, 1438)\t0.546463260324582\n",
      "  (0, 971)\t0.21728221371478612\n",
      "  (0, 721)\t0.18279388417912604\n"
     ]
    }
   ],
   "source": [
    "print(df[\"ko_text\"][3])\n",
    "print(X.shape)\n",
    "print(X[3])"
   ]
  },
  {
   "cell_type": "markdown",
   "metadata": {},
   "source": [
    "## 분류: 긍정/부정 리뷰 분류하기"
   ]
  },
  {
   "cell_type": "markdown",
   "metadata": {},
   "source": [
    "### [분류 모델링: 데이터셋 분리]"
   ]
  },
  {
   "cell_type": "code",
   "execution_count": 102,
   "metadata": {},
   "outputs": [
    {
     "name": "stdout",
     "output_type": "stream",
     "text": [
      "(244, 3083)\n",
      "(105, 3083)\n",
      "(244,)\n",
      "(105,)\n"
     ]
    }
   ],
   "source": [
    "from sklearn.model_selection import train_test_split\n",
    "\n",
    "y = df[\"y\"]\n",
    "x_train, x_test, y_train, y_test = train_test_split(X, y, test_size = 0.30)\n",
    "print(x_train.shape)\n",
    "print(x_test.shape)\n",
    "print(y_train.shape)\n",
    "print(y_test.shape)"
   ]
  },
  {
   "cell_type": "markdown",
   "metadata": {},
   "source": [
    "### [분류 모델링: 로지스틱 회귀 모델]"
   ]
  },
  {
   "cell_type": "code",
   "execution_count": 103,
   "metadata": {},
   "outputs": [
    {
     "name": "stdout",
     "output_type": "stream",
     "text": [
      "Accuracy: 0.610\n",
      "Precision: 0.604\n",
      "Recall: 0.984\n",
      "F1: 0.748\n"
     ]
    }
   ],
   "source": [
    "from sklearn.linear_model import LogisticRegression\n",
    "from sklearn.metrics import accuracy_score, precision_score, recall_score, f1_score, roc_curve, roc_auc_score\n",
    "\n",
    "# 로지스틱 회귀 모델을 학습\n",
    "lr = LogisticRegression(random_state = 0)\n",
    "lr.fit(x_train, y_train)\n",
    "y_pred = lr.predict(x_test)\n",
    "y_pred_probability = lr.predict_proba(x_test)[:, 1]\n",
    "\n",
    "# 로지스틱 회귀 모델의 성능을 평가\n",
    "print(\"Accuracy: %.3f\" % accuracy_score(y_test, y_pred))\n",
    "print(\"Precision: %.3f\" % precision_score(y_test, y_pred))\n",
    "print(\"Recall: %.3f\" % recall_score(y_test, y_pred))\n",
    "print(\"F1: %.3f\" % f1_score(y_test, y_pred))"
   ]
  },
  {
   "cell_type": "code",
   "execution_count": 104,
   "metadata": {},
   "outputs": [
    {
     "name": "stdout",
     "output_type": "stream",
     "text": [
      "[[ 3 40]\n",
      " [ 1 61]]\n"
     ]
    }
   ],
   "source": [
    "from sklearn.metrics import confusion_matrix\n",
    "confmat = confusion_matrix(y_test, y_pred)\n",
    "print(confmat)"
   ]
  },
  {
   "cell_type": "code",
   "execution_count": 105,
   "metadata": {},
   "outputs": [
    {
     "name": "stdout",
     "output_type": "stream",
     "text": [
      "AUC: 0.575\n"
     ]
    },
    {
     "data": {
      "image/png": "[encoded data removed]",
      "text/plain": [
       "<Figure size 640x480 with 1 Axes>"
      ]
     },
     "metadata": {},
     "output_type": "display_data"
    }
   ],
   "source": [
    "# AUC를 계산\n",
    "false_positive_rate, true_positive_rate, thresholds = roc_curve(y_test, y_pred_probability)\n",
    "roc_auc = roc_auc_score(y_test, y_pred_probability)\n",
    "print(\"AUC: %.3f\" % roc_auc)\n",
    "\n",
    "# ROC curve 그래프를 출력\n",
    "plt.plot(false_positive_rate, true_positive_rate, color = \"red\", linewidth = 4.0, label = \"ROC curve (area = %.3f)\" % roc_auc)\n",
    "plt.plot([0, 1], [0, 1], \"k--\")\n",
    "plt.title(\"ROC curve of Logistic Regression\")\n",
    "plt.xlabel(\"False Positive Rate\")\n",
    "plt.ylabel(\"True Positive Rate\")\n",
    "plt.legend(loc = \"lower right\")\n",
    "plt.show()"
   ]
  },
  {
   "cell_type": "markdown",
   "metadata": {},
   "source": [
    "### [클래스 불균형 문제 해결하기]"
   ]
  },
  {
   "cell_type": "code",
   "execution_count": 106,
   "metadata": {},
   "outputs": [
    {
     "data": {
      "text/plain": [
       "1    204\n",
       "0    145\n",
       "Name: y, dtype: int64"
      ]
     },
     "execution_count": 106,
     "metadata": {},
     "output_type": "execute_result"
    }
   ],
   "source": [
    "# y가 0과 1을 각각 얼마나 가지고 있는지를 출력\n",
    "df[\"y\"].value_counts()"
   ]
  },
  {
   "cell_type": "code",
   "execution_count": 107,
   "metadata": {},
   "outputs": [
    {
     "name": "stdout",
     "output_type": "stream",
     "text": [
      "(70, 3083)\n",
      "(30, 3083)\n"
     ]
    }
   ],
   "source": [
    "# 1:1 비율로 랜덤 샘플링을 수행\n",
    "positive_random_idx = df[df[\"y\"] == 1].sample(50, random_state = 30).index.tolist()\n",
    "negative_random_idx = df[df[\"y\"] == 0].sample(50, random_state = 30).index.tolist()\n",
    "\n",
    "# 랜덤 데이터로 데이터셋을 나눔\n",
    "random_idx = positive_random_idx + negative_random_idx\n",
    "sample_X = X[random_idx, :]\n",
    "y = df.loc[random_idx, \"y\"]\n",
    "x_train, x_test, y_train, y_test = train_test_split(sample_X, y, test_size = 0.30)\n",
    "print(x_train.shape)\n",
    "print(x_test.shape)"
   ]
  },
  {
   "cell_type": "markdown",
   "metadata": {},
   "source": [
    "### [로지스틱 회귀 모델 다시 학습하기]"
   ]
  },
  {
   "cell_type": "code",
   "execution_count": 111,
   "metadata": {},
   "outputs": [
    {
     "name": "stdout",
     "output_type": "stream",
     "text": [
      "Accuracy: 0.533\n",
      "Precision: 0.556\n",
      "Recall: 0.333\n",
      "F1: 0.417\n",
      "[[11  4]\n",
      " [10  5]]\n"
     ]
    }
   ],
   "source": [
    "# 로지스틱 회귀 모델을 다시 학습\n",
    "lr = LogisticRegression(random_state = 0)\n",
    "lr.fit(x_train, y_train)\n",
    "y_pred = lr.predict(x_test)\n",
    "y_pred_probability = lr.predict_proba(x_test)[:, 1]\n",
    "\n",
    "# 학습 모델을 테스트 데이터로 평가\n",
    "print(\"Accuracy: %.3f\" % accuracy_score(y_test, y_pred))\n",
    "print(\"Precision: %.3f\" % precision_score(y_test, y_pred))\n",
    "print(\"Recall: %.3f\" % recall_score(y_test, y_pred))\n",
    "print(\"F1: %.3f\" % f1_score(y_test, y_pred))\n",
    "\n",
    "# Confusion Matrix를 출력\n",
    "confmat = confusion_matrix(y_test, y_pred)\n",
    "print(confmat)"
   ]
  },
  {
   "cell_type": "code",
   "execution_count": 113,
   "metadata": {},
   "outputs": [
    {
     "name": "stdout",
     "output_type": "stream",
     "text": [
      "AUC: 0.596\n"
     ]
    },
    {
     "data": {
      "image/png": "[encoded data removed]",
      "text/plain": [
       "<Figure size 640x480 with 1 Axes>"
      ]
     },
     "metadata": {},
     "output_type": "display_data"
    }
   ],
   "source": [
    "# AUC score\n",
    "false_positive_rate, true_positive_rate, thresholds = roc_curve(y_test, y_pred_probability)\n",
    "roc_auc = roc_auc_score(y_test, y_pred_probability)\n",
    "print(\"AUC: %.3f\" % roc_auc)\n",
    "\n",
    "# ROC curve 그래프를 출력\n",
    "plt.plot(false_positive_rate, true_positive_rate, color = \"red\", linewidth = 4.0, label = \"ROC curve (area = %.3f)\" % roc_auc)\n",
    "plt.plot([0, 1], [0, 1], \"k--\")\n",
    "plt.title(\"ROC curve of Logistic Regression\")\n",
    "plt.xlabel(\"False Positive Rate\")\n",
    "plt.ylabel(\"True Positive Rate\")\n",
    "plt.legend(loc = \"lower right\")\n",
    "plt.show()"
   ]
  },
  {
   "cell_type": "markdown",
   "metadata": {},
   "source": [
    "# 분석: 중요 키워드 분석하기"
   ]
  },
  {
   "cell_type": "markdown",
   "metadata": {},
   "source": [
    "### [회귀 모델의 피처 영향력 추출하기]"
   ]
  },
  {
   "cell_type": "code",
   "execution_count": 130,
   "metadata": {},
   "outputs": [
    {
     "name": "stdout",
     "output_type": "stream",
     "text": [
      "[(0.45450462262843583, 2466), (0.40913758950901097, 1546), (0.38870997238119576, 1225), (0.38571696770794595, 1242), (0.3228395181424807, 234)]\n",
      "[(-0.2916523254485958, 2717), (-0.2928731247518086, 1125), (-0.30346737476039826, 2276), (-0.3930436121938196, 262), (-0.3930436121938196, 2735)]\n"
     ]
    },
    {
     "data": {
      "image/png": "[encoded data removed]",
      "text/plain": [
       "<Figure size 1000x800 with 1 Axes>"
      ]
     },
     "metadata": {},
     "output_type": "display_data"
    }
   ],
   "source": [
    "# 학습한 회귀 모델의 계수를 출력\n",
    "plt.rcParams[\"figure.figsize\"] = [10, 8]\n",
    "plt.bar(range(len(lr.coef_[0])), lr.coef_[0])\n",
    "print(sorted(((value, index) for index, value in enumerate(lr.coef_[0])), key = lambda x: x[0], reverse = True)[:5])\n",
    "print(sorted(((value, index) for (index, value) in enumerate(lr.coef_[0])), key = lambda x: x[0], reverse = True)[-5:])\n",
    "plt.show()"
   ]
  },
  {
   "cell_type": "markdown",
   "metadata": {},
   "source": [
    "### [중요 변수의 형태소]"
   ]
  },
  {
   "cell_type": "code",
   "execution_count": 133,
   "metadata": {},
   "outputs": [
    {
     "name": "stdout",
     "output_type": "stream",
     "text": [
      "{122: '강남역/Noun', 1964: '에서/Josa', 661: '닭갈비/Noun', 1033: '먹고/Verb', 1689: '싶을/Verb', 851: '때/Noun',..\n"
     ]
    }
   ],
   "source": [
    "# 회귀 모델의 계수를 높은 순으로 정렬\n",
    "coef_pos_index = sorted(((value, index) for (index, value) in enumerate(lr.coef_[0])), reverse = True)\n",
    "\n",
    "# 회귀 모델의 계수를 index_vectorizer에 맵핑하여 어떤 형태소인지 출력할 수 있게 함\n",
    "invert_index_vectorizer = {v: k for k, v in index_vectorizer.vocabulary_.items()}\n",
    "\n",
    "# 계수가 높은 순으로 피처에 형태소를 맵핑한 결과를 출력, 계수가 높은 피처는 리뷰에 긍정적인 영향을 주는 형태소라고 할 수 있음\n",
    "print(str(invert_index_vectorizer)[:100] + \"..\")"
   ]
  },
  {
   "cell_type": "markdown",
   "metadata": {},
   "source": [
    "### [상위 20개 긍정 형태소 출력하기]"
   ]
  },
  {
   "cell_type": "code",
   "execution_count": 136,
   "metadata": {},
   "outputs": [
    {
     "name": "stdout",
     "output_type": "stream",
     "text": [
      "존맛/Noun 0.45450462262843583\n",
      "성지/Noun 0.40913758950901097\n",
      "반찬/Noun 0.38870997238119576\n",
      "방문/Noun 0.38571696770794595\n",
      "곳/Noun 0.3228395181424807\n",
      "ㄹㅇ/KoreanParticle 0.31151964945119953\n",
      "블랙리스트/Noun 0.3081347855732657\n",
      "불친절해요/Adjective 0.297682566831516\n",
      "함/Noun 0.2790448863024859\n",
      "는/Josa 0.27767837973668913\n",
      "성지순례/Noun 0.2742192594159363\n",
      "들/Suffix 0.2729227032815133\n",
      "최고/Noun 0.2728040261993058\n",
      "굿/Noun 0.27190566419420487\n",
      "옴/Noun 0.2704462629384071\n",
      "맛있습니다/Adjective 0.26330784098560195\n",
      "저렴하고/Adjective 0.25921283805486406\n",
      "탱/Adverb 0.25827191209935335\n",
      "배/Noun 0.25108235511388516\n",
      "맛있게/Adjective 0.24296266759232074\n"
     ]
    }
   ],
   "source": [
    "# 상위 20개 긍정 형태소를 출력\n",
    "for coef in coef_pos_index[:20]:\n",
    "    print(invert_index_vectorizer[coef[1]], coef[0])"
   ]
  },
  {
   "cell_type": "code",
   "execution_count": null,
   "metadata": {},
   "outputs": [],
   "source": []
  }
 ],
 "metadata": {
  "kernelspec": {
   "display_name": "Python 3.8.15 ('yang_conda')",
   "language": "python",
   "name": "python3"
  },
  "language_info": {
   "codemirror_mode": {
    "name": "ipython",
    "version": 3
   },
   "file_extension": ".py",
   "mimetype": "text/x-python",
   "name": "python",
   "nbconvert_exporter": "python",
   "pygments_lexer": "ipython3",
   "version": "3.8.15"
  },
  "orig_nbformat": 4,
  "vscode": {
   "interpreter": {
    "hash": "52c978c14acf5f637cf647b0b291a2b8a626b2be490b9270ac09acb4761bcaa5"
   }
  }
 },
 "nbformat": 4,
 "nbformat_minor": 2
}
