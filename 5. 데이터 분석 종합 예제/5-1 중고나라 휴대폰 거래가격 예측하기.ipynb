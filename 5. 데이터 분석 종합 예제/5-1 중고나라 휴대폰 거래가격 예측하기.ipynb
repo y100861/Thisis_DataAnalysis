{
 "cells": [
  {
   "attachments": {},
   "cell_type": "markdown",
   "metadata": {},
   "source": [
    "# 5-1 중고나라 휴대폰 거래가격 예측하기"
   ]
  },
  {
   "attachments": {},
   "cell_type": "markdown",
   "metadata": {},
   "source": [
    "## 탐색적 분석: 중고나라 데이터 분석하기"
   ]
  },
  {
   "attachments": {},
   "cell_type": "markdown",
   "metadata": {},
   "source": [
    "### [중고나라 데이터셋 살펴보기]"
   ]
  },
  {
   "cell_type": "code",
   "execution_count": 199,
   "metadata": {},
   "outputs": [
    {
     "name": "stdout",
     "output_type": "stream",
     "text": [
      "<class 'pandas.core.frame.DataFrame'>\n",
      "RangeIndex: 4951 entries, 0 to 4950\n",
      "Data columns (total 7 columns):\n",
      " #   Column         Non-Null Count  Dtype  \n",
      "---  ------         --------------  -----  \n",
      " 0   create_date    4951 non-null   object \n",
      " 1   price          4951 non-null   float64\n",
      " 2   text           4951 non-null   object \n",
      " 3   phone_model    4951 non-null   object \n",
      " 4   factory_price  4951 non-null   int64  \n",
      " 5   maker          4951 non-null   object \n",
      " 6   price_index    4951 non-null   float64\n",
      "dtypes: float64(2), int64(1), object(4)\n",
      "memory usage: 270.9+ KB\n",
      "None\n"
     ]
    },
    {
     "data": {
      "text/html": [
       "<div>\n",
       "<style scoped>\n",
       "    .dataframe tbody tr th:only-of-type {\n",
       "        vertical-align: middle;\n",
       "    }\n",
       "\n",
       "    .dataframe tbody tr th {\n",
       "        vertical-align: top;\n",
       "    }\n",
       "\n",
       "    .dataframe thead th {\n",
       "        text-align: right;\n",
       "    }\n",
       "</style>\n",
       "<table border=\"1\" class=\"dataframe\">\n",
       "  <thead>\n",
       "    <tr style=\"text-align: right;\">\n",
       "      <th></th>\n",
       "      <th>create_date</th>\n",
       "      <th>price</th>\n",
       "      <th>text</th>\n",
       "      <th>phone_model</th>\n",
       "      <th>factory_price</th>\n",
       "      <th>maker</th>\n",
       "      <th>price_index</th>\n",
       "    </tr>\n",
       "  </thead>\n",
       "  <tbody>\n",
       "    <tr>\n",
       "      <th>0</th>\n",
       "      <td>2017-03-19  4 35 00 PM</td>\n",
       "      <td>550000.00000</td>\n",
       "      <td>아이폰6플러스 블랙+애플라이트 64기가 팝니다  아이폰6플러스 블랙+애플라이트 64...</td>\n",
       "      <td>iphone 6 64gb</td>\n",
       "      <td>924000</td>\n",
       "      <td>apple</td>\n",
       "      <td>95.96000</td>\n",
       "    </tr>\n",
       "    <tr>\n",
       "      <th>1</th>\n",
       "      <td>2016-10-26  12 08 00 PM</td>\n",
       "      <td>380000.00000</td>\n",
       "      <td>갤럭시s6엣지 32기가 팝니다 직거래  갤럭시s6엣지 32기가 품명 갤럭시s6엣지제...</td>\n",
       "      <td>galaxy s6 edge 32gb</td>\n",
       "      <td>979000</td>\n",
       "      <td>samsung</td>\n",
       "      <td>103.05000</td>\n",
       "    </tr>\n",
       "    <tr>\n",
       "      <th>2</th>\n",
       "      <td>2016-10-25  12 52 00 PM</td>\n",
       "      <td>300000.00000</td>\n",
       "      <td>갤럭시s6 풀박스로 팝니다~~~ 새상품급  실기스조차 없어요  직접거래 구매한지 1...</td>\n",
       "      <td>galaxy s6 32gb</td>\n",
       "      <td>854000</td>\n",
       "      <td>samsung</td>\n",
       "      <td>103.05000</td>\n",
       "    </tr>\n",
       "    <tr>\n",
       "      <th>3</th>\n",
       "      <td>2017-03-23  11 14 00 PM</td>\n",
       "      <td>290000.00000</td>\n",
       "      <td>sk  g5 티탄 폰 단품판매합니다  직접거래 sk g5 티탄 폰 단품판매합니다 올...</td>\n",
       "      <td>lg g5 32gb</td>\n",
       "      <td>836000</td>\n",
       "      <td>lg</td>\n",
       "      <td>95.96000</td>\n",
       "    </tr>\n",
       "    <tr>\n",
       "      <th>4</th>\n",
       "      <td>2016-04-11  7 35 00 PM</td>\n",
       "      <td>280000.00000</td>\n",
       "      <td>sony 엑스페리아 c5 ultra e5506 16gb  미사용 새제품 팝니다 1...</td>\n",
       "      <td>lg u 32gb</td>\n",
       "      <td>396000</td>\n",
       "      <td>lg</td>\n",
       "      <td>102.59000</td>\n",
       "    </tr>\n",
       "  </tbody>\n",
       "</table>\n",
       "</div>"
      ],
      "text/plain": [
       "               create_date        price  \\\n",
       "0   2017-03-19  4 35 00 PM 550000.00000   \n",
       "1  2016-10-26  12 08 00 PM 380000.00000   \n",
       "2  2016-10-25  12 52 00 PM 300000.00000   \n",
       "3  2017-03-23  11 14 00 PM 290000.00000   \n",
       "4   2016-04-11  7 35 00 PM 280000.00000   \n",
       "\n",
       "                                                text          phone_model  \\\n",
       "0  아이폰6플러스 블랙+애플라이트 64기가 팝니다  아이폰6플러스 블랙+애플라이트 64...        iphone 6 64gb   \n",
       "1  갤럭시s6엣지 32기가 팝니다 직거래  갤럭시s6엣지 32기가 품명 갤럭시s6엣지제...  galaxy s6 edge 32gb   \n",
       "2  갤럭시s6 풀박스로 팝니다~~~ 새상품급  실기스조차 없어요  직접거래 구매한지 1...       galaxy s6 32gb   \n",
       "3  sk  g5 티탄 폰 단품판매합니다  직접거래 sk g5 티탄 폰 단품판매합니다 올...           lg g5 32gb   \n",
       "4   sony 엑스페리아 c5 ultra e5506 16gb  미사용 새제품 팝니다 1...            lg u 32gb   \n",
       "\n",
       "   factory_price    maker  price_index  \n",
       "0         924000    apple     95.96000  \n",
       "1         979000  samsung    103.05000  \n",
       "2         854000  samsung    103.05000  \n",
       "3         836000       lg     95.96000  \n",
       "4         396000       lg    102.59000  "
      ]
     },
     "execution_count": 199,
     "metadata": {},
     "output_type": "execute_result"
    }
   ],
   "source": [
    "# -*- coding: utf-8 -*-\n",
    "%matplotlib inline\n",
    "\n",
    "import pandas as pd\n",
    "import numpy as np\n",
    "import matplotlib.pyplot as plt\n",
    "import seaborn as sns\n",
    "pd.options.display.float_format = '{:.5f}'.format\n",
    "np.set_printoptions(precision=5, suppress=True)\n",
    "\n",
    "df = pd.read_csv(\"/Users/yanghaejun/Documents/이것이 데이터분석이다/이것이 데이터 분석이다 예제/data/used_mobile_phone.csv\")\n",
    "print(df.info())\n",
    "df.head()"
   ]
  },
  {
   "cell_type": "code",
   "execution_count": 200,
   "metadata": {},
   "outputs": [
    {
     "data": {
      "text/plain": [
       "2016-10    2956\n",
       "2017-03    1311\n",
       "2016-08     107\n",
       "2016-09     105\n",
       "2016-04     102\n",
       "2016-05      89\n",
       "2016-06      76\n",
       "2016-07      74\n",
       "2016-03      70\n",
       "2016-02      61\n",
       "Name: month, dtype: int64"
      ]
     },
     "execution_count": 200,
     "metadata": {},
     "output_type": "execute_result"
    }
   ],
   "source": [
    "# create-date로부터 '월'을 의미하는 month 정보를 피처로 추출\n",
    "df[\"month\"] = df[\"create_date\"].apply(lambda x: x[:7])\n",
    "\n",
    "# 월별 거래 횟수를 계산하여 출력\n",
    "df[\"month\"].value_counts()"
   ]
  },
  {
   "attachments": {},
   "cell_type": "markdown",
   "metadata": {},
   "source": [
    "### [개별 피처 탐색하기: date 피처 탐색]"
   ]
  },
  {
   "cell_type": "code",
   "execution_count": 201,
   "metadata": {},
   "outputs": [
    {
     "data": {
      "image/png": "[encoded data removed]",
      "text/plain": [
       "<Figure size 640x480 with 1 Axes>"
      ]
     },
     "metadata": {},
     "output_type": "display_data"
    }
   ],
   "source": [
    "# 일별 거래 횟수를 계산하여 그래프로 출력\n",
    "df_day = pd.to_datetime(df[\"create_date\"].apply(lambda x: x[:10])).value_counts()\n",
    "df_day.plot()\n",
    "plt.show()"
   ]
  },
  {
   "attachments": {},
   "cell_type": "markdown",
   "metadata": {},
   "source": [
    "### [개별 피처 탐색하기: price 피처 탐색]"
   ]
  },
  {
   "cell_type": "code",
   "execution_count": 202,
   "metadata": {},
   "outputs": [
    {
     "data": {
      "image/png": "[encoded data removed]",
      "text/plain": [
       "<Figure size 640x480 with 1 Axes>"
      ]
     },
     "metadata": {},
     "output_type": "display_data"
    }
   ],
   "source": [
    "# 가격의 분포를 그래프로 탐색\n",
    "df[\"price\"].hist(bins = \"auto\")\n",
    "plt.show()"
   ]
  },
  {
   "cell_type": "code",
   "execution_count": 203,
   "metadata": {},
   "outputs": [
    {
     "data": {
      "image/png": "[encoded data removed]",
      "text/plain": [
       "<Figure size 640x480 with 1 Axes>"
      ]
     },
     "metadata": {},
     "output_type": "display_data"
    }
   ],
   "source": [
    "# 핸드폰 기종(phone_model)별 가격의 평균과 표준편차를 계산합니다.\n",
    "df_price_model_mean = df.groupby(\"phone_model\")[\"price\"].transform(lambda x: np.mean(x))\n",
    "df_price_model_std = df.groupby(\"phone_model\")[\"price\"].transform(lambda x: np.std(x))\n",
    "\n",
    "# 이를 바탕으로 모든 데이터의 z-score를 계산합니다. 이는 해당 데이터의 가격이 기종별 평균에 비해 어느정도로 높거나 낮은지를 알 수 있게 하는 점수입니다.\n",
    "df_price_model_z_score = (df[\"price\"] - df_price_model_mean) / df_price_model_std\n",
    "df_price_model_z_score.hist(bins = \"auto\")\n",
    "plt.show()"
   ]
  },
  {
   "attachments": {},
   "cell_type": "markdown",
   "metadata": {},
   "source": [
    "### [개별 피처 탐색하기: factory_price 피처 탐색]"
   ]
  },
  {
   "cell_type": "code",
   "execution_count": 204,
   "metadata": {},
   "outputs": [
    {
     "data": {
      "image/png": "[encoded data removed]",
      "text/plain": [
       "<Figure size 640x480 with 1 Axes>"
      ]
     },
     "metadata": {},
     "output_type": "display_data"
    },
    {
     "data": {
      "image/png": "[encoded data removed]",
      "text/plain": [
       "<Figure size 640x480 with 1 Axes>"
      ]
     },
     "metadata": {},
     "output_type": "display_data"
    }
   ],
   "source": [
    "# factory_price 피처의 분포를 탐색\n",
    "df[\"factory_price\"].hist(bins = \"auto\")\n",
    "\n",
    "# factory_price와 price 피처를 산점도 그래프로 출력하여 상관 관계를 살펴봄\n",
    "df.plot.scatter(\"factory_price\", \"price\")\n",
    "plt.show()"
   ]
  },
  {
   "attachments": {},
   "cell_type": "markdown",
   "metadata": {},
   "source": [
    "### [개별 피처 탐색하기: phone_model 피처 탐색]"
   ]
  },
  {
   "cell_type": "code",
   "execution_count": 205,
   "metadata": {},
   "outputs": [
    {
     "data": {
      "image/png": "[encoded data removed]",
      "text/plain": [
       "<Figure size 640x480 with 1 Axes>"
      ]
     },
     "metadata": {},
     "output_type": "display_data"
    }
   ],
   "source": [
    "# 기종별 총 거래 데이터 개수를 집계\n",
    "model_counts = df[\"phone_model\"].value_counts()\n",
    "model_counts.describe()\n",
    "\n",
    "# 기종별 총 거래 데이터 개수를 상자 그림으로 살펴봄\n",
    "plt.boxplot(model_counts)\n",
    "plt.show()"
   ]
  },
  {
   "attachments": {},
   "cell_type": "markdown",
   "metadata": {},
   "source": [
    "#### 미니퀴즈"
   ]
  },
  {
   "attachments": {},
   "cell_type": "markdown",
   "metadata": {},
   "source": [
    "[maker, price_index 피처에 대한 특징을 탐색]"
   ]
  },
  {
   "cell_type": "code",
   "execution_count": 206,
   "metadata": {},
   "outputs": [
    {
     "name": "stdout",
     "output_type": "stream",
     "text": [
      "apple      2450\n",
      "samsung    1642\n",
      "lg          677\n",
      "pantech      57\n",
      "sony         37\n",
      "huawei       35\n",
      "tg           28\n",
      "sky          25\n",
      "Name: maker, dtype: int64\n"
     ]
    },
    {
     "data": {
      "image/png": "[encoded data removed]",
      "text/plain": [
       "<Figure size 640x480 with 1 Axes>"
      ]
     },
     "metadata": {},
     "output_type": "display_data"
    },
    {
     "name": "stdout",
     "output_type": "stream",
     "text": [
      "103.05000    3061\n",
      "95.96000     1311\n",
      "102.59000     448\n",
      "94.90000      131\n",
      "Name: price_index, dtype: int64\n"
     ]
    }
   ],
   "source": [
    "# maker 피처 탐색\n",
    "maker_counts = df[\"maker\"].value_counts()\n",
    "print(maker_counts)\n",
    "plt.boxplot(maker_counts)\n",
    "plt.show()\n",
    "\n",
    "# price_index 피처 탐색\n",
    "price_index_counts = df[\"price_index\"].value_counts()\n",
    "print(price_index_counts)"
   ]
  },
  {
   "attachments": {},
   "cell_type": "markdown",
   "metadata": {},
   "source": [
    "### [Random forest regressor를 이용한 가격 예측]"
   ]
  },
  {
   "cell_type": "code",
   "execution_count": 207,
   "metadata": {},
   "outputs": [
    {
     "name": "stdout",
     "output_type": "stream",
     "text": [
      "MSE train: 10621512965.571, test: 13860439875.786\n",
      "R^2 train: 0.781, test: 0.683\n"
     ]
    }
   ],
   "source": [
    "from sklearn.model_selection import train_test_split\n",
    "from sklearn.feature_extraction import DictVectorizer\n",
    "from sklearn.ensemble import RandomForestRegressor\n",
    "from sklearn.metrics import r2_score, mean_squared_error\n",
    "\n",
    "# 데이터를 학습/테스트용 데이터로 분리\n",
    "df = df[[\"price\", \"phone_model\", \"factory_price\", \"maker\", \"price_index\", \"month\"]]\n",
    "df = pd.get_dummies(df, columns = [\"phone_model\", \"maker\", \"month\"])\n",
    "x = df.loc[:, df.columns != \"price\"]\n",
    "y = df[\"price\"]\n",
    "x_train, x_test, y_train, y_test = train_test_split(x, y, test_size = 0.3, random_state = 0)\n",
    "\n",
    "# 랜덤 포레스트 모델을 학습\n",
    "forest = RandomForestRegressor(n_estimators = 1000, criterion = \"squared_error\")\n",
    "forest.fit(x_train, y_train)\n",
    "y_train_pred = forest.predict(x_train)\n",
    "y_test_pred = forest.predict(x_test)\n",
    "\n",
    "# 학습한 모델을 평가\n",
    "print(\"MSE train: %.3f, test: %.3f\" % (\n",
    "      mean_squared_error(y_train, y_train_pred), # 실제값과 예측값 차이\n",
    "      mean_squared_error(y_test, y_test_pred))) # 실제값과 예측값 차이\n",
    "print(\"R^2 train: %.3f, test: %.3f\" % (\n",
    "      r2_score(y_train, y_train_pred), # 실제값과 예측값의 상관계수\n",
    "      r2_score(y_test, y_test_pred))) # 실제값과 예측값의 상관계수"
   ]
  },
  {
   "attachments": {},
   "cell_type": "markdown",
   "metadata": {},
   "source": [
    "### [피처 중요도 분석하기]"
   ]
  },
  {
   "cell_type": "code",
   "execution_count": 208,
   "metadata": {},
   "outputs": [
    {
     "data": {
      "image/png": "[encoded data removed]",
      "text/plain": [
       "<Figure size 800x600 with 1 Axes>"
      ]
     },
     "metadata": {},
     "output_type": "display_data"
    },
    {
     "data": {
      "image/png": "[encoded data removed]",
      "text/plain": [
       "<Figure size 640x480 with 1 Axes>"
      ]
     },
     "metadata": {},
     "output_type": "display_data"
    }
   ],
   "source": [
    "# 학습한 모델의 피처 중요도를 seaborn barplot 그래프로 살펴봄\n",
    "importances = forest.feature_importances_\n",
    "importances = pd.Series(importances, index = x_train.columns)\n",
    "importances_top = importances.sort_values(ascending = False)[:20]\n",
    "\n",
    "plt.figure(figsize = (8, 6))\n",
    "sns.barplot(x = importances_top, y = importances_top.index)\n",
    "plt.show()\n",
    "\n",
    "# 학습한 모델의 피처 중요도를 matplotlib bar 그래프로 살펴봄\n",
    "importances = forest.feature_importances_\n",
    "indices = np.argsort(importances)[::-1]\n",
    "plt.bar(x = range(len(indices)), height = importances[indices])\n",
    "plt.show()"
   ]
  },
  {
   "cell_type": "code",
   "execution_count": 209,
   "metadata": {},
   "outputs": [
    {
     "data": {
      "text/plain": [
       "[('factory_price', 0.4055162747455254),\n",
       " ('maker_apple', 0.297357210011821),\n",
       " ('phone_model_galaxy s3 3g 8gb', 0.02230058755846541),\n",
       " ('phone_model_iphone se 64gb', 0.021470808556998105),\n",
       " ('price_index', 0.020152476293525606),\n",
       " ('phone_model_galaxy s4 32gb', 0.016788197891405156),\n",
       " ('month_2017-03', 0.014962554083370343),\n",
       " ('maker_samsung', 0.014528264923404975),\n",
       " ('phone_model_galaxy s6 32gb', 0.012564488881904498),\n",
       " ('month_2016-05', 0.01105571686051544)]"
      ]
     },
     "execution_count": 209,
     "metadata": {},
     "output_type": "execute_result"
    }
   ],
   "source": [
    "# 학습한 모델의 피처 중요도를 출력\n",
    "feat_labels = x.columns.tolist()\n",
    "feature = list(zip(feat_labels, forest.feature_importances_))\n",
    "sorted(feature, key = lambda x: x[1], reverse = True)[:10]"
   ]
  },
  {
   "cell_type": "code",
   "execution_count": 210,
   "metadata": {},
   "outputs": [
    {
     "name": "stdout",
     "output_type": "stream",
     "text": [
      "('month_2017-03', 0.014962554083370343)\n",
      "('month_2016-05', 0.01105571686051544)\n",
      "('month_2016-09', 0.008592337511287398)\n",
      "('month_2016-04', 0.00748262912506)\n",
      "('month_2016-10', 0.006422919293430515)\n",
      "('month_2016-06', 0.0045159583064769545)\n",
      "('month_2016-08', 0.0036764398838073486)\n",
      "('month_2016-07', 0.0026831122727211283)\n",
      "('month_2016-03', 0.002400373287862534)\n",
      "('month_2016-02', 0.0011516771515964726)\n"
     ]
    }
   ],
   "source": [
    "# month 피처 중, 영향력이 높은 순으로 정렬하여 출력\n",
    "for sorted_feature in sorted(feature, key = lambda x: x[1],  reverse = True):\n",
    "    if \"month\" in sorted_feature[0]:\n",
    "        print(sorted_feature)"
   ]
  },
  {
   "cell_type": "code",
   "execution_count": 211,
   "metadata": {},
   "outputs": [
    {
     "data": {
      "text/plain": [
       "<matplotlib.collections.PathCollection at 0x7f9a304f5040>"
      ]
     },
     "execution_count": 211,
     "metadata": {},
     "output_type": "execute_result"
    },
    {
     "data": {
      "image/png": "[encoded data removed]",
      "text/plain": [
       "<Figure size 640x480 with 1 Axes>"
      ]
     },
     "metadata": {},
     "output_type": "display_data"
    }
   ],
   "source": [
    "# 예측 결과\n",
    "plt.scatter(y_test.values, y_test_pred)"
   ]
  },
  {
   "attachments": {},
   "cell_type": "markdown",
   "metadata": {},
   "source": [
    "## 피처 엔지니어링: 예측 모델 개선하기"
   ]
  },
  {
   "attachments": {},
   "cell_type": "markdown",
   "metadata": {},
   "source": [
    "### [기존 피처 가공하기: \"create-date\"]"
   ]
  },
  {
   "cell_type": "code",
   "execution_count": 212,
   "metadata": {},
   "outputs": [
    {
     "data": {
      "text/html": [
       "<div>\n",
       "<style scoped>\n",
       "    .dataframe tbody tr th:only-of-type {\n",
       "        vertical-align: middle;\n",
       "    }\n",
       "\n",
       "    .dataframe tbody tr th {\n",
       "        vertical-align: top;\n",
       "    }\n",
       "\n",
       "    .dataframe thead th {\n",
       "        text-align: right;\n",
       "    }\n",
       "</style>\n",
       "<table border=\"1\" class=\"dataframe\">\n",
       "  <thead>\n",
       "    <tr style=\"text-align: right;\">\n",
       "      <th></th>\n",
       "      <th>create_date</th>\n",
       "      <th>price</th>\n",
       "      <th>text</th>\n",
       "      <th>phone_model</th>\n",
       "      <th>factory_price</th>\n",
       "      <th>maker</th>\n",
       "      <th>price_index</th>\n",
       "    </tr>\n",
       "  </thead>\n",
       "  <tbody>\n",
       "    <tr>\n",
       "      <th>0</th>\n",
       "      <td>2017-03-19  4 35 00 PM</td>\n",
       "      <td>550000.00000</td>\n",
       "      <td>아이폰6플러스 블랙+애플라이트 64기가 팝니다  아이폰6플러스 블랙+애플라이트 64...</td>\n",
       "      <td>iphone 6 64gb</td>\n",
       "      <td>924000</td>\n",
       "      <td>apple</td>\n",
       "      <td>95.96000</td>\n",
       "    </tr>\n",
       "    <tr>\n",
       "      <th>1</th>\n",
       "      <td>2016-10-26  12 08 00 PM</td>\n",
       "      <td>380000.00000</td>\n",
       "      <td>갤럭시s6엣지 32기가 팝니다 직거래  갤럭시s6엣지 32기가 품명 갤럭시s6엣지제...</td>\n",
       "      <td>galaxy s6 edge 32gb</td>\n",
       "      <td>979000</td>\n",
       "      <td>samsung</td>\n",
       "      <td>103.05000</td>\n",
       "    </tr>\n",
       "    <tr>\n",
       "      <th>2</th>\n",
       "      <td>2016-10-25  12 52 00 PM</td>\n",
       "      <td>300000.00000</td>\n",
       "      <td>갤럭시s6 풀박스로 팝니다~~~ 새상품급  실기스조차 없어요  직접거래 구매한지 1...</td>\n",
       "      <td>galaxy s6 32gb</td>\n",
       "      <td>854000</td>\n",
       "      <td>samsung</td>\n",
       "      <td>103.05000</td>\n",
       "    </tr>\n",
       "    <tr>\n",
       "      <th>3</th>\n",
       "      <td>2017-03-23  11 14 00 PM</td>\n",
       "      <td>290000.00000</td>\n",
       "      <td>sk  g5 티탄 폰 단품판매합니다  직접거래 sk g5 티탄 폰 단품판매합니다 올...</td>\n",
       "      <td>lg g5 32gb</td>\n",
       "      <td>836000</td>\n",
       "      <td>lg</td>\n",
       "      <td>95.96000</td>\n",
       "    </tr>\n",
       "    <tr>\n",
       "      <th>4</th>\n",
       "      <td>2016-04-11  7 35 00 PM</td>\n",
       "      <td>280000.00000</td>\n",
       "      <td>sony 엑스페리아 c5 ultra e5506 16gb  미사용 새제품 팝니다 1...</td>\n",
       "      <td>lg u 32gb</td>\n",
       "      <td>396000</td>\n",
       "      <td>lg</td>\n",
       "      <td>102.59000</td>\n",
       "    </tr>\n",
       "    <tr>\n",
       "      <th>...</th>\n",
       "      <td>...</td>\n",
       "      <td>...</td>\n",
       "      <td>...</td>\n",
       "      <td>...</td>\n",
       "      <td>...</td>\n",
       "      <td>...</td>\n",
       "      <td>...</td>\n",
       "    </tr>\n",
       "    <tr>\n",
       "      <th>4946</th>\n",
       "      <td>2016-10-10  11 29 00 AM</td>\n",
       "      <td>1300000.00000</td>\n",
       "      <td>미개봉 언락폰 아이폰7플러스 256gb 골드 iphone7 plus 강북 도봉\\t ...</td>\n",
       "      <td>iphone 7 plus 256gb</td>\n",
       "      <td>1283700</td>\n",
       "      <td>apple</td>\n",
       "      <td>103.05000</td>\n",
       "    </tr>\n",
       "    <tr>\n",
       "      <th>4947</th>\n",
       "      <td>2016-10-24  10 03 00 PM</td>\n",
       "      <td>1300000.00000</td>\n",
       "      <td>미국판 아이폰7 256g 제트블랙 강남역삼 2대 미개봉언락 애플 a1660 강남역삼...</td>\n",
       "      <td>iphone 7 256gb</td>\n",
       "      <td>1130800</td>\n",
       "      <td>apple</td>\n",
       "      <td>103.05000</td>\n",
       "    </tr>\n",
       "    <tr>\n",
       "      <th>4948</th>\n",
       "      <td>2016-09-19  10 15 00 AM</td>\n",
       "      <td>1300000.00000</td>\n",
       "      <td>아이폰7 미개봉 홍콩판 팝니다 케이스,강화유리서비스 종류다양 아이폰7  917,91...</td>\n",
       "      <td>iphone 7 256gb</td>\n",
       "      <td>1130800</td>\n",
       "      <td>apple</td>\n",
       "      <td>103.05000</td>\n",
       "    </tr>\n",
       "    <tr>\n",
       "      <th>4949</th>\n",
       "      <td>2016-10-05  12 22 00 AM</td>\n",
       "      <td>1350000.00000</td>\n",
       "      <td>미개봉 언락폰 아이폰7플러스 256gb 골드 iphone7 plus 강북 도봉 미개...</td>\n",
       "      <td>iphone 7 plus 256gb</td>\n",
       "      <td>1283700</td>\n",
       "      <td>apple</td>\n",
       "      <td>103.05000</td>\n",
       "    </tr>\n",
       "    <tr>\n",
       "      <th>4950</th>\n",
       "      <td>2016-09-26  11 37 00 AM</td>\n",
       "      <td>1500000.00000</td>\n",
       "      <td>팝니다  아이폰 7 128gb 제트블랙 북미판  카메라 무음, 국내리퍼 가능  1...</td>\n",
       "      <td>iphone 7 128gb</td>\n",
       "      <td>999000</td>\n",
       "      <td>apple</td>\n",
       "      <td>103.05000</td>\n",
       "    </tr>\n",
       "  </tbody>\n",
       "</table>\n",
       "<p>4951 rows × 7 columns</p>\n",
       "</div>"
      ],
      "text/plain": [
       "                  create_date         price  \\\n",
       "0      2017-03-19  4 35 00 PM  550000.00000   \n",
       "1     2016-10-26  12 08 00 PM  380000.00000   \n",
       "2     2016-10-25  12 52 00 PM  300000.00000   \n",
       "3     2017-03-23  11 14 00 PM  290000.00000   \n",
       "4      2016-04-11  7 35 00 PM  280000.00000   \n",
       "...                       ...           ...   \n",
       "4946  2016-10-10  11 29 00 AM 1300000.00000   \n",
       "4947  2016-10-24  10 03 00 PM 1300000.00000   \n",
       "4948  2016-09-19  10 15 00 AM 1300000.00000   \n",
       "4949  2016-10-05  12 22 00 AM 1350000.00000   \n",
       "4950  2016-09-26  11 37 00 AM 1500000.00000   \n",
       "\n",
       "                                                   text          phone_model  \\\n",
       "0     아이폰6플러스 블랙+애플라이트 64기가 팝니다  아이폰6플러스 블랙+애플라이트 64...        iphone 6 64gb   \n",
       "1     갤럭시s6엣지 32기가 팝니다 직거래  갤럭시s6엣지 32기가 품명 갤럭시s6엣지제...  galaxy s6 edge 32gb   \n",
       "2     갤럭시s6 풀박스로 팝니다~~~ 새상품급  실기스조차 없어요  직접거래 구매한지 1...       galaxy s6 32gb   \n",
       "3     sk  g5 티탄 폰 단품판매합니다  직접거래 sk g5 티탄 폰 단품판매합니다 올...           lg g5 32gb   \n",
       "4      sony 엑스페리아 c5 ultra e5506 16gb  미사용 새제품 팝니다 1...            lg u 32gb   \n",
       "...                                                 ...                  ...   \n",
       "4946  미개봉 언락폰 아이폰7플러스 256gb 골드 iphone7 plus 강북 도봉\\t ...  iphone 7 plus 256gb   \n",
       "4947  미국판 아이폰7 256g 제트블랙 강남역삼 2대 미개봉언락 애플 a1660 강남역삼...       iphone 7 256gb   \n",
       "4948  아이폰7 미개봉 홍콩판 팝니다 케이스,강화유리서비스 종류다양 아이폰7  917,91...       iphone 7 256gb   \n",
       "4949  미개봉 언락폰 아이폰7플러스 256gb 골드 iphone7 plus 강북 도봉 미개...  iphone 7 plus 256gb   \n",
       "4950   팝니다  아이폰 7 128gb 제트블랙 북미판  카메라 무음, 국내리퍼 가능  1...       iphone 7 128gb   \n",
       "\n",
       "      factory_price    maker  price_index  \n",
       "0            924000    apple     95.96000  \n",
       "1            979000  samsung    103.05000  \n",
       "2            854000  samsung    103.05000  \n",
       "3            836000       lg     95.96000  \n",
       "4            396000       lg    102.59000  \n",
       "...             ...      ...          ...  \n",
       "4946        1283700    apple    103.05000  \n",
       "4947        1130800    apple    103.05000  \n",
       "4948        1130800    apple    103.05000  \n",
       "4949        1283700    apple    103.05000  \n",
       "4950         999000    apple    103.05000  \n",
       "\n",
       "[4951 rows x 7 columns]"
      ]
     },
     "execution_count": 212,
     "metadata": {},
     "output_type": "execute_result"
    }
   ],
   "source": [
    "# 데이터를 다시 불러옴\n",
    "df = pd.read_csv(\"/Users/yanghaejun/Documents/이것이 데이터분석이다/이것이 데이터 분석이다 예제/data/used_mobile_phone.csv\")\n",
    "df"
   ]
  },
  {
   "cell_type": "code",
   "execution_count": 213,
   "metadata": {},
   "outputs": [
    {
     "data": {
      "text/html": [
       "<div>\n",
       "<style scoped>\n",
       "    .dataframe tbody tr th:only-of-type {\n",
       "        vertical-align: middle;\n",
       "    }\n",
       "\n",
       "    .dataframe tbody tr th {\n",
       "        vertical-align: top;\n",
       "    }\n",
       "\n",
       "    .dataframe thead th {\n",
       "        text-align: right;\n",
       "    }\n",
       "</style>\n",
       "<table border=\"1\" class=\"dataframe\">\n",
       "  <thead>\n",
       "    <tr style=\"text-align: right;\">\n",
       "      <th></th>\n",
       "      <th>create_date</th>\n",
       "      <th>price</th>\n",
       "      <th>text</th>\n",
       "      <th>phone_model</th>\n",
       "      <th>factory_price</th>\n",
       "      <th>maker</th>\n",
       "      <th>price_index</th>\n",
       "      <th>create_unixtime</th>\n",
       "      <th>create_time_score</th>\n",
       "    </tr>\n",
       "  </thead>\n",
       "  <tbody>\n",
       "    <tr>\n",
       "      <th>0</th>\n",
       "      <td>2017-03-19  4 35 00 PM</td>\n",
       "      <td>550000.00000</td>\n",
       "      <td>아이폰6플러스 블랙+애플라이트 64기가 팝니다  아이폰6플러스 블랙+애플라이트 64...</td>\n",
       "      <td>iphone 6 64gb</td>\n",
       "      <td>924000</td>\n",
       "      <td>apple</td>\n",
       "      <td>95.96000</td>\n",
       "      <td>1489849200.00000</td>\n",
       "      <td>0.98561</td>\n",
       "    </tr>\n",
       "    <tr>\n",
       "      <th>1</th>\n",
       "      <td>2016-10-26  12 08 00 PM</td>\n",
       "      <td>380000.00000</td>\n",
       "      <td>갤럭시s6엣지 32기가 팝니다 직거래  갤럭시s6엣지 32기가 품명 갤럭시s6엣지제...</td>\n",
       "      <td>galaxy s6 edge 32gb</td>\n",
       "      <td>979000</td>\n",
       "      <td>samsung</td>\n",
       "      <td>103.05000</td>\n",
       "      <td>1477407600.00000</td>\n",
       "      <td>0.64029</td>\n",
       "    </tr>\n",
       "    <tr>\n",
       "      <th>2</th>\n",
       "      <td>2016-10-25  12 52 00 PM</td>\n",
       "      <td>300000.00000</td>\n",
       "      <td>갤럭시s6 풀박스로 팝니다~~~ 새상품급  실기스조차 없어요  직접거래 구매한지 1...</td>\n",
       "      <td>galaxy s6 32gb</td>\n",
       "      <td>854000</td>\n",
       "      <td>samsung</td>\n",
       "      <td>103.05000</td>\n",
       "      <td>1477321200.00000</td>\n",
       "      <td>0.63789</td>\n",
       "    </tr>\n",
       "    <tr>\n",
       "      <th>3</th>\n",
       "      <td>2017-03-23  11 14 00 PM</td>\n",
       "      <td>290000.00000</td>\n",
       "      <td>sk  g5 티탄 폰 단품판매합니다  직접거래 sk g5 티탄 폰 단품판매합니다 올...</td>\n",
       "      <td>lg g5 32gb</td>\n",
       "      <td>836000</td>\n",
       "      <td>lg</td>\n",
       "      <td>95.96000</td>\n",
       "      <td>1490194800.00000</td>\n",
       "      <td>0.99520</td>\n",
       "    </tr>\n",
       "    <tr>\n",
       "      <th>4</th>\n",
       "      <td>2016-04-11  7 35 00 PM</td>\n",
       "      <td>280000.00000</td>\n",
       "      <td>sony 엑스페리아 c5 ultra e5506 16gb  미사용 새제품 팝니다 1...</td>\n",
       "      <td>lg u 32gb</td>\n",
       "      <td>396000</td>\n",
       "      <td>lg</td>\n",
       "      <td>102.59000</td>\n",
       "      <td>1460300400.00000</td>\n",
       "      <td>0.16547</td>\n",
       "    </tr>\n",
       "    <tr>\n",
       "      <th>...</th>\n",
       "      <td>...</td>\n",
       "      <td>...</td>\n",
       "      <td>...</td>\n",
       "      <td>...</td>\n",
       "      <td>...</td>\n",
       "      <td>...</td>\n",
       "      <td>...</td>\n",
       "      <td>...</td>\n",
       "      <td>...</td>\n",
       "    </tr>\n",
       "    <tr>\n",
       "      <th>4946</th>\n",
       "      <td>2016-10-10  11 29 00 AM</td>\n",
       "      <td>1300000.00000</td>\n",
       "      <td>미개봉 언락폰 아이폰7플러스 256gb 골드 iphone7 plus 강북 도봉\\t ...</td>\n",
       "      <td>iphone 7 plus 256gb</td>\n",
       "      <td>1283700</td>\n",
       "      <td>apple</td>\n",
       "      <td>103.05000</td>\n",
       "      <td>1476025200.00000</td>\n",
       "      <td>0.60192</td>\n",
       "    </tr>\n",
       "    <tr>\n",
       "      <th>4947</th>\n",
       "      <td>2016-10-24  10 03 00 PM</td>\n",
       "      <td>1300000.00000</td>\n",
       "      <td>미국판 아이폰7 256g 제트블랙 강남역삼 2대 미개봉언락 애플 a1660 강남역삼...</td>\n",
       "      <td>iphone 7 256gb</td>\n",
       "      <td>1130800</td>\n",
       "      <td>apple</td>\n",
       "      <td>103.05000</td>\n",
       "      <td>1477234800.00000</td>\n",
       "      <td>0.63549</td>\n",
       "    </tr>\n",
       "    <tr>\n",
       "      <th>4948</th>\n",
       "      <td>2016-09-19  10 15 00 AM</td>\n",
       "      <td>1300000.00000</td>\n",
       "      <td>아이폰7 미개봉 홍콩판 팝니다 케이스,강화유리서비스 종류다양 아이폰7  917,91...</td>\n",
       "      <td>iphone 7 256gb</td>\n",
       "      <td>1130800</td>\n",
       "      <td>apple</td>\n",
       "      <td>103.05000</td>\n",
       "      <td>1474210800.00000</td>\n",
       "      <td>0.55156</td>\n",
       "    </tr>\n",
       "    <tr>\n",
       "      <th>4949</th>\n",
       "      <td>2016-10-05  12 22 00 AM</td>\n",
       "      <td>1350000.00000</td>\n",
       "      <td>미개봉 언락폰 아이폰7플러스 256gb 골드 iphone7 plus 강북 도봉 미개...</td>\n",
       "      <td>iphone 7 plus 256gb</td>\n",
       "      <td>1283700</td>\n",
       "      <td>apple</td>\n",
       "      <td>103.05000</td>\n",
       "      <td>1475593200.00000</td>\n",
       "      <td>0.58993</td>\n",
       "    </tr>\n",
       "    <tr>\n",
       "      <th>4950</th>\n",
       "      <td>2016-09-26  11 37 00 AM</td>\n",
       "      <td>1500000.00000</td>\n",
       "      <td>팝니다  아이폰 7 128gb 제트블랙 북미판  카메라 무음, 국내리퍼 가능  1...</td>\n",
       "      <td>iphone 7 128gb</td>\n",
       "      <td>999000</td>\n",
       "      <td>apple</td>\n",
       "      <td>103.05000</td>\n",
       "      <td>1474815600.00000</td>\n",
       "      <td>0.56835</td>\n",
       "    </tr>\n",
       "  </tbody>\n",
       "</table>\n",
       "<p>4951 rows × 9 columns</p>\n",
       "</div>"
      ],
      "text/plain": [
       "                  create_date         price  \\\n",
       "0      2017-03-19  4 35 00 PM  550000.00000   \n",
       "1     2016-10-26  12 08 00 PM  380000.00000   \n",
       "2     2016-10-25  12 52 00 PM  300000.00000   \n",
       "3     2017-03-23  11 14 00 PM  290000.00000   \n",
       "4      2016-04-11  7 35 00 PM  280000.00000   \n",
       "...                       ...           ...   \n",
       "4946  2016-10-10  11 29 00 AM 1300000.00000   \n",
       "4947  2016-10-24  10 03 00 PM 1300000.00000   \n",
       "4948  2016-09-19  10 15 00 AM 1300000.00000   \n",
       "4949  2016-10-05  12 22 00 AM 1350000.00000   \n",
       "4950  2016-09-26  11 37 00 AM 1500000.00000   \n",
       "\n",
       "                                                   text          phone_model  \\\n",
       "0     아이폰6플러스 블랙+애플라이트 64기가 팝니다  아이폰6플러스 블랙+애플라이트 64...        iphone 6 64gb   \n",
       "1     갤럭시s6엣지 32기가 팝니다 직거래  갤럭시s6엣지 32기가 품명 갤럭시s6엣지제...  galaxy s6 edge 32gb   \n",
       "2     갤럭시s6 풀박스로 팝니다~~~ 새상품급  실기스조차 없어요  직접거래 구매한지 1...       galaxy s6 32gb   \n",
       "3     sk  g5 티탄 폰 단품판매합니다  직접거래 sk g5 티탄 폰 단품판매합니다 올...           lg g5 32gb   \n",
       "4      sony 엑스페리아 c5 ultra e5506 16gb  미사용 새제품 팝니다 1...            lg u 32gb   \n",
       "...                                                 ...                  ...   \n",
       "4946  미개봉 언락폰 아이폰7플러스 256gb 골드 iphone7 plus 강북 도봉\\t ...  iphone 7 plus 256gb   \n",
       "4947  미국판 아이폰7 256g 제트블랙 강남역삼 2대 미개봉언락 애플 a1660 강남역삼...       iphone 7 256gb   \n",
       "4948  아이폰7 미개봉 홍콩판 팝니다 케이스,강화유리서비스 종류다양 아이폰7  917,91...       iphone 7 256gb   \n",
       "4949  미개봉 언락폰 아이폰7플러스 256gb 골드 iphone7 plus 강북 도봉 미개...  iphone 7 plus 256gb   \n",
       "4950   팝니다  아이폰 7 128gb 제트블랙 북미판  카메라 무음, 국내리퍼 가능  1...       iphone 7 128gb   \n",
       "\n",
       "      factory_price    maker  price_index  create_unixtime  create_time_score  \n",
       "0            924000    apple     95.96000 1489849200.00000            0.98561  \n",
       "1            979000  samsung    103.05000 1477407600.00000            0.64029  \n",
       "2            854000  samsung    103.05000 1477321200.00000            0.63789  \n",
       "3            836000       lg     95.96000 1490194800.00000            0.99520  \n",
       "4            396000       lg    102.59000 1460300400.00000            0.16547  \n",
       "...             ...      ...          ...              ...                ...  \n",
       "4946        1283700    apple    103.05000 1476025200.00000            0.60192  \n",
       "4947        1130800    apple    103.05000 1477234800.00000            0.63549  \n",
       "4948        1130800    apple    103.05000 1474210800.00000            0.55156  \n",
       "4949        1283700    apple    103.05000 1475593200.00000            0.58993  \n",
       "4950         999000    apple    103.05000 1474815600.00000            0.56835  \n",
       "\n",
       "[4951 rows x 9 columns]"
      ]
     },
     "execution_count": 213,
     "metadata": {},
     "output_type": "execute_result"
    }
   ],
   "source": [
    "from datetime import datetime\n",
    "from sklearn.preprocessing import MinMaxScaler\n",
    "import time\n",
    "\n",
    "# create_date 피처를 수치적으로 계산하기 위해, unixtime으로 변환하는 함수를 정의\n",
    "def date_to_unixtime(date_str):\n",
    "    timestamp = time.mktime(datetime.strptime(date_str, \"%Y-%m-%d\").timetuple())\n",
    "    return timestamp\n",
    "\n",
    "# create_date 피처를 '현재와 얼마나 가까운 데이터인 지' 판단하기 위한 점수를 생성. 먼저 unixtime으로 데이터를 변환\n",
    "df[\"create_unixtime\"] = df[\"create_date\"].apply(lambda x: date_to_unixtime(x[:10]))\n",
    "\n",
    "# 변환된 unixtime에 min-max 스케일링을 적용\n",
    "df[\"create_time_score\"] = (df[\"create_unixtime\"] - df[\"create_unixtime\"].min()) / (df[\"create_unixtime\"].max() - df[\"create_unixtime\"].min())\n",
    "df"
   ]
  },
  {
   "attachments": {},
   "cell_type": "markdown",
   "metadata": {},
   "source": [
    "### [기존 피처의 가공: phone_model]"
   ]
  },
  {
   "cell_type": "code",
   "execution_count": 214,
   "metadata": {},
   "outputs": [
    {
     "data": {
      "text/html": [
       "<div>\n",
       "<style scoped>\n",
       "    .dataframe tbody tr th:only-of-type {\n",
       "        vertical-align: middle;\n",
       "    }\n",
       "\n",
       "    .dataframe tbody tr th {\n",
       "        vertical-align: top;\n",
       "    }\n",
       "\n",
       "    .dataframe thead th {\n",
       "        text-align: right;\n",
       "    }\n",
       "</style>\n",
       "<table border=\"1\" class=\"dataframe\">\n",
       "  <thead>\n",
       "    <tr style=\"text-align: right;\">\n",
       "      <th></th>\n",
       "      <th>create_date</th>\n",
       "      <th>price</th>\n",
       "      <th>text</th>\n",
       "      <th>phone_model</th>\n",
       "      <th>factory_price</th>\n",
       "      <th>maker</th>\n",
       "      <th>price_index</th>\n",
       "      <th>create_unixtime</th>\n",
       "      <th>create_time_score</th>\n",
       "      <th>phone_model_storage</th>\n",
       "      <th>phone_model_detail</th>\n",
       "    </tr>\n",
       "  </thead>\n",
       "  <tbody>\n",
       "    <tr>\n",
       "      <th>0</th>\n",
       "      <td>2017-03-19  4 35 00 PM</td>\n",
       "      <td>550000.00000</td>\n",
       "      <td>아이폰6플러스 블랙+애플라이트 64기가 팝니다  아이폰6플러스 블랙+애플라이트 64...</td>\n",
       "      <td>iphone 6 64gb</td>\n",
       "      <td>924000</td>\n",
       "      <td>apple</td>\n",
       "      <td>95.96000</td>\n",
       "      <td>1489849200.00000</td>\n",
       "      <td>0.98561</td>\n",
       "      <td>64gb</td>\n",
       "      <td>iphone 6</td>\n",
       "    </tr>\n",
       "    <tr>\n",
       "      <th>1</th>\n",
       "      <td>2016-10-26  12 08 00 PM</td>\n",
       "      <td>380000.00000</td>\n",
       "      <td>갤럭시s6엣지 32기가 팝니다 직거래  갤럭시s6엣지 32기가 품명 갤럭시s6엣지제...</td>\n",
       "      <td>galaxy s6 edge 32gb</td>\n",
       "      <td>979000</td>\n",
       "      <td>samsung</td>\n",
       "      <td>103.05000</td>\n",
       "      <td>1477407600.00000</td>\n",
       "      <td>0.64029</td>\n",
       "      <td>32gb</td>\n",
       "      <td>galaxy s6 edge</td>\n",
       "    </tr>\n",
       "    <tr>\n",
       "      <th>2</th>\n",
       "      <td>2016-10-25  12 52 00 PM</td>\n",
       "      <td>300000.00000</td>\n",
       "      <td>갤럭시s6 풀박스로 팝니다~~~ 새상품급  실기스조차 없어요  직접거래 구매한지 1...</td>\n",
       "      <td>galaxy s6 32gb</td>\n",
       "      <td>854000</td>\n",
       "      <td>samsung</td>\n",
       "      <td>103.05000</td>\n",
       "      <td>1477321200.00000</td>\n",
       "      <td>0.63789</td>\n",
       "      <td>32gb</td>\n",
       "      <td>galaxy s6</td>\n",
       "    </tr>\n",
       "    <tr>\n",
       "      <th>3</th>\n",
       "      <td>2017-03-23  11 14 00 PM</td>\n",
       "      <td>290000.00000</td>\n",
       "      <td>sk  g5 티탄 폰 단품판매합니다  직접거래 sk g5 티탄 폰 단품판매합니다 올...</td>\n",
       "      <td>lg g5 32gb</td>\n",
       "      <td>836000</td>\n",
       "      <td>lg</td>\n",
       "      <td>95.96000</td>\n",
       "      <td>1490194800.00000</td>\n",
       "      <td>0.99520</td>\n",
       "      <td>32gb</td>\n",
       "      <td>lg g5</td>\n",
       "    </tr>\n",
       "    <tr>\n",
       "      <th>4</th>\n",
       "      <td>2016-04-11  7 35 00 PM</td>\n",
       "      <td>280000.00000</td>\n",
       "      <td>sony 엑스페리아 c5 ultra e5506 16gb  미사용 새제품 팝니다 1...</td>\n",
       "      <td>lg u 32gb</td>\n",
       "      <td>396000</td>\n",
       "      <td>lg</td>\n",
       "      <td>102.59000</td>\n",
       "      <td>1460300400.00000</td>\n",
       "      <td>0.16547</td>\n",
       "      <td>32gb</td>\n",
       "      <td>lg u</td>\n",
       "    </tr>\n",
       "    <tr>\n",
       "      <th>...</th>\n",
       "      <td>...</td>\n",
       "      <td>...</td>\n",
       "      <td>...</td>\n",
       "      <td>...</td>\n",
       "      <td>...</td>\n",
       "      <td>...</td>\n",
       "      <td>...</td>\n",
       "      <td>...</td>\n",
       "      <td>...</td>\n",
       "      <td>...</td>\n",
       "      <td>...</td>\n",
       "    </tr>\n",
       "    <tr>\n",
       "      <th>4946</th>\n",
       "      <td>2016-10-10  11 29 00 AM</td>\n",
       "      <td>1300000.00000</td>\n",
       "      <td>미개봉 언락폰 아이폰7플러스 256gb 골드 iphone7 plus 강북 도봉\\t ...</td>\n",
       "      <td>iphone 7 plus 256gb</td>\n",
       "      <td>1283700</td>\n",
       "      <td>apple</td>\n",
       "      <td>103.05000</td>\n",
       "      <td>1476025200.00000</td>\n",
       "      <td>0.60192</td>\n",
       "      <td>256gb</td>\n",
       "      <td>iphone 7 plus</td>\n",
       "    </tr>\n",
       "    <tr>\n",
       "      <th>4947</th>\n",
       "      <td>2016-10-24  10 03 00 PM</td>\n",
       "      <td>1300000.00000</td>\n",
       "      <td>미국판 아이폰7 256g 제트블랙 강남역삼 2대 미개봉언락 애플 a1660 강남역삼...</td>\n",
       "      <td>iphone 7 256gb</td>\n",
       "      <td>1130800</td>\n",
       "      <td>apple</td>\n",
       "      <td>103.05000</td>\n",
       "      <td>1477234800.00000</td>\n",
       "      <td>0.63549</td>\n",
       "      <td>256gb</td>\n",
       "      <td>iphone 7</td>\n",
       "    </tr>\n",
       "    <tr>\n",
       "      <th>4948</th>\n",
       "      <td>2016-09-19  10 15 00 AM</td>\n",
       "      <td>1300000.00000</td>\n",
       "      <td>아이폰7 미개봉 홍콩판 팝니다 케이스,강화유리서비스 종류다양 아이폰7  917,91...</td>\n",
       "      <td>iphone 7 256gb</td>\n",
       "      <td>1130800</td>\n",
       "      <td>apple</td>\n",
       "      <td>103.05000</td>\n",
       "      <td>1474210800.00000</td>\n",
       "      <td>0.55156</td>\n",
       "      <td>256gb</td>\n",
       "      <td>iphone 7</td>\n",
       "    </tr>\n",
       "    <tr>\n",
       "      <th>4949</th>\n",
       "      <td>2016-10-05  12 22 00 AM</td>\n",
       "      <td>1350000.00000</td>\n",
       "      <td>미개봉 언락폰 아이폰7플러스 256gb 골드 iphone7 plus 강북 도봉 미개...</td>\n",
       "      <td>iphone 7 plus 256gb</td>\n",
       "      <td>1283700</td>\n",
       "      <td>apple</td>\n",
       "      <td>103.05000</td>\n",
       "      <td>1475593200.00000</td>\n",
       "      <td>0.58993</td>\n",
       "      <td>256gb</td>\n",
       "      <td>iphone 7 plus</td>\n",
       "    </tr>\n",
       "    <tr>\n",
       "      <th>4950</th>\n",
       "      <td>2016-09-26  11 37 00 AM</td>\n",
       "      <td>1500000.00000</td>\n",
       "      <td>팝니다  아이폰 7 128gb 제트블랙 북미판  카메라 무음, 국내리퍼 가능  1...</td>\n",
       "      <td>iphone 7 128gb</td>\n",
       "      <td>999000</td>\n",
       "      <td>apple</td>\n",
       "      <td>103.05000</td>\n",
       "      <td>1474815600.00000</td>\n",
       "      <td>0.56835</td>\n",
       "      <td>128gb</td>\n",
       "      <td>iphone 7</td>\n",
       "    </tr>\n",
       "  </tbody>\n",
       "</table>\n",
       "<p>4951 rows × 11 columns</p>\n",
       "</div>"
      ],
      "text/plain": [
       "                  create_date         price  \\\n",
       "0      2017-03-19  4 35 00 PM  550000.00000   \n",
       "1     2016-10-26  12 08 00 PM  380000.00000   \n",
       "2     2016-10-25  12 52 00 PM  300000.00000   \n",
       "3     2017-03-23  11 14 00 PM  290000.00000   \n",
       "4      2016-04-11  7 35 00 PM  280000.00000   \n",
       "...                       ...           ...   \n",
       "4946  2016-10-10  11 29 00 AM 1300000.00000   \n",
       "4947  2016-10-24  10 03 00 PM 1300000.00000   \n",
       "4948  2016-09-19  10 15 00 AM 1300000.00000   \n",
       "4949  2016-10-05  12 22 00 AM 1350000.00000   \n",
       "4950  2016-09-26  11 37 00 AM 1500000.00000   \n",
       "\n",
       "                                                   text          phone_model  \\\n",
       "0     아이폰6플러스 블랙+애플라이트 64기가 팝니다  아이폰6플러스 블랙+애플라이트 64...        iphone 6 64gb   \n",
       "1     갤럭시s6엣지 32기가 팝니다 직거래  갤럭시s6엣지 32기가 품명 갤럭시s6엣지제...  galaxy s6 edge 32gb   \n",
       "2     갤럭시s6 풀박스로 팝니다~~~ 새상품급  실기스조차 없어요  직접거래 구매한지 1...       galaxy s6 32gb   \n",
       "3     sk  g5 티탄 폰 단품판매합니다  직접거래 sk g5 티탄 폰 단품판매합니다 올...           lg g5 32gb   \n",
       "4      sony 엑스페리아 c5 ultra e5506 16gb  미사용 새제품 팝니다 1...            lg u 32gb   \n",
       "...                                                 ...                  ...   \n",
       "4946  미개봉 언락폰 아이폰7플러스 256gb 골드 iphone7 plus 강북 도봉\\t ...  iphone 7 plus 256gb   \n",
       "4947  미국판 아이폰7 256g 제트블랙 강남역삼 2대 미개봉언락 애플 a1660 강남역삼...       iphone 7 256gb   \n",
       "4948  아이폰7 미개봉 홍콩판 팝니다 케이스,강화유리서비스 종류다양 아이폰7  917,91...       iphone 7 256gb   \n",
       "4949  미개봉 언락폰 아이폰7플러스 256gb 골드 iphone7 plus 강북 도봉 미개...  iphone 7 plus 256gb   \n",
       "4950   팝니다  아이폰 7 128gb 제트블랙 북미판  카메라 무음, 국내리퍼 가능  1...       iphone 7 128gb   \n",
       "\n",
       "      factory_price    maker  price_index  create_unixtime  create_time_score  \\\n",
       "0            924000    apple     95.96000 1489849200.00000            0.98561   \n",
       "1            979000  samsung    103.05000 1477407600.00000            0.64029   \n",
       "2            854000  samsung    103.05000 1477321200.00000            0.63789   \n",
       "3            836000       lg     95.96000 1490194800.00000            0.99520   \n",
       "4            396000       lg    102.59000 1460300400.00000            0.16547   \n",
       "...             ...      ...          ...              ...                ...   \n",
       "4946        1283700    apple    103.05000 1476025200.00000            0.60192   \n",
       "4947        1130800    apple    103.05000 1477234800.00000            0.63549   \n",
       "4948        1130800    apple    103.05000 1474210800.00000            0.55156   \n",
       "4949        1283700    apple    103.05000 1475593200.00000            0.58993   \n",
       "4950         999000    apple    103.05000 1474815600.00000            0.56835   \n",
       "\n",
       "     phone_model_storage phone_model_detail  \n",
       "0                   64gb           iphone 6  \n",
       "1                   32gb     galaxy s6 edge  \n",
       "2                   32gb          galaxy s6  \n",
       "3                   32gb              lg g5  \n",
       "4                   32gb               lg u  \n",
       "...                  ...                ...  \n",
       "4946               256gb      iphone 7 plus  \n",
       "4947               256gb           iphone 7  \n",
       "4948               256gb           iphone 7  \n",
       "4949               256gb      iphone 7 plus  \n",
       "4950               128gb           iphone 7  \n",
       "\n",
       "[4951 rows x 11 columns]"
      ]
     },
     "execution_count": 214,
     "metadata": {},
     "output_type": "execute_result"
    }
   ],
   "source": [
    "# phone_model 피처에서 저장 용량(phone_model_storage) 피처를 추출\n",
    "df[\"phone_model_storage\"] = df[\"phone_model\"].apply(lambda x: x.split(\" \")[-1])\n",
    "\n",
    "# phone_model 피처에서 기종 세부명(phone_model_detail) 피처를 추출\n",
    "df[\"phone_model_detail\"] = df[\"phone_model\"].apply(lambda x: \" \".join(x.split(\" \")[:-1]))\n",
    "df"
   ]
  },
  {
   "cell_type": "code",
   "execution_count": 215,
   "metadata": {},
   "outputs": [
    {
     "data": {
      "image/png": "[encoded data removed]",
      "text/plain": [
       "<Figure size 640x480 with 1 Axes>"
      ]
     },
     "metadata": {},
     "output_type": "display_data"
    },
    {
     "data": {
      "image/png": "[encoded data removed]",
      "text/plain": [
       "<Figure size 640x480 with 1 Axes>"
      ]
     },
     "metadata": {},
     "output_type": "display_data"
    }
   ],
   "source": [
    "# phone_model 피처의 기종별 거래 데이터 개수를 집계\n",
    "model_counts = df[\"phone_model\"].value_counts()\n",
    "\n",
    "# phone_model_detail 피처의 기종별 거래 데이터 개수를 집계\n",
    "model_detail_counts = df[\"phone_model_detail\"].value_counts()\n",
    "data = [model_counts, model_detail_counts]\n",
    "\n",
    "# 두 피처 간의 기종별 거래 데이터 개수를 비교(상태기반)\n",
    "plt.boxplot(data)\n",
    "plt.xticks(np.arange(1, 3), [\"model_counts\", \"model_detail_counts\"])\n",
    "\n",
    "# 객체기반\n",
    "fig = plt.figure()\n",
    "ax = fig.add_subplot(1, 1, 1)\n",
    "ax.boxplot(data)\n",
    "ax.set_xticklabels([\"model_counts\", \"model_detail_counts\"])\n",
    "plt.show()"
   ]
  },
  {
   "attachments": {},
   "cell_type": "markdown",
   "metadata": {},
   "source": [
    "### [phone_model 관련 딕셔너리 생성]"
   ]
  },
  {
   "cell_type": "code",
   "execution_count": 216,
   "metadata": {},
   "outputs": [
    {
     "name": "stdout",
     "output_type": "stream",
     "text": [
      "{('iphone 6', '64gb'): 924000, ('galaxy s6 edge', '32gb'): 979000, ('galaxy s6', '32gb'): 854000, ('...\n"
     ]
    }
   ],
   "source": [
    "# 모델명 +  용량으로 출고가를 찾을 수 있는 딕셔너리를 생성\n",
    "model_to_factory_price_dict = {}\n",
    "for index, row in df.iterrows():\n",
    "    model_concat = (row[\"phone_model_detail\"], row[\"phone_model_storage\"])\n",
    "    if model_concat in model_to_factory_price_dict:\n",
    "        pass\n",
    "    else:\n",
    "        model_to_factory_price_dict[model_concat] = row[\"factory_price\"]\n",
    "print(str(model_to_factory_price_dict)[:100] + \"...\")"
   ]
  },
  {
   "attachments": {},
   "cell_type": "markdown",
   "metadata": {},
   "source": [
    "### [감성 분류 물품의 상태 분류하기]"
   ]
  },
  {
   "cell_type": "code",
   "execution_count": 217,
   "metadata": {},
   "outputs": [
    {
     "data": {
      "image/png": "[encoded data removed]",
      "text/plain": [
       "<Figure size 640x480 with 1 Axes>"
      ]
     },
     "metadata": {},
     "output_type": "display_data"
    },
    {
     "name": "stdout",
     "output_type": "stream",
     "text": [
      "-1.3966616903783375 1.666982156397844\n"
     ]
    }
   ],
   "source": [
    "# 거래 가격(price)의 z-score를 계산. 이는 해당 데이터의 가격이 기종의 평균에 비해 어느 정도로 높거나 낮은지를 알 수 있게 하는 점수\n",
    "df[\"price_by_group\"] = df.groupby(\"phone_model_detail\")[\"price\"].transform(lambda x: (x - x.mean()) / x.std())\n",
    "\n",
    "# 거래 가격의 z-score(price_by_group) 의 분포를 그래프로 츨력\n",
    "ax = df[\"price_by_group\"].hist(bins = \"auto\")\n",
    "\n",
    "# z-score(price_by_group) 기준으로 하위 5%, 상위 5%에 해당하는 점수를 lower_bound, upper_bound라고 지정\n",
    "lower_bound = df[\"price_by_group\"].quantile(0.05)\n",
    "upper_bound = df[\"price_by_group\"].quantile(0.95)\n",
    "\n",
    "# lower_bound, upper_bound 그래프에 추가\n",
    "ax.axvline(x = lower_bound, color = \"r\", linestyle = \"dashed\", linewidth = 2)\n",
    "ax.axvline(x = upper_bound, color = \"r\", linestyle = \"dashed\", linewidth = 2)\n",
    "plt.show()\n",
    "\n",
    "# lower_bound, upper_bound 출력\n",
    "print(lower_bound, upper_bound)"
   ]
  },
  {
   "cell_type": "code",
   "execution_count": 218,
   "metadata": {},
   "outputs": [
    {
     "data": {
      "text/html": [
       "<div>\n",
       "<style scoped>\n",
       "    .dataframe tbody tr th:only-of-type {\n",
       "        vertical-align: middle;\n",
       "    }\n",
       "\n",
       "    .dataframe tbody tr th {\n",
       "        vertical-align: top;\n",
       "    }\n",
       "\n",
       "    .dataframe thead th {\n",
       "        text-align: right;\n",
       "    }\n",
       "</style>\n",
       "<table border=\"1\" class=\"dataframe\">\n",
       "  <thead>\n",
       "    <tr style=\"text-align: right;\">\n",
       "      <th></th>\n",
       "      <th>price</th>\n",
       "      <th>price_lower</th>\n",
       "      <th>price_upper</th>\n",
       "      <th>price_level</th>\n",
       "      <th>text</th>\n",
       "    </tr>\n",
       "  </thead>\n",
       "  <tbody>\n",
       "    <tr>\n",
       "      <th>0</th>\n",
       "      <td>550000.00000</td>\n",
       "      <td>180000.00000</td>\n",
       "      <td>680000.00000</td>\n",
       "      <td>1</td>\n",
       "      <td>아이폰6플러스 블랙+애플라이트 64기가 팝니다  아이폰6플러스 블랙+애플라이트 64...</td>\n",
       "    </tr>\n",
       "    <tr>\n",
       "      <th>1</th>\n",
       "      <td>380000.00000</td>\n",
       "      <td>180000.00000</td>\n",
       "      <td>414000.00000</td>\n",
       "      <td>1</td>\n",
       "      <td>갤럭시s6엣지 32기가 팝니다 직거래  갤럭시s6엣지 32기가 품명 갤럭시s6엣지제...</td>\n",
       "    </tr>\n",
       "    <tr>\n",
       "      <th>2</th>\n",
       "      <td>300000.00000</td>\n",
       "      <td>150000.00000</td>\n",
       "      <td>349000.00000</td>\n",
       "      <td>1</td>\n",
       "      <td>갤럭시s6 풀박스로 팝니다~~~ 새상품급  실기스조차 없어요  직접거래 구매한지 1...</td>\n",
       "    </tr>\n",
       "    <tr>\n",
       "      <th>3</th>\n",
       "      <td>290000.00000</td>\n",
       "      <td>100000.00000</td>\n",
       "      <td>500000.00000</td>\n",
       "      <td>1</td>\n",
       "      <td>sk  g5 티탄 폰 단품판매합니다  직접거래 sk g5 티탄 폰 단품판매합니다 올...</td>\n",
       "    </tr>\n",
       "    <tr>\n",
       "      <th>4</th>\n",
       "      <td>280000.00000</td>\n",
       "      <td>18000.00000</td>\n",
       "      <td>400000.00000</td>\n",
       "      <td>1</td>\n",
       "      <td>sony 엑스페리아 c5 ultra e5506 16gb  미사용 새제품 팝니다 1...</td>\n",
       "    </tr>\n",
       "    <tr>\n",
       "      <th>...</th>\n",
       "      <td>...</td>\n",
       "      <td>...</td>\n",
       "      <td>...</td>\n",
       "      <td>...</td>\n",
       "      <td>...</td>\n",
       "    </tr>\n",
       "    <tr>\n",
       "      <th>4946</th>\n",
       "      <td>1300000.00000</td>\n",
       "      <td>628200.00000</td>\n",
       "      <td>1200000.00000</td>\n",
       "      <td>2</td>\n",
       "      <td>미개봉 언락폰 아이폰7플러스 256gb 골드 iphone7 plus 강북 도봉\\t ...</td>\n",
       "    </tr>\n",
       "    <tr>\n",
       "      <th>4947</th>\n",
       "      <td>1300000.00000</td>\n",
       "      <td>597000.00000</td>\n",
       "      <td>1200000.00000</td>\n",
       "      <td>2</td>\n",
       "      <td>미국판 아이폰7 256g 제트블랙 강남역삼 2대 미개봉언락 애플 a1660 강남역삼...</td>\n",
       "    </tr>\n",
       "    <tr>\n",
       "      <th>4948</th>\n",
       "      <td>1300000.00000</td>\n",
       "      <td>597000.00000</td>\n",
       "      <td>1200000.00000</td>\n",
       "      <td>2</td>\n",
       "      <td>아이폰7 미개봉 홍콩판 팝니다 케이스,강화유리서비스 종류다양 아이폰7  917,91...</td>\n",
       "    </tr>\n",
       "    <tr>\n",
       "      <th>4949</th>\n",
       "      <td>1350000.00000</td>\n",
       "      <td>628200.00000</td>\n",
       "      <td>1200000.00000</td>\n",
       "      <td>2</td>\n",
       "      <td>미개봉 언락폰 아이폰7플러스 256gb 골드 iphone7 plus 강북 도봉 미개...</td>\n",
       "    </tr>\n",
       "    <tr>\n",
       "      <th>4950</th>\n",
       "      <td>1500000.00000</td>\n",
       "      <td>597000.00000</td>\n",
       "      <td>1200000.00000</td>\n",
       "      <td>2</td>\n",
       "      <td>팝니다  아이폰 7 128gb 제트블랙 북미판  카메라 무음, 국내리퍼 가능  1...</td>\n",
       "    </tr>\n",
       "  </tbody>\n",
       "</table>\n",
       "<p>4951 rows × 5 columns</p>\n",
       "</div>"
      ],
      "text/plain": [
       "             price  price_lower   price_upper price_level  \\\n",
       "0     550000.00000 180000.00000  680000.00000           1   \n",
       "1     380000.00000 180000.00000  414000.00000           1   \n",
       "2     300000.00000 150000.00000  349000.00000           1   \n",
       "3     290000.00000 100000.00000  500000.00000           1   \n",
       "4     280000.00000  18000.00000  400000.00000           1   \n",
       "...            ...          ...           ...         ...   \n",
       "4946 1300000.00000 628200.00000 1200000.00000           2   \n",
       "4947 1300000.00000 597000.00000 1200000.00000           2   \n",
       "4948 1300000.00000 597000.00000 1200000.00000           2   \n",
       "4949 1350000.00000 628200.00000 1200000.00000           2   \n",
       "4950 1500000.00000 597000.00000 1200000.00000           2   \n",
       "\n",
       "                                                   text  \n",
       "0     아이폰6플러스 블랙+애플라이트 64기가 팝니다  아이폰6플러스 블랙+애플라이트 64...  \n",
       "1     갤럭시s6엣지 32기가 팝니다 직거래  갤럭시s6엣지 32기가 품명 갤럭시s6엣지제...  \n",
       "2     갤럭시s6 풀박스로 팝니다~~~ 새상품급  실기스조차 없어요  직접거래 구매한지 1...  \n",
       "3     sk  g5 티탄 폰 단품판매합니다  직접거래 sk g5 티탄 폰 단품판매합니다 올...  \n",
       "4      sony 엑스페리아 c5 ultra e5506 16gb  미사용 새제품 팝니다 1...  \n",
       "...                                                 ...  \n",
       "4946  미개봉 언락폰 아이폰7플러스 256gb 골드 iphone7 plus 강북 도봉\\t ...  \n",
       "4947  미국판 아이폰7 256g 제트블랙 강남역삼 2대 미개봉언락 애플 a1660 강남역삼...  \n",
       "4948  아이폰7 미개봉 홍콩판 팝니다 케이스,강화유리서비스 종류다양 아이폰7  917,91...  \n",
       "4949  미개봉 언락폰 아이폰7플러스 256gb 골드 iphone7 plus 강북 도봉 미개...  \n",
       "4950   팝니다  아이폰 7 128gb 제트블랙 북미판  카메라 무음, 국내리퍼 가능  1...  \n",
       "\n",
       "[4951 rows x 5 columns]"
      ]
     },
     "execution_count": 218,
     "metadata": {},
     "output_type": "execute_result"
    }
   ],
   "source": [
    "# lower_bound보다 낮으면 0, upper_bound보다 높으면 2, 그 중간이면 1로 가격의 상태를 분류하는 함수를 정의\n",
    "def get_price_level(price, lower, upper):\n",
    "    if price <= lower:\n",
    "        return \"0\"\n",
    "    elif price >= upper:\n",
    "        return \"2\"\n",
    "    else:\n",
    "        return \"1\"\n",
    "    \n",
    "# lower_bound보다 낮으면 0, upper_bound보다 높으면 2, 그 중간이면 1로 가격의 상태를 분류\n",
    "df[\"price_lower\"] = df.groupby(\"phone_model_detail\")[\"price\"].transform(lambda x: x.quantile(0.05))\n",
    "df[\"price_upper\"] = df.groupby(\"phone_model_detail\")[\"price\"].transform(lambda x: x.quantile(0.95))\n",
    "df[\"price_level\"] = df.apply(lambda row: get_price_level(row[\"price\"], row[\"price_lower\"], row[\"price_upper\"]), axis = 1)\n",
    "df[[\"price\", \"price_lower\", \"price_upper\", \"price_level\", \"text\"]]"
   ]
  },
  {
   "attachments": {},
   "cell_type": "markdown",
   "metadata": {},
   "source": [
    "### [텍스트 전처리하기]"
   ]
  },
  {
   "cell_type": "code",
   "execution_count": 219,
   "metadata": {},
   "outputs": [
    {
     "data": {
      "text/plain": [
       "['거래', '입니', '판매', '아이폰', '갤럭시', '골드', '팝', '만원', '폰', '시']"
      ]
     },
     "execution_count": 219,
     "metadata": {},
     "output_type": "execute_result"
    }
   ],
   "source": [
    "import pickle\n",
    "import re\n",
    "\n",
    "# 중고나라 불용어 사전을 불러옴\n",
    "with open(\"/Users/yanghaejun/Documents/이것이 데이터분석이다/이것이 데이터 분석이다 예제/data/used_mobile_phone_stopwords.pkl\", \"rb\") as f:\n",
    "    stopwords = pickle.load(f)\n",
    "\n",
    "# 불용어 사전에 등록된 단어 10개를 출력\n",
    "stopwords[:10]"
   ]
  },
  {
   "attachments": {},
   "cell_type": "markdown",
   "metadata": {},
   "source": [
    "### [형태소 단위로 추출하기]"
   ]
  },
  {
   "cell_type": "code",
   "execution_count": 220,
   "metadata": {},
   "outputs": [
    {
     "name": "stdout",
     "output_type": "stream",
     "text": [
      "['+', '애플', '라이트', '팝니다', '+', '애플', '라이트', '팝니다', '+', '애플', '라이트', '팝니다', '리퍼', '기간', '만료', '되어서', '징', '하게', '되었습니다', '상태', '초', 'a', '급', '스', '없습니다', '+', '애플', '라이트', '팝니다', '+', '애플', '라이트', '팝니다', '리퍼', '기간', '만료', '되어서', '징', '하게', '되었습니다', '상태', '초', 'a', '급', '스', '없습니다', '징', '애플', '라이트', '홈', '버튼', '링', '카메라', '링', '볼륨', '버튼', '슬립', '버튼', '검금', '심플', '튀지', '않게', '이쁘게', '했구요', '유심', '꽂고', '바로', '사용', '하시면', '됩니다', '사람', '이냐', '자주', '물어보고', '실제', '더욱', '이쁩니다', '밤', '영롱하게', '맥북', '뒷', '사과', '로고', '비춰지고', '요전', '넘어가기', '위해', '합니다', '가능합니다', '박스', '어머니', '버리시고', '이어폰', '충전기', '정품', '드립니다', '직거래', '우선', '순', '위로', '정', '싶으시면', '선', '입금', '택배', '발송', '해드리겠습니다', '믿으시면', '직거래', '하시길', '추천', '해요', '안전', '합니다', '서울시', '강남구', '역삼동', '차병원', '사거리', '근처', '가격']\n"
     ]
    }
   ],
   "source": [
    "from konlpy.tag import Okt\n",
    "\n",
    "# \"+\"를 제외한 특수문자를 제거하고, 숫자 형태의 문자를 제거\n",
    "def text_cleaning(text):\n",
    "    text = \"\".join(c for c in text if c.isalnum() or c in \"+, \")\n",
    "    text = \"\".join(i for i in text if i.isdigit() == False)\n",
    "    return text\n",
    "\n",
    "# 불용어에 등장하지 않는 형태소만을 추출하여 반환하는 함수\n",
    "def get_pos(x):\n",
    "    tagger = Okt()\n",
    "    poses = tagger.pos(x)\n",
    "    return [pos[0] for pos in poses if pos[0] not in stopwords]\n",
    "\n",
    "# 위 함수들을 적용한 형태소 추출을 테스트\n",
    "df[\"text\"] = df[\"text\"].apply(lambda x: text_cleaning(x))\n",
    "result = get_pos(df[\"text\"][0])\n",
    "print(result)"
   ]
  },
  {
   "attachments": {},
   "cell_type": "markdown",
   "metadata": {},
   "source": [
    "### [빈출 형태소 2500개 선정하기]"
   ]
  },
  {
   "cell_type": "code",
   "execution_count": 221,
   "metadata": {},
   "outputs": [
    {
     "data": {
      "text/plain": [
       "['입니다',\n",
       " '직거래',\n",
       " 's',\n",
       " '합니다',\n",
       " '택배',\n",
       " '사용',\n",
       " '급',\n",
       " '상태',\n",
       " '팝니다',\n",
       " '가능합니다',\n",
       " '정상',\n",
       " '사진',\n",
       " '가격',\n",
       " '+',\n",
       " '케이스',\n",
       " 'a',\n",
       " '주세요',\n",
       " '해지',\n",
       " '삭제',\n",
       " '제품',\n",
       " '있습니다',\n",
       " '박스',\n",
       " '가능',\n",
       " '직접',\n",
       " '액정',\n",
       " '배터리',\n",
       " '성품',\n",
       " '필름',\n",
       " '리퍼',\n",
       " '충전기',\n",
       " '없습니다',\n",
       " '풀',\n",
       " '개통',\n",
       " '유심',\n",
       " '즈',\n",
       " '안전',\n",
       " '스',\n",
       " '하기',\n",
       " '신청',\n",
       " '드립니다',\n",
       " '통신사',\n",
       " '구입',\n",
       " '약정',\n",
       " '이어폰',\n",
       " '공기',\n",
       " '새',\n",
       " '기변',\n",
       " '포함',\n",
       " '모델',\n",
       " '선택',\n",
       " '됩니다',\n",
       " '확인',\n",
       " '기간',\n",
       " '기스',\n",
       " '그레이',\n",
       " '찍힘',\n",
       " '방법',\n",
       " '바로',\n",
       " '할인',\n",
       " '제',\n",
       " '시기',\n",
       " '스페이스',\n",
       " '희망',\n",
       " '번호',\n",
       " '중고나라',\n",
       " '본체',\n",
       " '같이',\n",
       " '생활',\n",
       " '잘',\n",
       " '무',\n",
       " '퀵',\n",
       " '글',\n",
       " '된',\n",
       " '않을',\n",
       " '공식',\n",
       " '앱',\n",
       " '확정',\n",
       " '기능',\n",
       " '다운',\n",
       " '양',\n",
       " '호환',\n",
       " '케이블',\n",
       " '받기',\n",
       " '미',\n",
       " '이메일',\n",
       " '작성',\n",
       " '부분',\n",
       " '금지',\n",
       " '될수',\n",
       " '식아이디',\n",
       " '허위',\n",
       " '임의',\n",
       " '통보',\n",
       " '채우지',\n",
       " '핸드폰',\n",
       " '편한',\n",
       " '전혀',\n",
       " '충전',\n",
       " '내용',\n",
       " '연락처',\n",
       " '단말기',\n",
       " '부산',\n",
       " '대구',\n",
       " '미사',\n",
       " '정품',\n",
       " '중고',\n",
       " '문제',\n",
       " '없이',\n",
       " '이상',\n",
       " '보호',\n",
       " '방문',\n",
       " '없는',\n",
       " '외관',\n",
       " '외',\n",
       " '인천',\n",
       " '깨끗합니다',\n",
       " 'x',\n",
       " '초기',\n",
       " '하나',\n",
       " '참고',\n",
       " '이구',\n",
       " '요금',\n",
       " '개월',\n",
       " '이나',\n",
       " '사이트',\n",
       " '팔아요',\n",
       " '하시면',\n",
       " '했습니다',\n",
       " '동',\n",
       " '카페',\n",
       " '보내',\n",
       " '카톡',\n",
       " '블로그',\n",
       " '링크',\n",
       " '싸이',\n",
       " '강퇴',\n",
       " '삼성',\n",
       " '거치',\n",
       " '있는',\n",
       " '호선',\n",
       " '모든',\n",
       " '입금',\n",
       " '처리',\n",
       " '없음',\n",
       " '뒷',\n",
       " '핑크',\n",
       " '카메라',\n",
       " '거주지',\n",
       " '공',\n",
       " '하여',\n",
       " '역도',\n",
       " '재판매',\n",
       " '유도',\n",
       " '선',\n",
       " '교체',\n",
       " '강화유리',\n",
       " '경매',\n",
       " '만만',\n",
       " '부탁드립니다',\n",
       " '구성',\n",
       " '필수',\n",
       " '차대',\n",
       " '재시',\n",
       " '없고',\n",
       " '전체',\n",
       " '파손',\n",
       " '다른',\n",
       " '가능하며',\n",
       " '작동',\n",
       " '가능한',\n",
       " '교환',\n",
       " '드리겠습니다',\n",
       " '좋습니다',\n",
       " '기계',\n",
       " '생각',\n",
       " '그대로',\n",
       " '추가',\n",
       " '약간',\n",
       " '살짝',\n",
       " '바랍니다',\n",
       " '테두리',\n",
       " '풀박',\n",
       " '미개',\n",
       " '거의',\n",
       " '부담',\n",
       " '쪽',\n",
       " '조금',\n",
       " '비',\n",
       " '주시',\n",
       " 'as',\n",
       " '하지',\n",
       " '싸게',\n",
       " '때',\n",
       " '하겠습니다',\n",
       " '봉',\n",
       " '완전',\n",
       " '상품',\n",
       " '댓글',\n",
       " '착불',\n",
       " '부착',\n",
       " '때문',\n",
       " '금액',\n",
       " '아주',\n",
       " '폴더',\n",
       " '원하시면',\n",
       " '와인',\n",
       " '할',\n",
       " '하며',\n",
       " '수',\n",
       " '하단',\n",
       " '현재',\n",
       " '거주',\n",
       " '한번',\n",
       " '버튼',\n",
       " '더',\n",
       " '가능하고',\n",
       " '정말',\n",
       " '있고',\n",
       " '엘지',\n",
       " '커버',\n",
       " '블루',\n",
       " '번',\n",
       " '원합니다',\n",
       " '기본',\n",
       " '해주세요',\n",
       " '터치',\n",
       " '그냥',\n",
       " '하는',\n",
       " '용감',\n",
       " '시간',\n",
       " '전부',\n",
       " '대전',\n",
       " '되어',\n",
       " '통화',\n",
       " '센터',\n",
       " '있구요',\n",
       " '쿨',\n",
       " '깨끗한',\n",
       " '앞',\n",
       " '새거',\n",
       " '미국',\n",
       " '같습니다',\n",
       " '광주',\n",
       " '근처',\n",
       " '없구요',\n",
       " '하실',\n",
       " '착',\n",
       " '방식',\n",
       " '환불',\n",
       " '애플',\n",
       " '아래',\n",
       " '서비스',\n",
       " '젤리',\n",
       " '유리',\n",
       " '가능하구요',\n",
       " '선호',\n",
       " '않습니다',\n",
       " '수원',\n",
       " '모서리',\n",
       " '곳',\n",
       " '달',\n",
       " '하세요',\n",
       " '스마트폰',\n",
       " '화면',\n",
       " '경기도',\n",
       " '신품',\n",
       " '강화',\n",
       " '제트',\n",
       " '드려요',\n",
       " '특',\n",
       " '부품',\n",
       " '발송',\n",
       " '년월',\n",
       " '상단',\n",
       " '유플러스',\n",
       " '새것',\n",
       " '이후',\n",
       " '풀셋',\n",
       " '좋은',\n",
       " '사양',\n",
       " '홍',\n",
       " '역',\n",
       " '개봉',\n",
       " '테스트',\n",
       " '수리',\n",
       " '있어요',\n",
       " '아무',\n",
       " '투명',\n",
       " '잔기스',\n",
       " '흠집',\n",
       " '미노트',\n",
       " '분실',\n",
       " '천안',\n",
       " '받은',\n",
       " '나머지',\n",
       " '점',\n",
       " '하자',\n",
       " '하시고',\n",
       " '저렴하게',\n",
       " '않은',\n",
       " '신분',\n",
       " '유',\n",
       " '용량',\n",
       " '하시는',\n",
       " '전면',\n",
       " '언락폰',\n",
       " '양호',\n",
       " '금',\n",
       " '하였습니다',\n",
       " '보시다시피',\n",
       " '별도',\n",
       " '하구요',\n",
       " '방탄',\n",
       " '스그',\n",
       " '여분',\n",
       " '본',\n",
       " '하셔도',\n",
       " '무상',\n",
       " '따로',\n",
       " '세이프',\n",
       " '좀',\n",
       " '와이파이',\n",
       " '무선',\n",
       " '제외',\n",
       " '종',\n",
       " '되었습니다',\n",
       " '천원',\n",
       " '프로',\n",
       " '눌',\n",
       " '매트',\n",
       " '배송',\n",
       " '약',\n",
       " '절충',\n",
       " '했구요',\n",
       " '우선',\n",
       " '대리점',\n",
       " '인터넷',\n",
       " '없으며',\n",
       " '수수료',\n",
       " '다시',\n",
       " '초',\n",
       " '끼',\n",
       " '평일',\n",
       " '삽니다',\n",
       " '고장',\n",
       " '이번',\n",
       " '부근',\n",
       " '겁니다',\n",
       " '아님',\n",
       " '매장',\n",
       " '해드립니다',\n",
       " '보조',\n",
       " '하던',\n",
       " '인식',\n",
       " '불량',\n",
       " '포장',\n",
       " '부천',\n",
       " '걸',\n",
       " '군데',\n",
       " '베가',\n",
       " '언제',\n",
       " '월일',\n",
       " '첨부',\n",
       " '전주',\n",
       " '항상',\n",
       " '갤',\n",
       " '처분',\n",
       " '불가',\n",
       " '비는',\n",
       " '매우',\n",
       " '남음',\n",
       " '없어요',\n",
       " '참조',\n",
       " '국내',\n",
       " '언',\n",
       " '가입',\n",
       " '잔',\n",
       " '지문',\n",
       " '있어서',\n",
       " '장소',\n",
       " '절대',\n",
       " '밑',\n",
       " '해외',\n",
       " '되는',\n",
       " '용인',\n",
       " '적용',\n",
       " '오시',\n",
       " '옵티머스',\n",
       " '있으며',\n",
       " '유니크로',\n",
       " '무음',\n",
       " '실사',\n",
       " '분만',\n",
       " '좋아요',\n",
       " '팔',\n",
       " '안녕하세요',\n",
       " '하면서',\n",
       " '답변',\n",
       " '작은',\n",
       " '젠더',\n",
       " '가능해요',\n",
       " '아직',\n",
       " '당연히',\n",
       " '넥서스',\n",
       " '최초',\n",
       " '불입',\n",
       " '삼',\n",
       " '베터리',\n",
       " '드릴게요',\n",
       " '개인',\n",
       " '오른쪽',\n",
       " '아이디',\n",
       " '밧데리',\n",
       " '드릴께요',\n",
       " '스크래치',\n",
       " '보관',\n",
       " '관심',\n",
       " '있지만',\n",
       " '선불',\n",
       " '변경',\n",
       " '큰',\n",
       " '되고',\n",
       " '팩',\n",
       " '공장',\n",
       " '급처',\n",
       " '꼭',\n",
       " '예약',\n",
       " '혹시',\n",
       " '감사합니다',\n",
       " '출구',\n",
       " '이용',\n",
       " '되구요',\n",
       " '안심',\n",
       " '내장',\n",
       " '펜',\n",
       " '먼저',\n",
       " '했던',\n",
       " '버전',\n",
       " '아닙니다',\n",
       " '메인보드',\n",
       " '안산',\n",
       " '한지',\n",
       " '안됩니다',\n",
       " '주말',\n",
       " '사절',\n",
       " '스마트',\n",
       " '하면',\n",
       " '용이',\n",
       " '한국',\n",
       " '문',\n",
       " '최상',\n",
       " '오늘',\n",
       " '겔럭시',\n",
       " '맥스',\n",
       " '하게',\n",
       " '너무',\n",
       " '필요하시면',\n",
       " '자국',\n",
       " '일본',\n",
       " '물',\n",
       " '홈',\n",
       " '보기',\n",
       " '지금',\n",
       " '있음',\n",
       " 'nbsp',\n",
       " '최대한',\n",
       " '홍콩',\n",
       " '저녁',\n",
       " '답장',\n",
       " '보니',\n",
       " '가지',\n",
       " '있는데',\n",
       " '궁금하신',\n",
       " '쓰던',\n",
       " '보고',\n",
       " '왼쪽',\n",
       " '깨끗하고',\n",
       " '택포',\n",
       " '쪽지',\n",
       " '있으면',\n",
       " '작년',\n",
       " '기타',\n",
       " '반품',\n",
       " '뒤',\n",
       " '많은',\n",
       " '사항',\n",
       " '만료',\n",
       " '락',\n",
       " '문의사항',\n",
       " '아이언',\n",
       " '자세한',\n",
       " '상처',\n",
       " '그랜드',\n",
       " '범퍼',\n",
       " '붙여서',\n",
       " '진행',\n",
       " '청주',\n",
       " 'schw',\n",
       " '알파',\n",
       " '남아있습니다',\n",
       " '분당',\n",
       " '위해',\n",
       " '배송비',\n",
       " '망',\n",
       " '기준',\n",
       " '카드',\n",
       " '드리구요',\n",
       " '네오',\n",
       " '사실',\n",
       " '임',\n",
       " '보이는',\n",
       " '오후',\n",
       " '사파이어',\n",
       " '새로',\n",
       " '조건',\n",
       " '침수',\n",
       " '인근',\n",
       " '해요',\n",
       " '자세히',\n",
       " '처음',\n",
       " '강남',\n",
       " '환영',\n",
       " '이어팟',\n",
       " '물건',\n",
       " '원하시는',\n",
       " '등록',\n",
       " '이미지',\n",
       " '일산',\n",
       " '이동',\n",
       " '또한',\n",
       " '징',\n",
       " '비닐',\n",
       " '찍힘이',\n",
       " '완납',\n",
       " '무료',\n",
       " '단자',\n",
       " '이외',\n",
       " '연',\n",
       " '금제',\n",
       " '구성은',\n",
       " '찍힌',\n",
       " '의사',\n",
       " '중화역',\n",
       " '있으나',\n",
       " '하니',\n",
       " '부',\n",
       " '의정부',\n",
       " '있으니',\n",
       " '일반',\n",
       " '남았습니다',\n",
       " '칩',\n",
       " '톡',\n",
       " '엑스페리아',\n",
       " '후시',\n",
       " '받지',\n",
       " '붙여',\n",
       " '빠른',\n",
       " '락폰',\n",
       " '개호환',\n",
       " '현상',\n",
       " '대개',\n",
       " '얼마',\n",
       " '제거',\n",
       " '감안',\n",
       " '했는데',\n",
       " '하였고',\n",
       " '안전거래도',\n",
       " '팜',\n",
       " '하려고',\n",
       " '올립니다',\n",
       " '예정',\n",
       " '유지',\n",
       " '목포',\n",
       " '월희',\n",
       " '알뜰폰',\n",
       " '둘다',\n",
       " '성남',\n",
       " '악세사리',\n",
       " '공공',\n",
       " '물품',\n",
       " '크게',\n",
       " '울산',\n",
       " '안양',\n",
       " '심',\n",
       " '같은',\n",
       " '집',\n",
       " '어댑터',\n",
       " '않았습니다',\n",
       " 'iphone',\n",
       " '검수',\n",
       " '정중히',\n",
       " '레드',\n",
       " '전화기',\n",
       " '빼',\n",
       " '화웨이',\n",
       " '경기',\n",
       " '내년',\n",
       " '이력',\n",
       " '업무',\n",
       " '샤오미',\n",
       " '짐',\n",
       " '용기',\n",
       " '일단',\n",
       " '받고',\n",
       " '각',\n",
       " '있으시면',\n",
       " '광역시',\n",
       " '창원',\n",
       " '결과',\n",
       " '가죽',\n",
       " '설정',\n",
       " '하셔서',\n",
       " '어디',\n",
       " '이면',\n",
       " '지프로',\n",
       " '했고',\n",
       " '결제',\n",
       " '데이터',\n",
       " '전원',\n",
       " '미세한',\n",
       " 'aa',\n",
       " '가능하니',\n",
       " '있으',\n",
       " '써서',\n",
       " '받습니다',\n",
       " '기존',\n",
       " '등등',\n",
       " '없네요',\n",
       " '되도록',\n",
       " '무기',\n",
       " '실기',\n",
       " '자부',\n",
       " '아시겠지만',\n",
       " '세트',\n",
       " '반',\n",
       " '눈',\n",
       " '우측',\n",
       " '언락',\n",
       " '올해',\n",
       " '빨리',\n",
       " '제조',\n",
       " '++',\n",
       " '주변',\n",
       " '않으며',\n",
       " '봅니다',\n",
       " '지원',\n",
       " '함',\n",
       " '상관없이',\n",
       " '입니다구',\n",
       " '이유',\n",
       " '가서',\n",
       " '위주',\n",
       " '않고',\n",
       " '출시',\n",
       " '화이트골드',\n",
       " '오닉스',\n",
       " '티',\n",
       " '내부',\n",
       " '쓰실',\n",
       " '없어서',\n",
       " 'slte',\n",
       " '현금',\n",
       " '챙겨',\n",
       " '말씀',\n",
       " '보증',\n",
       " '에누리',\n",
       " 'sktg',\n",
       " '전용',\n",
       " '신용',\n",
       " '헬로모바일',\n",
       " '통일',\n",
       " '실제',\n",
       " '드리고',\n",
       " '깨끗하게',\n",
       " '스피커',\n",
       " '총',\n",
       " '흰색',\n",
       " '우체국택배',\n",
       " '보면',\n",
       " '통신',\n",
       " '스카이',\n",
       " '쓰시',\n",
       " '밖에',\n",
       " '원래',\n",
       " '정보',\n",
       " '물론',\n",
       " '날',\n",
       " '마지막',\n",
       " '되어있습니다',\n",
       " '받았습니다',\n",
       " '애플스토어',\n",
       " '믿고',\n",
       " '흔적',\n",
       " '되면',\n",
       " '통',\n",
       " '드림',\n",
       " '실리콘',\n",
       " '선물',\n",
       " '위치',\n",
       " '조정',\n",
       " '회사',\n",
       " 'plus',\n",
       " '근무',\n",
       " '바',\n",
       " '내놓습니다',\n",
       " '상해',\n",
       " '붙이',\n",
       " '있어',\n",
       " '지장',\n",
       " '되지',\n",
       " '셋',\n",
       " '부평',\n",
       " '편입',\n",
       " '김포',\n",
       " '의무',\n",
       " '안전하게',\n",
       " '일이',\n",
       " '시크릿',\n",
       " '칠',\n",
       " '거리',\n",
       " '인치',\n",
       " '역시',\n",
       " '흥정',\n",
       " '찔러',\n",
       " '빼고',\n",
       " '순천',\n",
       " 'c',\n",
       " '비밀번호',\n",
       " '잠금',\n",
       " 'sphw',\n",
       " '부탁',\n",
       " 'cj',\n",
       " '직',\n",
       " '되며',\n",
       " '성능',\n",
       " '최상급',\n",
       " 'aaa',\n",
       " '사서',\n",
       " '해지한',\n",
       " '램',\n",
       " '잠실',\n",
       " '스크레치',\n",
       " '걱정',\n",
       " '늦어요',\n",
       " '법적',\n",
       " '찍힘은',\n",
       " '순',\n",
       " '불로',\n",
       " '없지만',\n",
       " 'lgsu',\n",
       " '다녀서',\n",
       " '넣어',\n",
       " '쓰고',\n",
       " '카카오',\n",
       " '받아서',\n",
       " '일주일',\n",
       " '지하철',\n",
       " '직구',\n",
       " '무조건',\n",
       " '평택',\n",
       " '협의',\n",
       " '루나',\n",
       " '잔기',\n",
       " '좋구요',\n",
       " '끝',\n",
       " '죄송합니다',\n",
       " '법',\n",
       " '빠르게',\n",
       " '하다가',\n",
       " '찍어',\n",
       " '안나',\n",
       " '로만',\n",
       " '브라운',\n",
       " '육',\n",
       " '티타늄',\n",
       " '안전한',\n",
       " '책임집니다',\n",
       " '되서',\n",
       " 'note',\n",
       " '색',\n",
       " '티탄',\n",
       " '여기',\n",
       " '일체',\n",
       " '메모리',\n",
       " '측면',\n",
       " '옆',\n",
       " '드릴수',\n",
       " '오셔서',\n",
       " '외부',\n",
       " 'gold',\n",
       " '빼고는',\n",
       " '우체국',\n",
       " '깨짐',\n",
       " '고객',\n",
       " '좋음',\n",
       " '특성',\n",
       " '기단',\n",
       " 'lt',\n",
       " 'dmb',\n",
       " 'lglu',\n",
       " '좋겠습니다',\n",
       " '계속',\n",
       " '위쪽',\n",
       " '알',\n",
       " '하는데',\n",
       " '깨끗이',\n",
       " '하루',\n",
       " '드릴',\n",
       " '롬',\n",
       " '애지중지',\n",
       " '정',\n",
       " '서울시',\n",
       " '편이',\n",
       " '관계',\n",
       " '신규',\n",
       " '년도',\n",
       " '하였으며',\n",
       " '업',\n",
       " '어플',\n",
       " '지난',\n",
       " '쓴',\n",
       " '방수',\n",
       " '조회',\n",
       " '관',\n",
       " '하셔야',\n",
       " '시오',\n",
       " '슈피겐',\n",
       " '앞뒤',\n",
       " '추천',\n",
       " 'lgsh',\n",
       " '서구',\n",
       " '상관없습니다',\n",
       " '가능하십니다',\n",
       " 'm',\n",
       " '울',\n",
       " '별로',\n",
       " '이상무',\n",
       " '고속',\n",
       " '마시고',\n",
       " '등급',\n",
       " '저촉',\n",
       " '이기',\n",
       " '됐습니다',\n",
       " 'smnk',\n",
       " '끝났습니다',\n",
       " '취급',\n",
       " '요청',\n",
       " '동봉',\n",
       " '팬택',\n",
       " '수준',\n",
       " '맨',\n",
       " '깨끗함',\n",
       " '세용',\n",
       " '동대문구',\n",
       " '깨진',\n",
       " '보입니다',\n",
       " '강동',\n",
       " '사설',\n",
       " '계양구',\n",
       " '업자',\n",
       " '퀄컴',\n",
       " '바꾸게',\n",
       " '본인',\n",
       " '키',\n",
       " '되있습니다',\n",
       " '이내',\n",
       " '진동',\n",
       " '같은거',\n",
       " '사은',\n",
       " '않아',\n",
       " '스티커',\n",
       " '깔끔한',\n",
       " '뽁뽁',\n",
       " '송파',\n",
       " '여부',\n",
       " '홍대',\n",
       " '롤리팝',\n",
       " '핀',\n",
       " 'im',\n",
       " '깨끗',\n",
       " '블루투스',\n",
       " '씌우고',\n",
       " '깔끔합니다',\n",
       " '라인',\n",
       " '했어요',\n",
       " '남아',\n",
       " '쓰셔도',\n",
       " '할부',\n",
       " '값',\n",
       " '라이트닝',\n",
       " '해드리겠습니다',\n",
       " '보이지',\n",
       " '남겨주세요',\n",
       " '하다',\n",
       " '샤베트',\n",
       " 'p',\n",
       " '검색',\n",
       " '끼워서',\n",
       " '인하',\n",
       " '남은',\n",
       " '받을',\n",
       " '관련',\n",
       " '드리고요',\n",
       " '경산',\n",
       " '끼우면',\n",
       " '사기',\n",
       " '영',\n",
       " '광양',\n",
       " '퀵서비스',\n",
       " '사람',\n",
       " '넣어서',\n",
       " '아니니',\n",
       " '마세요',\n",
       " '상의',\n",
       " '짜리',\n",
       " '현',\n",
       " '낮',\n",
       " '깨끗해요',\n",
       " '여러',\n",
       " '잭',\n",
       " '흠',\n",
       " '됨',\n",
       " '끝난',\n",
       " '설치',\n",
       " '있는거',\n",
       " '가장',\n",
       " '진짜',\n",
       " '광대역',\n",
       " '없다고',\n",
       " '찍힘이나',\n",
       " '원하구요',\n",
       " 'ok',\n",
       " 'lgkh',\n",
       " '자급',\n",
       " '아이',\n",
       " '경남',\n",
       " '오전',\n",
       " '부탁드려요',\n",
       " '일괄',\n",
       " '가셔서',\n",
       " '올려',\n",
       " '하시기',\n",
       " '대신',\n",
       " '촬영',\n",
       " '전북',\n",
       " '바꾸면서',\n",
       " '저장',\n",
       " '한글',\n",
       " '시세',\n",
       " '상자',\n",
       " '여수',\n",
       " '칠이사이',\n",
       " '답터',\n",
       " '착용',\n",
       " '이전',\n",
       " '멀쩡합니다',\n",
       " '연결',\n",
       " '해보니',\n",
       " '최저',\n",
       " '당일',\n",
       " '편의점',\n",
       " 'shves',\n",
       " '써',\n",
       " '회',\n",
       " '알리',\n",
       " '드리며',\n",
       " '없고요',\n",
       " '파는',\n",
       " '있네요',\n",
       " '아예',\n",
       " '중랑구',\n",
       " '일자',\n",
       " '있고요',\n",
       " '월말',\n",
       " '쓰다가',\n",
       " '여서',\n",
       " '와같이',\n",
       " '받아',\n",
       " '소니',\n",
       " '스타일',\n",
       " '휘',\n",
       " '긁',\n",
       " '되었고',\n",
       " '요구',\n",
       " '가구',\n",
       " '뭐',\n",
       " '강동구',\n",
       " '실물',\n",
       " '넣고',\n",
       " '붙어있는',\n",
       " '되요',\n",
       " '가능하고요',\n",
       " '정식',\n",
       " '강남역',\n",
       " '눌러서',\n",
       " '점검',\n",
       " '일대',\n",
       " '보험',\n",
       " '밤',\n",
       " '둘',\n",
       " ...]"
      ]
     },
     "execution_count": 221,
     "metadata": {},
     "output_type": "execute_result"
    }
   ],
   "source": [
    "from collections import Counter\n",
    "\n",
    "# get_pos 함수를 모든 텍스트 데이터에 적용하여 형태소 말뭉치를 추출\n",
    "corpus = sum(df[\"text\"].apply(lambda x: get_pos(x)).tolist(), [])\n",
    "\n",
    "# 추출된 형태소 말뭉치에서 가장 많이 등장한 형태소 2500개를 추출\n",
    "counter = Counter(corpus)\n",
    "common_words = [key for key, _ in counter.most_common(2500)]\n",
    "common_words"
   ]
  },
  {
   "attachments": {},
   "cell_type": "markdown",
   "metadata": {},
   "source": [
    "### [TF-IDF 벡터 생성하기]"
   ]
  },
  {
   "cell_type": "code",
   "execution_count": 222,
   "metadata": {},
   "outputs": [
    {
     "name": "stderr",
     "output_type": "stream",
     "text": [
      "/var/folders/79/v97_0rqs3p34z9xx6y57xks80000gn/T/ipykernel_1771/3571288690.py:15: FutureWarning: The frame.append method is deprecated and will be removed from pandas in a future version. Use pandas.concat instead.\n",
      "  df_sample = negative_random.append(neutral_random).append(positive_random)\n",
      "/var/folders/79/v97_0rqs3p34z9xx6y57xks80000gn/T/ipykernel_1771/3571288690.py:15: FutureWarning: The frame.append method is deprecated and will be removed from pandas in a future version. Use pandas.concat instead.\n",
      "  df_sample = negative_random.append(neutral_random).append(positive_random)\n",
      "/Users/yanghaejun/opt/anaconda3/envs/yang_conda/lib/python3.8/site-packages/sklearn/feature_extraction/text.py:528: UserWarning: The parameter 'token_pattern' will not be used since 'tokenizer' is not None'\n",
      "  warnings.warn(\n"
     ]
    },
    {
     "name": "stdout",
     "output_type": "stream",
     "text": [
      "(1284, 2476)\n",
      "(321, 2476)\n"
     ]
    }
   ],
   "source": [
    "from sklearn.feature_extraction.text import CountVectorizer, TfidfTransformer\n",
    "\n",
    "# 빈출 형태소를 제외한 모든 형태소를 제거하는 함수를 정의\n",
    "def get_common_pos(x):\n",
    "    tagger = Okt()\n",
    "    poses = tagger.pos(x)\n",
    "    return [pos[0] for pos in poses if pos[0] in common_words]\n",
    "\n",
    "# 1:3:1 비율로 랜덤 샘플링을 수행\n",
    "negative_random = df[df[\"price_level\"] == \"0\"].sample(321, random_state = 30)\n",
    "neutral_random = df[df[\"price_level\"] == \"1\"].sample(321*3, random_state = 30)\n",
    "positive_random = df[df[\"price_level\"] == \"2\"].sample(321, random_state = 30)\n",
    "\n",
    "# 샘플링 완료된 데이터셋을 정의\n",
    "df_sample = negative_random.append(neutral_random).append(positive_random)\n",
    "\n",
    "# TF-IDF를 수행하여 피처를 변환\n",
    "index_vectorizer = CountVectorizer(tokenizer = lambda x: get_common_pos(x))\n",
    "x = index_vectorizer.fit_transform(df_sample[\"text\"].tolist())\n",
    "tfidf_vetorizer = TfidfTransformer()\n",
    "x = tfidf_vetorizer.fit_transform(x)\n",
    "\n",
    "# 감성 분류를 위한 학습 데이터셋을 정의\n",
    "y = df_sample[\"price_level\"]\n",
    "x_train, x_test, y_train, y_test = train_test_split(x, y, test_size = 0.20, random_state = 30)\n",
    "print(x_train.shape)\n",
    "print(x_test.shape)"
   ]
  },
  {
   "attachments": {},
   "cell_type": "markdown",
   "metadata": {},
   "source": [
    "### [상품 상태 분류하기]"
   ]
  },
  {
   "cell_type": "code",
   "execution_count": 223,
   "metadata": {},
   "outputs": [
    {
     "name": "stdout",
     "output_type": "stream",
     "text": [
      "Accuray: 0.77\n",
      "[[ 30  28   4]\n",
      " [ 10 181  10]\n",
      " [  2  21  35]]\n"
     ]
    }
   ],
   "source": [
    "from sklearn.metrics import accuracy_score, confusion_matrix\n",
    "from sklearn.svm import SVC\n",
    "\n",
    "# 비선형 SVM분류 모델을 학습하고 평가\n",
    "svm = SVC(kernel = \"rbf\", gamma = 0.10, C = 10.0, random_state = 0)\n",
    "svm.fit(x_train, y_train)\n",
    "y_pred_ksvc = svm.predict(x_test)\n",
    "print(\"Accuray: %.2f\" % accuracy_score(y_test, y_pred_ksvc))\n",
    "\n",
    "# Confusion Matrix를 출력\n",
    "confmat = confusion_matrix(y_test, y_pred_ksvc)\n",
    "print(confmat)"
   ]
  },
  {
   "attachments": {},
   "cell_type": "markdown",
   "metadata": {},
   "source": [
    "### [Random forest regressor 재학습하기]"
   ]
  },
  {
   "cell_type": "code",
   "execution_count": 224,
   "metadata": {},
   "outputs": [],
   "source": [
    "df.to_csv(\"/Users/yanghaejun/Documents/이것이 데이터분석이다/이것이 데이터 분석이다 예제/data/used_mobile_phone_data.csv\")"
   ]
  },
  {
   "cell_type": "code",
   "execution_count": 225,
   "metadata": {},
   "outputs": [
    {
     "name": "stdout",
     "output_type": "stream",
     "text": [
      "MSE train: 4788421769.428, test: 11021537717.250\n",
      "R^2 train: 0.901, test: 0.748\n"
     ]
    }
   ],
   "source": [
    "# text 피처로부터 '상품 상태 피처(product_status)'를 생성\n",
    "x = index_vectorizer.transform(df[\"text\"].tolist())\n",
    "x = tfidf_vetorizer.transform(x)\n",
    "df[\"product_status\"] = pd.Series(svm.predict(x))\n",
    "\n",
    "# 랜덤 포레스트 모델을 학습을 위한 데이터를 준비\n",
    "df = df[[\"price\", \"factory_price\", \"maker\", \"price_index\", \"create_time_score\", \"phone_model_storage\", \"phone_model_detail\", \"product_status\"]]\n",
    "df = pd.get_dummies(df, columns = [\"maker\", \"phone_model_storage\", \"phone_model_detail\", \"product_status\"])\n",
    "\n",
    "# 학습/테스트 데이터를 분리\n",
    "x = df.loc[:, df.columns != \"price\"]\n",
    "y = df[\"price\"]\n",
    "x_train, x_test, y_train, y_test = train_test_split(x, y, test_size = 0.3, random_state = 0)\n",
    "\n",
    "# 랜덤포레스트 모델을 학습하고 평가\n",
    "forest = RandomForestRegressor(n_estimators = 1000, criterion = \"squared_error\")\n",
    "forest.fit(x_train, y_train)\n",
    "y_train_pred = forest.predict(x_train)\n",
    "y_test_pred = forest.predict(x_test)\n",
    "print(\"MSE train: %.3f, test: %.3f\" % (mean_squared_error(y_train, y_train_pred), mean_squared_error(y_test, y_test_pred)))\n",
    "print(\"R^2 train: %.3f, test: %.3f\" % (r2_score(y_train, y_train_pred), r2_score(y_test, y_test_pred)))"
   ]
  },
  {
   "cell_type": "code",
   "execution_count": 226,
   "metadata": {},
   "outputs": [
    {
     "data": {
      "image/png": "[encoded data removed]",
      "text/plain": [
       "<Figure size 1200x1000 with 1 Axes>"
      ]
     },
     "metadata": {},
     "output_type": "display_data"
    },
    {
     "data": {
      "text/plain": [
       "[('maker_apple', 0.254446256890298),\n",
       " ('factory_price', 0.25081918524353986),\n",
       " ('create_time_score', 0.1161975550494664),\n",
       " ('phone_model_storage_16gb', 0.06136850199092137),\n",
       " ('product_status_2', 0.04685047016431196),\n",
       " ('phone_model_detail_galaxy s7 edge', 0.029703272625415368),\n",
       " ('phone_model_storage_64gb', 0.02584351191923547),\n",
       " ('phone_model_detail_galaxy note5', 0.025229783939706586),\n",
       " ('phone_model_detail_galaxy s7', 0.023480358122371467),\n",
       " ('product_status_0', 0.021618245659521442)]"
      ]
     },
     "execution_count": 226,
     "metadata": {},
     "output_type": "execute_result"
    }
   ],
   "source": [
    "# 피처 중요도 plot을 출력\n",
    "importances = forest.feature_importances_\n",
    "importances = pd.Series(importances, index = x_train.columns)\n",
    "importances_top = importances.sort_values(ascending = False)[:30]\n",
    "\n",
    "plt.figure(figsize = (12, 10))\n",
    "sns.barplot(x = importances_top, y = importances_top.index)\n",
    "plt.show()\n",
    "\n",
    "# 피처 중요도를 출력\n",
    "feat_labels = x.columns.tolist()\n",
    "feature = list(zip(feat_labels, importances))\n",
    "sorted(feature, key = lambda x: x[1], reverse = True)[:10]"
   ]
  },
  {
   "attachments": {},
   "cell_type": "markdown",
   "metadata": {},
   "source": [
    "### [feature-index 관련 딕셔너리 생성]"
   ]
  },
  {
   "cell_type": "code",
   "execution_count": 227,
   "metadata": {},
   "outputs": [
    {
     "name": "stdout",
     "output_type": "stream",
     "text": [
      "{'factory_price': 0, 'price_index': 1, 'create_time_score': 2, 'maker_apple': 3, 'maker_huawei': 4,  ...\n"
     ]
    }
   ],
   "source": [
    "# 프로그램에서 입력값에 대한 피처를 찾기 위한 딕셔너리를 생성\n",
    "col_to_index_dict = {}\n",
    "for idx, col in enumerate(df.columns[1:]):\n",
    "    col_to_index_dict[col] = idx\n",
    "\n",
    "print(str(col_to_index_dict)[:100], \"...\")"
   ]
  },
  {
   "attachments": {},
   "cell_type": "markdown",
   "metadata": {},
   "source": [
    "### [예측 결과 산점도 그래프]"
   ]
  },
  {
   "cell_type": "code",
   "execution_count": 228,
   "metadata": {},
   "outputs": [
    {
     "data": {
      "text/plain": [
       "<matplotlib.collections.PathCollection at 0x7f99e5794cd0>"
      ]
     },
     "execution_count": 228,
     "metadata": {},
     "output_type": "execute_result"
    },
    {
     "data": {
      "image/png": "[encoded data removed]",
      "text/plain": [
       "<Figure size 640x480 with 1 Axes>"
      ]
     },
     "metadata": {},
     "output_type": "display_data"
    }
   ],
   "source": [
    "# 테스트 데이터의 y값과 예측된 y값을 산점도 그래프를 활용하여 상관 관계를 살펴봄\n",
    "plt.scatter(y_test, y_test_pred)"
   ]
  },
  {
   "attachments": {},
   "cell_type": "markdown",
   "metadata": {},
   "source": [
    "### [최적의 모델 파라미터 찾기]"
   ]
  },
  {
   "cell_type": "code",
   "execution_count": 229,
   "metadata": {},
   "outputs": [
    {
     "name": "stdout",
     "output_type": "stream",
     "text": [
      "Fitting 3 folds for each of 100 candidates, totalling 300 fits\n",
      "[CV] END bootstrap=True, max_depth=40, max_features=sqrt, n_estimators=800; total time=   7.0s\n",
      "[CV] END bootstrap=True, max_depth=40, max_features=sqrt, n_estimators=800; total time=   7.8s\n",
      "[CV] END bootstrap=True, max_depth=40, max_features=sqrt, n_estimators=800; total time=   8.2s\n",
      "[CV] END bootstrap=False, max_depth=90, max_features=sqrt, n_estimators=1000; total time=  10.6s\n",
      "[CV] END bootstrap=False, max_depth=80, max_features=sqrt, n_estimators=1000; total time=  10.5s\n",
      "[CV] END bootstrap=False, max_depth=90, max_features=sqrt, n_estimators=1000; total time=  11.8s\n",
      "[CV] END bootstrap=False, max_depth=90, max_features=sqrt, n_estimators=1000; total time=  11.6s\n",
      "[CV] END bootstrap=False, max_depth=80, max_features=sqrt, n_estimators=1000; total time=  11.7s\n",
      "[CV] END bootstrap=True, max_depth=90, max_features=sqrt, n_estimators=600; total time=   5.2s\n",
      "[CV] END bootstrap=False, max_depth=80, max_features=sqrt, n_estimators=1000; total time=  11.3s\n",
      "[CV] END bootstrap=True, max_depth=90, max_features=sqrt, n_estimators=600; total time=   5.6s\n"
     ]
    },
    {
     "name": "stderr",
     "output_type": "stream",
     "text": [
      "/Users/yanghaejun/opt/anaconda3/envs/yang_conda/lib/python3.8/site-packages/sklearn/ensemble/_forest.py:414: FutureWarning: `max_features='auto'` has been deprecated in 1.1 and will be removed in 1.3. To keep the past behaviour, explicitly set `max_features=1.0` or remove this parameter as it is also the default value for RandomForestRegressors and ExtraTreesRegressors.\n",
      "  warn(\n"
     ]
    },
    {
     "name": "stdout",
     "output_type": "stream",
     "text": [
      "[CV] END bootstrap=False, max_depth=20, max_features=sqrt, n_estimators=1600; total time=  15.4s\n"
     ]
    },
    {
     "name": "stderr",
     "output_type": "stream",
     "text": [
      "/Users/yanghaejun/opt/anaconda3/envs/yang_conda/lib/python3.8/site-packages/sklearn/ensemble/_forest.py:414: FutureWarning: `max_features='auto'` has been deprecated in 1.1 and will be removed in 1.3. To keep the past behaviour, explicitly set `max_features=1.0` or remove this parameter as it is also the default value for RandomForestRegressors and ExtraTreesRegressors.\n",
      "  warn(\n"
     ]
    },
    {
     "name": "stdout",
     "output_type": "stream",
     "text": [
      "[CV] END bootstrap=True, max_depth=90, max_features=sqrt, n_estimators=600; total time=   5.4s\n"
     ]
    },
    {
     "name": "stderr",
     "output_type": "stream",
     "text": [
      "/Users/yanghaejun/opt/anaconda3/envs/yang_conda/lib/python3.8/site-packages/sklearn/ensemble/_forest.py:414: FutureWarning: `max_features='auto'` has been deprecated in 1.1 and will be removed in 1.3. To keep the past behaviour, explicitly set `max_features=1.0` or remove this parameter as it is also the default value for RandomForestRegressors and ExtraTreesRegressors.\n",
      "  warn(\n"
     ]
    },
    {
     "name": "stdout",
     "output_type": "stream",
     "text": [
      "[CV] END bootstrap=False, max_depth=20, max_features=sqrt, n_estimators=1600; total time=  16.6s\n",
      "[CV] END bootstrap=False, max_depth=20, max_features=sqrt, n_estimators=1600; total time=  16.1s\n",
      "[CV] END bootstrap=False, max_depth=80, max_features=sqrt, n_estimators=2000; total time=  19.6s\n",
      "[CV] END bootstrap=False, max_depth=80, max_features=sqrt, n_estimators=2000; total time=  21.9s\n",
      "[CV] END bootstrap=False, max_depth=80, max_features=sqrt, n_estimators=2000; total time=  22.2s\n",
      "[CV] END bootstrap=False, max_depth=70, max_features=sqrt, n_estimators=1200; total time=  11.0s\n",
      "[CV] END bootstrap=False, max_depth=70, max_features=sqrt, n_estimators=1200; total time=  12.2s\n"
     ]
    },
    {
     "name": "stderr",
     "output_type": "stream",
     "text": [
      "/Users/yanghaejun/opt/anaconda3/envs/yang_conda/lib/python3.8/site-packages/sklearn/ensemble/_forest.py:414: FutureWarning: `max_features='auto'` has been deprecated in 1.1 and will be removed in 1.3. To keep the past behaviour, explicitly set `max_features=1.0` or remove this parameter as it is also the default value for RandomForestRegressors and ExtraTreesRegressors.\n",
      "  warn(\n"
     ]
    },
    {
     "name": "stdout",
     "output_type": "stream",
     "text": [
      "[CV] END bootstrap=False, max_depth=70, max_features=sqrt, n_estimators=1200; total time=  11.5s\n"
     ]
    },
    {
     "name": "stderr",
     "output_type": "stream",
     "text": [
      "/Users/yanghaejun/opt/anaconda3/envs/yang_conda/lib/python3.8/site-packages/sklearn/ensemble/_forest.py:414: FutureWarning: `max_features='auto'` has been deprecated in 1.1 and will be removed in 1.3. To keep the past behaviour, explicitly set `max_features=1.0` or remove this parameter as it is also the default value for RandomForestRegressors and ExtraTreesRegressors.\n",
      "  warn(\n"
     ]
    },
    {
     "name": "stdout",
     "output_type": "stream",
     "text": [
      "[CV] END bootstrap=True, max_depth=40, max_features=sqrt, n_estimators=1600; total time=  11.1s\n"
     ]
    },
    {
     "name": "stderr",
     "output_type": "stream",
     "text": [
      "/Users/yanghaejun/opt/anaconda3/envs/yang_conda/lib/python3.8/site-packages/sklearn/ensemble/_forest.py:414: FutureWarning: `max_features='auto'` has been deprecated in 1.1 and will be removed in 1.3. To keep the past behaviour, explicitly set `max_features=1.0` or remove this parameter as it is also the default value for RandomForestRegressors and ExtraTreesRegressors.\n",
      "  warn(\n"
     ]
    },
    {
     "name": "stdout",
     "output_type": "stream",
     "text": [
      "[CV] END bootstrap=True, max_depth=40, max_features=sqrt, n_estimators=1600; total time=  12.8s\n"
     ]
    },
    {
     "name": "stderr",
     "output_type": "stream",
     "text": [
      "/Users/yanghaejun/opt/anaconda3/envs/yang_conda/lib/python3.8/site-packages/sklearn/ensemble/_forest.py:414: FutureWarning: `max_features='auto'` has been deprecated in 1.1 and will be removed in 1.3. To keep the past behaviour, explicitly set `max_features=1.0` or remove this parameter as it is also the default value for RandomForestRegressors and ExtraTreesRegressors.\n",
      "  warn(\n"
     ]
    },
    {
     "name": "stdout",
     "output_type": "stream",
     "text": [
      "[CV] END bootstrap=True, max_depth=40, max_features=sqrt, n_estimators=1600; total time=  12.6s\n"
     ]
    },
    {
     "name": "stderr",
     "output_type": "stream",
     "text": [
      "/Users/yanghaejun/opt/anaconda3/envs/yang_conda/lib/python3.8/site-packages/sklearn/ensemble/_forest.py:414: FutureWarning: `max_features='auto'` has been deprecated in 1.1 and will be removed in 1.3. To keep the past behaviour, explicitly set `max_features=1.0` or remove this parameter as it is also the default value for RandomForestRegressors and ExtraTreesRegressors.\n",
      "  warn(\n"
     ]
    },
    {
     "name": "stdout",
     "output_type": "stream",
     "text": [
      "[CV] END bootstrap=False, max_depth=110, max_features=auto, n_estimators=600; total time=  14.1s\n"
     ]
    },
    {
     "name": "stderr",
     "output_type": "stream",
     "text": [
      "/Users/yanghaejun/opt/anaconda3/envs/yang_conda/lib/python3.8/site-packages/sklearn/ensemble/_forest.py:414: FutureWarning: `max_features='auto'` has been deprecated in 1.1 and will be removed in 1.3. To keep the past behaviour, explicitly set `max_features=1.0` or remove this parameter as it is also the default value for RandomForestRegressors and ExtraTreesRegressors.\n",
      "  warn(\n"
     ]
    },
    {
     "name": "stdout",
     "output_type": "stream",
     "text": [
      "[CV] END bootstrap=False, max_depth=110, max_features=auto, n_estimators=600; total time=  15.4s\n"
     ]
    },
    {
     "name": "stderr",
     "output_type": "stream",
     "text": [
      "/Users/yanghaejun/opt/anaconda3/envs/yang_conda/lib/python3.8/site-packages/sklearn/ensemble/_forest.py:414: FutureWarning: `max_features='auto'` has been deprecated in 1.1 and will be removed in 1.3. To keep the past behaviour, explicitly set `max_features=1.0` or remove this parameter as it is also the default value for RandomForestRegressors and ExtraTreesRegressors.\n",
      "  warn(\n"
     ]
    },
    {
     "name": "stdout",
     "output_type": "stream",
     "text": [
      "[CV] END bootstrap=False, max_depth=20, max_features=auto, n_estimators=1800; total time=  38.0s\n"
     ]
    },
    {
     "name": "stderr",
     "output_type": "stream",
     "text": [
      "/Users/yanghaejun/opt/anaconda3/envs/yang_conda/lib/python3.8/site-packages/sklearn/ensemble/_forest.py:414: FutureWarning: `max_features='auto'` has been deprecated in 1.1 and will be removed in 1.3. To keep the past behaviour, explicitly set `max_features=1.0` or remove this parameter as it is also the default value for RandomForestRegressors and ExtraTreesRegressors.\n",
      "  warn(\n"
     ]
    },
    {
     "name": "stdout",
     "output_type": "stream",
     "text": [
      "[CV] END bootstrap=False, max_depth=20, max_features=auto, n_estimators=1800; total time=  39.2s\n"
     ]
    },
    {
     "name": "stderr",
     "output_type": "stream",
     "text": [
      "/Users/yanghaejun/opt/anaconda3/envs/yang_conda/lib/python3.8/site-packages/sklearn/ensemble/_forest.py:414: FutureWarning: `max_features='auto'` has been deprecated in 1.1 and will be removed in 1.3. To keep the past behaviour, explicitly set `max_features=1.0` or remove this parameter as it is also the default value for RandomForestRegressors and ExtraTreesRegressors.\n",
      "  warn(\n"
     ]
    },
    {
     "name": "stdout",
     "output_type": "stream",
     "text": [
      "[CV] END bootstrap=False, max_depth=110, max_features=auto, n_estimators=600; total time=  18.2s\n",
      "[CV] END bootstrap=False, max_depth=20, max_features=auto, n_estimators=1800; total time=  42.3s\n",
      "[CV] END bootstrap=False, max_depth=30, max_features=auto, n_estimators=400; total time=   9.1s\n",
      "[CV] END bootstrap=True, max_depth=10, max_features=auto, n_estimators=2000; total time=  20.9s\n",
      "[CV] END bootstrap=False, max_depth=100, max_features=sqrt, n_estimators=800; total time=   6.9s\n",
      "[CV] END bootstrap=True, max_depth=10, max_features=auto, n_estimators=2000; total time=  21.8s\n",
      "[CV] END bootstrap=False, max_depth=30, max_features=auto, n_estimators=400; total time=   9.5s\n",
      "[CV] END bootstrap=True, max_depth=20, max_features=sqrt, n_estimators=200; total time=   1.5s\n",
      "[CV] END bootstrap=True, max_depth=20, max_features=sqrt, n_estimators=200; total time=   1.7s\n",
      "[CV] END bootstrap=False, max_depth=30, max_features=auto, n_estimators=400; total time=  11.5s\n",
      "[CV] END bootstrap=False, max_depth=100, max_features=sqrt, n_estimators=800; total time=   8.3s\n",
      "[CV] END bootstrap=False, max_depth=100, max_features=sqrt, n_estimators=800; total time=   8.2s\n",
      "[CV] END bootstrap=True, max_depth=20, max_features=sqrt, n_estimators=200; total time=   1.4s\n",
      "[CV] END bootstrap=True, max_depth=10, max_features=auto, n_estimators=2000; total time=  23.2s\n",
      "[CV] END bootstrap=True, max_depth=50, max_features=sqrt, n_estimators=800; total time=   5.9s\n",
      "[CV] END bootstrap=True, max_depth=50, max_features=sqrt, n_estimators=800; total time=   6.4s\n",
      "[CV] END bootstrap=True, max_depth=50, max_features=sqrt, n_estimators=800; total time=   6.3s\n"
     ]
    },
    {
     "name": "stderr",
     "output_type": "stream",
     "text": [
      "/Users/yanghaejun/opt/anaconda3/envs/yang_conda/lib/python3.8/site-packages/sklearn/ensemble/_forest.py:414: FutureWarning: `max_features='auto'` has been deprecated in 1.1 and will be removed in 1.3. To keep the past behaviour, explicitly set `max_features=1.0` or remove this parameter as it is also the default value for RandomForestRegressors and ExtraTreesRegressors.\n",
      "  warn(\n",
      "/Users/yanghaejun/opt/anaconda3/envs/yang_conda/lib/python3.8/site-packages/sklearn/ensemble/_forest.py:414: FutureWarning: `max_features='auto'` has been deprecated in 1.1 and will be removed in 1.3. To keep the past behaviour, explicitly set `max_features=1.0` or remove this parameter as it is also the default value for RandomForestRegressors and ExtraTreesRegressors.\n",
      "  warn(\n"
     ]
    },
    {
     "name": "stdout",
     "output_type": "stream",
     "text": [
      "[CV] END bootstrap=False, max_depth=30, max_features=sqrt, n_estimators=1800; total time=  15.6s\n",
      "[CV] END bootstrap=True, max_depth=30, max_features=sqrt, n_estimators=1200; total time=   8.6s\n"
     ]
    },
    {
     "name": "stderr",
     "output_type": "stream",
     "text": [
      "/Users/yanghaejun/opt/anaconda3/envs/yang_conda/lib/python3.8/site-packages/sklearn/ensemble/_forest.py:414: FutureWarning: `max_features='auto'` has been deprecated in 1.1 and will be removed in 1.3. To keep the past behaviour, explicitly set `max_features=1.0` or remove this parameter as it is also the default value for RandomForestRegressors and ExtraTreesRegressors.\n",
      "  warn(\n"
     ]
    },
    {
     "name": "stdout",
     "output_type": "stream",
     "text": [
      "[CV] END bootstrap=True, max_depth=30, max_features=sqrt, n_estimators=1200; total time=   9.6s\n",
      "[CV] END bootstrap=False, max_depth=30, max_features=sqrt, n_estimators=1800; total time=  17.7s\n",
      "[CV] END bootstrap=False, max_depth=30, max_features=sqrt, n_estimators=1800; total time=  17.6s\n"
     ]
    },
    {
     "name": "stderr",
     "output_type": "stream",
     "text": [
      "/Users/yanghaejun/opt/anaconda3/envs/yang_conda/lib/python3.8/site-packages/sklearn/ensemble/_forest.py:414: FutureWarning: `max_features='auto'` has been deprecated in 1.1 and will be removed in 1.3. To keep the past behaviour, explicitly set `max_features=1.0` or remove this parameter as it is also the default value for RandomForestRegressors and ExtraTreesRegressors.\n",
      "  warn(\n"
     ]
    },
    {
     "name": "stdout",
     "output_type": "stream",
     "text": [
      "[CV] END bootstrap=True, max_depth=20, max_features=sqrt, n_estimators=800; total time=   5.2s\n"
     ]
    },
    {
     "name": "stderr",
     "output_type": "stream",
     "text": [
      "/Users/yanghaejun/opt/anaconda3/envs/yang_conda/lib/python3.8/site-packages/sklearn/ensemble/_forest.py:414: FutureWarning: `max_features='auto'` has been deprecated in 1.1 and will be removed in 1.3. To keep the past behaviour, explicitly set `max_features=1.0` or remove this parameter as it is also the default value for RandomForestRegressors and ExtraTreesRegressors.\n",
      "  warn(\n"
     ]
    },
    {
     "name": "stdout",
     "output_type": "stream",
     "text": [
      "[CV] END bootstrap=True, max_depth=30, max_features=sqrt, n_estimators=1200; total time=   9.4s\n"
     ]
    },
    {
     "name": "stderr",
     "output_type": "stream",
     "text": [
      "/Users/yanghaejun/opt/anaconda3/envs/yang_conda/lib/python3.8/site-packages/sklearn/ensemble/_forest.py:414: FutureWarning: `max_features='auto'` has been deprecated in 1.1 and will be removed in 1.3. To keep the past behaviour, explicitly set `max_features=1.0` or remove this parameter as it is also the default value for RandomForestRegressors and ExtraTreesRegressors.\n",
      "  warn(\n"
     ]
    },
    {
     "name": "stdout",
     "output_type": "stream",
     "text": [
      "[CV] END bootstrap=True, max_depth=20, max_features=sqrt, n_estimators=800; total time=   5.8s\n"
     ]
    },
    {
     "name": "stderr",
     "output_type": "stream",
     "text": [
      "/Users/yanghaejun/opt/anaconda3/envs/yang_conda/lib/python3.8/site-packages/sklearn/ensemble/_forest.py:414: FutureWarning: `max_features='auto'` has been deprecated in 1.1 and will be removed in 1.3. To keep the past behaviour, explicitly set `max_features=1.0` or remove this parameter as it is also the default value for RandomForestRegressors and ExtraTreesRegressors.\n",
      "  warn(\n"
     ]
    },
    {
     "name": "stdout",
     "output_type": "stream",
     "text": [
      "[CV] END bootstrap=True, max_depth=20, max_features=sqrt, n_estimators=800; total time=   5.6s\n"
     ]
    },
    {
     "name": "stderr",
     "output_type": "stream",
     "text": [
      "/Users/yanghaejun/opt/anaconda3/envs/yang_conda/lib/python3.8/site-packages/sklearn/ensemble/_forest.py:414: FutureWarning: `max_features='auto'` has been deprecated in 1.1 and will be removed in 1.3. To keep the past behaviour, explicitly set `max_features=1.0` or remove this parameter as it is also the default value for RandomForestRegressors and ExtraTreesRegressors.\n",
      "  warn(\n"
     ]
    },
    {
     "name": "stdout",
     "output_type": "stream",
     "text": [
      "[CV] END bootstrap=True, max_depth=100, max_features=auto, n_estimators=200; total time=   3.3s\n"
     ]
    },
    {
     "name": "stderr",
     "output_type": "stream",
     "text": [
      "/Users/yanghaejun/opt/anaconda3/envs/yang_conda/lib/python3.8/site-packages/sklearn/ensemble/_forest.py:414: FutureWarning: `max_features='auto'` has been deprecated in 1.1 and will be removed in 1.3. To keep the past behaviour, explicitly set `max_features=1.0` or remove this parameter as it is also the default value for RandomForestRegressors and ExtraTreesRegressors.\n",
      "  warn(\n"
     ]
    },
    {
     "name": "stdout",
     "output_type": "stream",
     "text": [
      "[CV] END bootstrap=True, max_depth=100, max_features=auto, n_estimators=200; total time=   3.7s\n"
     ]
    },
    {
     "name": "stderr",
     "output_type": "stream",
     "text": [
      "/Users/yanghaejun/opt/anaconda3/envs/yang_conda/lib/python3.8/site-packages/sklearn/ensemble/_forest.py:414: FutureWarning: `max_features='auto'` has been deprecated in 1.1 and will be removed in 1.3. To keep the past behaviour, explicitly set `max_features=1.0` or remove this parameter as it is also the default value for RandomForestRegressors and ExtraTreesRegressors.\n",
      "  warn(\n"
     ]
    },
    {
     "name": "stdout",
     "output_type": "stream",
     "text": [
      "[CV] END bootstrap=True, max_depth=100, max_features=auto, n_estimators=200; total time=   4.1s\n",
      "[CV] END bootstrap=False, max_depth=100, max_features=auto, n_estimators=800; total time=  18.3s\n"
     ]
    },
    {
     "name": "stderr",
     "output_type": "stream",
     "text": [
      "/Users/yanghaejun/opt/anaconda3/envs/yang_conda/lib/python3.8/site-packages/sklearn/ensemble/_forest.py:414: FutureWarning: `max_features='auto'` has been deprecated in 1.1 and will be removed in 1.3. To keep the past behaviour, explicitly set `max_features=1.0` or remove this parameter as it is also the default value for RandomForestRegressors and ExtraTreesRegressors.\n",
      "  warn(\n",
      "/Users/yanghaejun/opt/anaconda3/envs/yang_conda/lib/python3.8/site-packages/sklearn/ensemble/_forest.py:414: FutureWarning: `max_features='auto'` has been deprecated in 1.1 and will be removed in 1.3. To keep the past behaviour, explicitly set `max_features=1.0` or remove this parameter as it is also the default value for RandomForestRegressors and ExtraTreesRegressors.\n",
      "  warn(\n"
     ]
    },
    {
     "name": "stdout",
     "output_type": "stream",
     "text": [
      "[CV] END bootstrap=True, max_depth=110, max_features=auto, n_estimators=800; total time=  12.7s\n",
      "[CV] END bootstrap=False, max_depth=100, max_features=auto, n_estimators=800; total time=  19.8s\n",
      "[CV] END bootstrap=True, max_depth=40, max_features=sqrt, n_estimators=200; total time=   1.4s\n",
      "[CV] END bootstrap=True, max_depth=40, max_features=sqrt, n_estimators=200; total time=   1.6s\n"
     ]
    },
    {
     "name": "stderr",
     "output_type": "stream",
     "text": [
      "/Users/yanghaejun/opt/anaconda3/envs/yang_conda/lib/python3.8/site-packages/sklearn/ensemble/_forest.py:414: FutureWarning: `max_features='auto'` has been deprecated in 1.1 and will be removed in 1.3. To keep the past behaviour, explicitly set `max_features=1.0` or remove this parameter as it is also the default value for RandomForestRegressors and ExtraTreesRegressors.\n",
      "  warn(\n"
     ]
    },
    {
     "name": "stdout",
     "output_type": "stream",
     "text": [
      "[CV] END bootstrap=True, max_depth=110, max_features=auto, n_estimators=800; total time=  14.7s\n",
      "[CV] END bootstrap=True, max_depth=40, max_features=sqrt, n_estimators=200; total time=   1.6s\n"
     ]
    },
    {
     "name": "stderr",
     "output_type": "stream",
     "text": [
      "/Users/yanghaejun/opt/anaconda3/envs/yang_conda/lib/python3.8/site-packages/sklearn/ensemble/_forest.py:414: FutureWarning: `max_features='auto'` has been deprecated in 1.1 and will be removed in 1.3. To keep the past behaviour, explicitly set `max_features=1.0` or remove this parameter as it is also the default value for RandomForestRegressors and ExtraTreesRegressors.\n",
      "  warn(\n",
      "/Users/yanghaejun/opt/anaconda3/envs/yang_conda/lib/python3.8/site-packages/sklearn/ensemble/_forest.py:414: FutureWarning: `max_features='auto'` has been deprecated in 1.1 and will be removed in 1.3. To keep the past behaviour, explicitly set `max_features=1.0` or remove this parameter as it is also the default value for RandomForestRegressors and ExtraTreesRegressors.\n",
      "  warn(\n"
     ]
    },
    {
     "name": "stdout",
     "output_type": "stream",
     "text": [
      "[CV] END bootstrap=True, max_depth=110, max_features=auto, n_estimators=800; total time=  16.7s\n"
     ]
    },
    {
     "name": "stderr",
     "output_type": "stream",
     "text": [
      "/Users/yanghaejun/opt/anaconda3/envs/yang_conda/lib/python3.8/site-packages/sklearn/ensemble/_forest.py:414: FutureWarning: `max_features='auto'` has been deprecated in 1.1 and will be removed in 1.3. To keep the past behaviour, explicitly set `max_features=1.0` or remove this parameter as it is also the default value for RandomForestRegressors and ExtraTreesRegressors.\n",
      "  warn(\n"
     ]
    },
    {
     "name": "stdout",
     "output_type": "stream",
     "text": [
      "[CV] END bootstrap=False, max_depth=100, max_features=auto, n_estimators=800; total time=  24.2s\n"
     ]
    },
    {
     "name": "stderr",
     "output_type": "stream",
     "text": [
      "/Users/yanghaejun/opt/anaconda3/envs/yang_conda/lib/python3.8/site-packages/sklearn/ensemble/_forest.py:414: FutureWarning: `max_features='auto'` has been deprecated in 1.1 and will be removed in 1.3. To keep the past behaviour, explicitly set `max_features=1.0` or remove this parameter as it is also the default value for RandomForestRegressors and ExtraTreesRegressors.\n",
      "  warn(\n"
     ]
    },
    {
     "name": "stdout",
     "output_type": "stream",
     "text": [
      "[CV] END bootstrap=False, max_depth=20, max_features=auto, n_estimators=400; total time=   8.5s\n"
     ]
    },
    {
     "name": "stderr",
     "output_type": "stream",
     "text": [
      "/Users/yanghaejun/opt/anaconda3/envs/yang_conda/lib/python3.8/site-packages/sklearn/ensemble/_forest.py:414: FutureWarning: `max_features='auto'` has been deprecated in 1.1 and will be removed in 1.3. To keep the past behaviour, explicitly set `max_features=1.0` or remove this parameter as it is also the default value for RandomForestRegressors and ExtraTreesRegressors.\n",
      "  warn(\n"
     ]
    },
    {
     "name": "stdout",
     "output_type": "stream",
     "text": [
      "[CV] END bootstrap=False, max_depth=20, max_features=auto, n_estimators=400; total time=   8.7s\n",
      "[CV] END bootstrap=False, max_depth=20, max_features=auto, n_estimators=400; total time=   9.7s\n",
      "[CV] END bootstrap=False, max_depth=None, max_features=sqrt, n_estimators=1000; total time=   9.0s\n",
      "[CV] END bootstrap=True, max_depth=60, max_features=auto, n_estimators=1000; total time=  16.7s\n",
      "[CV] END bootstrap=False, max_depth=None, max_features=sqrt, n_estimators=1000; total time=  10.3s\n",
      "[CV] END bootstrap=False, max_depth=None, max_features=auto, n_estimators=1200; total time=  28.4s\n",
      "[CV] END bootstrap=True, max_depth=60, max_features=auto, n_estimators=1000; total time=  18.6s\n"
     ]
    },
    {
     "name": "stderr",
     "output_type": "stream",
     "text": [
      "/Users/yanghaejun/opt/anaconda3/envs/yang_conda/lib/python3.8/site-packages/sklearn/ensemble/_forest.py:414: FutureWarning: `max_features='auto'` has been deprecated in 1.1 and will be removed in 1.3. To keep the past behaviour, explicitly set `max_features=1.0` or remove this parameter as it is also the default value for RandomForestRegressors and ExtraTreesRegressors.\n",
      "  warn(\n"
     ]
    },
    {
     "name": "stdout",
     "output_type": "stream",
     "text": [
      "[CV] END bootstrap=False, max_depth=None, max_features=auto, n_estimators=1200; total time=  30.8s\n"
     ]
    },
    {
     "name": "stderr",
     "output_type": "stream",
     "text": [
      "/Users/yanghaejun/opt/anaconda3/envs/yang_conda/lib/python3.8/site-packages/sklearn/ensemble/_forest.py:414: FutureWarning: `max_features='auto'` has been deprecated in 1.1 and will be removed in 1.3. To keep the past behaviour, explicitly set `max_features=1.0` or remove this parameter as it is also the default value for RandomForestRegressors and ExtraTreesRegressors.\n",
      "  warn(\n"
     ]
    },
    {
     "name": "stdout",
     "output_type": "stream",
     "text": [
      "[CV] END bootstrap=False, max_depth=None, max_features=sqrt, n_estimators=1000; total time=   9.6s\n"
     ]
    },
    {
     "name": "stderr",
     "output_type": "stream",
     "text": [
      "/Users/yanghaejun/opt/anaconda3/envs/yang_conda/lib/python3.8/site-packages/sklearn/ensemble/_forest.py:414: FutureWarning: `max_features='auto'` has been deprecated in 1.1 and will be removed in 1.3. To keep the past behaviour, explicitly set `max_features=1.0` or remove this parameter as it is also the default value for RandomForestRegressors and ExtraTreesRegressors.\n",
      "  warn(\n"
     ]
    },
    {
     "name": "stdout",
     "output_type": "stream",
     "text": [
      "[CV] END bootstrap=True, max_depth=60, max_features=auto, n_estimators=1000; total time=  20.5s\n"
     ]
    },
    {
     "name": "stderr",
     "output_type": "stream",
     "text": [
      "/Users/yanghaejun/opt/anaconda3/envs/yang_conda/lib/python3.8/site-packages/sklearn/ensemble/_forest.py:414: FutureWarning: `max_features='auto'` has been deprecated in 1.1 and will be removed in 1.3. To keep the past behaviour, explicitly set `max_features=1.0` or remove this parameter as it is also the default value for RandomForestRegressors and ExtraTreesRegressors.\n",
      "  warn(\n"
     ]
    },
    {
     "name": "stdout",
     "output_type": "stream",
     "text": [
      "[CV] END bootstrap=False, max_depth=50, max_features=auto, n_estimators=400; total time=   9.0s\n"
     ]
    },
    {
     "name": "stderr",
     "output_type": "stream",
     "text": [
      "/Users/yanghaejun/opt/anaconda3/envs/yang_conda/lib/python3.8/site-packages/sklearn/ensemble/_forest.py:414: FutureWarning: `max_features='auto'` has been deprecated in 1.1 and will be removed in 1.3. To keep the past behaviour, explicitly set `max_features=1.0` or remove this parameter as it is also the default value for RandomForestRegressors and ExtraTreesRegressors.\n",
      "  warn(\n"
     ]
    },
    {
     "name": "stdout",
     "output_type": "stream",
     "text": [
      "[CV] END bootstrap=False, max_depth=None, max_features=auto, n_estimators=1200; total time=  36.7s\n"
     ]
    },
    {
     "name": "stderr",
     "output_type": "stream",
     "text": [
      "/Users/yanghaejun/opt/anaconda3/envs/yang_conda/lib/python3.8/site-packages/sklearn/ensemble/_forest.py:414: FutureWarning: `max_features='auto'` has been deprecated in 1.1 and will be removed in 1.3. To keep the past behaviour, explicitly set `max_features=1.0` or remove this parameter as it is also the default value for RandomForestRegressors and ExtraTreesRegressors.\n",
      "  warn(\n"
     ]
    },
    {
     "name": "stdout",
     "output_type": "stream",
     "text": [
      "[CV] END bootstrap=False, max_depth=60, max_features=sqrt, n_estimators=1800; total time=  15.3s\n"
     ]
    },
    {
     "name": "stderr",
     "output_type": "stream",
     "text": [
      "/Users/yanghaejun/opt/anaconda3/envs/yang_conda/lib/python3.8/site-packages/sklearn/ensemble/_forest.py:414: FutureWarning: `max_features='auto'` has been deprecated in 1.1 and will be removed in 1.3. To keep the past behaviour, explicitly set `max_features=1.0` or remove this parameter as it is also the default value for RandomForestRegressors and ExtraTreesRegressors.\n",
      "  warn(\n"
     ]
    },
    {
     "name": "stdout",
     "output_type": "stream",
     "text": [
      "[CV] END bootstrap=False, max_depth=50, max_features=auto, n_estimators=400; total time=   9.8s\n"
     ]
    },
    {
     "name": "stderr",
     "output_type": "stream",
     "text": [
      "/Users/yanghaejun/opt/anaconda3/envs/yang_conda/lib/python3.8/site-packages/sklearn/ensemble/_forest.py:414: FutureWarning: `max_features='auto'` has been deprecated in 1.1 and will be removed in 1.3. To keep the past behaviour, explicitly set `max_features=1.0` or remove this parameter as it is also the default value for RandomForestRegressors and ExtraTreesRegressors.\n",
      "  warn(\n"
     ]
    },
    {
     "name": "stdout",
     "output_type": "stream",
     "text": [
      "[CV] END bootstrap=True, max_depth=10, max_features=auto, n_estimators=200; total time=   2.1s\n"
     ]
    },
    {
     "name": "stderr",
     "output_type": "stream",
     "text": [
      "/Users/yanghaejun/opt/anaconda3/envs/yang_conda/lib/python3.8/site-packages/sklearn/ensemble/_forest.py:414: FutureWarning: `max_features='auto'` has been deprecated in 1.1 and will be removed in 1.3. To keep the past behaviour, explicitly set `max_features=1.0` or remove this parameter as it is also the default value for RandomForestRegressors and ExtraTreesRegressors.\n",
      "  warn(\n"
     ]
    },
    {
     "name": "stdout",
     "output_type": "stream",
     "text": [
      "[CV] END bootstrap=False, max_depth=40, max_features=auto, n_estimators=400; total time=   9.2s\n",
      "[CV] END bootstrap=False, max_depth=60, max_features=sqrt, n_estimators=1800; total time=  17.8s\n",
      "[CV] END bootstrap=True, max_depth=10, max_features=auto, n_estimators=200; total time=   2.2s\n",
      "[CV] END bootstrap=True, max_depth=10, max_features=auto, n_estimators=200; total time=   2.3s\n",
      "[CV] END bootstrap=False, max_depth=50, max_features=auto, n_estimators=400; total time=  11.9s\n",
      "[CV] END bootstrap=False, max_depth=60, max_features=sqrt, n_estimators=1800; total time=  17.3s\n",
      "[CV] END bootstrap=True, max_depth=10, max_features=sqrt, n_estimators=400; total time=   1.7s\n",
      "[CV] END bootstrap=False, max_depth=80, max_features=sqrt, n_estimators=400; total time=   3.4s\n"
     ]
    },
    {
     "name": "stderr",
     "output_type": "stream",
     "text": [
      "/Users/yanghaejun/opt/anaconda3/envs/yang_conda/lib/python3.8/site-packages/sklearn/ensemble/_forest.py:414: FutureWarning: `max_features='auto'` has been deprecated in 1.1 and will be removed in 1.3. To keep the past behaviour, explicitly set `max_features=1.0` or remove this parameter as it is also the default value for RandomForestRegressors and ExtraTreesRegressors.\n",
      "  warn(\n",
      "/Users/yanghaejun/opt/anaconda3/envs/yang_conda/lib/python3.8/site-packages/sklearn/ensemble/_forest.py:414: FutureWarning: `max_features='auto'` has been deprecated in 1.1 and will be removed in 1.3. To keep the past behaviour, explicitly set `max_features=1.0` or remove this parameter as it is also the default value for RandomForestRegressors and ExtraTreesRegressors.\n",
      "  warn(\n"
     ]
    },
    {
     "name": "stdout",
     "output_type": "stream",
     "text": [
      "[CV] END bootstrap=True, max_depth=10, max_features=sqrt, n_estimators=400; total time=   1.8s\n"
     ]
    },
    {
     "name": "stderr",
     "output_type": "stream",
     "text": [
      "/Users/yanghaejun/opt/anaconda3/envs/yang_conda/lib/python3.8/site-packages/sklearn/ensemble/_forest.py:414: FutureWarning: `max_features='auto'` has been deprecated in 1.1 and will be removed in 1.3. To keep the past behaviour, explicitly set `max_features=1.0` or remove this parameter as it is also the default value for RandomForestRegressors and ExtraTreesRegressors.\n",
      "  warn(\n"
     ]
    },
    {
     "name": "stdout",
     "output_type": "stream",
     "text": [
      "[CV] END bootstrap=True, max_depth=10, max_features=sqrt, n_estimators=400; total time=   2.0s\n",
      "[CV] END bootstrap=False, max_depth=40, max_features=auto, n_estimators=400; total time=   9.8s\n",
      "[CV] END bootstrap=False, max_depth=80, max_features=sqrt, n_estimators=400; total time=   3.7s\n",
      "[CV] END bootstrap=False, max_depth=80, max_features=sqrt, n_estimators=400; total time=   3.7s\n",
      "[CV] END bootstrap=False, max_depth=100, max_features=sqrt, n_estimators=200; total time=   1.8s\n",
      "[CV] END bootstrap=False, max_depth=100, max_features=sqrt, n_estimators=200; total time=   1.9s\n",
      "[CV] END bootstrap=False, max_depth=100, max_features=sqrt, n_estimators=200; total time=   2.0s\n",
      "[CV] END bootstrap=False, max_depth=40, max_features=auto, n_estimators=400; total time=  11.7s\n",
      "[CV] END bootstrap=False, max_depth=80, max_features=auto, n_estimators=200; total time=   4.6s\n",
      "[CV] END bootstrap=False, max_depth=80, max_features=auto, n_estimators=200; total time=   5.0s\n"
     ]
    },
    {
     "name": "stderr",
     "output_type": "stream",
     "text": [
      "/Users/yanghaejun/opt/anaconda3/envs/yang_conda/lib/python3.8/site-packages/sklearn/ensemble/_forest.py:414: FutureWarning: `max_features='auto'` has been deprecated in 1.1 and will be removed in 1.3. To keep the past behaviour, explicitly set `max_features=1.0` or remove this parameter as it is also the default value for RandomForestRegressors and ExtraTreesRegressors.\n",
      "  warn(\n"
     ]
    },
    {
     "name": "stdout",
     "output_type": "stream",
     "text": [
      "[CV] END bootstrap=False, max_depth=80, max_features=auto, n_estimators=200; total time=   6.1s\n"
     ]
    },
    {
     "name": "stderr",
     "output_type": "stream",
     "text": [
      "/Users/yanghaejun/opt/anaconda3/envs/yang_conda/lib/python3.8/site-packages/sklearn/ensemble/_forest.py:414: FutureWarning: `max_features='auto'` has been deprecated in 1.1 and will be removed in 1.3. To keep the past behaviour, explicitly set `max_features=1.0` or remove this parameter as it is also the default value for RandomForestRegressors and ExtraTreesRegressors.\n",
      "  warn(\n"
     ]
    },
    {
     "name": "stdout",
     "output_type": "stream",
     "text": [
      "[CV] END bootstrap=True, max_depth=60, max_features=sqrt, n_estimators=1600; total time=  11.5s\n"
     ]
    },
    {
     "name": "stderr",
     "output_type": "stream",
     "text": [
      "/Users/yanghaejun/opt/anaconda3/envs/yang_conda/lib/python3.8/site-packages/sklearn/ensemble/_forest.py:414: FutureWarning: `max_features='auto'` has been deprecated in 1.1 and will be removed in 1.3. To keep the past behaviour, explicitly set `max_features=1.0` or remove this parameter as it is also the default value for RandomForestRegressors and ExtraTreesRegressors.\n",
      "  warn(\n"
     ]
    },
    {
     "name": "stdout",
     "output_type": "stream",
     "text": [
      "[CV] END bootstrap=False, max_depth=70, max_features=sqrt, n_estimators=1600; total time=  14.0s\n",
      "[CV] END bootstrap=True, max_depth=60, max_features=sqrt, n_estimators=1600; total time=  12.8s\n",
      "[CV] END bootstrap=True, max_depth=60, max_features=sqrt, n_estimators=1600; total time=  13.2s\n",
      "[CV] END bootstrap=False, max_depth=70, max_features=sqrt, n_estimators=1600; total time=  15.5s\n",
      "[CV] END bootstrap=False, max_depth=70, max_features=sqrt, n_estimators=1600; total time=  16.1s\n",
      "[CV] END bootstrap=False, max_depth=40, max_features=auto, n_estimators=600; total time=  14.0s\n",
      "[CV] END bootstrap=False, max_depth=None, max_features=sqrt, n_estimators=400; total time=   3.5s\n",
      "[CV] END bootstrap=True, max_depth=90, max_features=sqrt, n_estimators=800; total time=   6.2s\n",
      "[CV] END bootstrap=False, max_depth=40, max_features=auto, n_estimators=600; total time=  15.4s\n",
      "[CV] END bootstrap=False, max_depth=None, max_features=sqrt, n_estimators=400; total time=   3.9s\n",
      "[CV] END bootstrap=True, max_depth=90, max_features=sqrt, n_estimators=800; total time=   6.4s\n",
      "[CV] END bootstrap=False, max_depth=None, max_features=sqrt, n_estimators=400; total time=   3.8s\n",
      "[CV] END bootstrap=True, max_depth=90, max_features=sqrt, n_estimators=800; total time=   6.4s\n"
     ]
    },
    {
     "name": "stderr",
     "output_type": "stream",
     "text": [
      "/Users/yanghaejun/opt/anaconda3/envs/yang_conda/lib/python3.8/site-packages/sklearn/ensemble/_forest.py:414: FutureWarning: `max_features='auto'` has been deprecated in 1.1 and will be removed in 1.3. To keep the past behaviour, explicitly set `max_features=1.0` or remove this parameter as it is also the default value for RandomForestRegressors and ExtraTreesRegressors.\n",
      "  warn(\n"
     ]
    },
    {
     "name": "stdout",
     "output_type": "stream",
     "text": [
      "[CV] END bootstrap=False, max_depth=50, max_features=sqrt, n_estimators=600; total time=   5.0s\n"
     ]
    },
    {
     "name": "stderr",
     "output_type": "stream",
     "text": [
      "/Users/yanghaejun/opt/anaconda3/envs/yang_conda/lib/python3.8/site-packages/sklearn/ensemble/_forest.py:414: FutureWarning: `max_features='auto'` has been deprecated in 1.1 and will be removed in 1.3. To keep the past behaviour, explicitly set `max_features=1.0` or remove this parameter as it is also the default value for RandomForestRegressors and ExtraTreesRegressors.\n",
      "  warn(\n"
     ]
    },
    {
     "name": "stdout",
     "output_type": "stream",
     "text": [
      "[CV] END bootstrap=False, max_depth=50, max_features=sqrt, n_estimators=600; total time=   5.7s\n"
     ]
    },
    {
     "name": "stderr",
     "output_type": "stream",
     "text": [
      "/Users/yanghaejun/opt/anaconda3/envs/yang_conda/lib/python3.8/site-packages/sklearn/ensemble/_forest.py:414: FutureWarning: `max_features='auto'` has been deprecated in 1.1 and will be removed in 1.3. To keep the past behaviour, explicitly set `max_features=1.0` or remove this parameter as it is also the default value for RandomForestRegressors and ExtraTreesRegressors.\n",
      "  warn(\n"
     ]
    },
    {
     "name": "stdout",
     "output_type": "stream",
     "text": [
      "[CV] END bootstrap=False, max_depth=50, max_features=sqrt, n_estimators=600; total time=   5.8s\n",
      "[CV] END bootstrap=True, max_depth=10, max_features=sqrt, n_estimators=1800; total time=   7.8s\n",
      "[CV] END bootstrap=True, max_depth=10, max_features=sqrt, n_estimators=1800; total time=   8.3s\n",
      "[CV] END bootstrap=True, max_depth=50, max_features=sqrt, n_estimators=200; total time=   1.4s\n",
      "[CV] END bootstrap=True, max_depth=10, max_features=sqrt, n_estimators=1800; total time=   8.4s\n"
     ]
    },
    {
     "name": "stderr",
     "output_type": "stream",
     "text": [
      "/Users/yanghaejun/opt/anaconda3/envs/yang_conda/lib/python3.8/site-packages/sklearn/ensemble/_forest.py:414: FutureWarning: `max_features='auto'` has been deprecated in 1.1 and will be removed in 1.3. To keep the past behaviour, explicitly set `max_features=1.0` or remove this parameter as it is also the default value for RandomForestRegressors and ExtraTreesRegressors.\n",
      "  warn(\n",
      "/Users/yanghaejun/opt/anaconda3/envs/yang_conda/lib/python3.8/site-packages/sklearn/ensemble/_forest.py:414: FutureWarning: `max_features='auto'` has been deprecated in 1.1 and will be removed in 1.3. To keep the past behaviour, explicitly set `max_features=1.0` or remove this parameter as it is also the default value for RandomForestRegressors and ExtraTreesRegressors.\n",
      "  warn(\n"
     ]
    },
    {
     "name": "stdout",
     "output_type": "stream",
     "text": [
      "[CV] END bootstrap=True, max_depth=50, max_features=sqrt, n_estimators=200; total time=   1.6s\n"
     ]
    },
    {
     "name": "stderr",
     "output_type": "stream",
     "text": [
      "/Users/yanghaejun/opt/anaconda3/envs/yang_conda/lib/python3.8/site-packages/sklearn/ensemble/_forest.py:414: FutureWarning: `max_features='auto'` has been deprecated in 1.1 and will be removed in 1.3. To keep the past behaviour, explicitly set `max_features=1.0` or remove this parameter as it is also the default value for RandomForestRegressors and ExtraTreesRegressors.\n",
      "  warn(\n"
     ]
    },
    {
     "name": "stdout",
     "output_type": "stream",
     "text": [
      "[CV] END bootstrap=True, max_depth=50, max_features=sqrt, n_estimators=200; total time=   1.5s\n",
      "[CV] END bootstrap=False, max_depth=40, max_features=auto, n_estimators=600; total time=  17.8s\n",
      "[CV] END bootstrap=True, max_depth=None, max_features=auto, n_estimators=200; total time=   3.1s\n",
      "[CV] END bootstrap=True, max_depth=None, max_features=auto, n_estimators=200; total time=   3.6s\n"
     ]
    },
    {
     "name": "stderr",
     "output_type": "stream",
     "text": [
      "/Users/yanghaejun/opt/anaconda3/envs/yang_conda/lib/python3.8/site-packages/sklearn/ensemble/_forest.py:414: FutureWarning: `max_features='auto'` has been deprecated in 1.1 and will be removed in 1.3. To keep the past behaviour, explicitly set `max_features=1.0` or remove this parameter as it is also the default value for RandomForestRegressors and ExtraTreesRegressors.\n",
      "  warn(\n"
     ]
    },
    {
     "name": "stdout",
     "output_type": "stream",
     "text": [
      "[CV] END bootstrap=True, max_depth=None, max_features=auto, n_estimators=200; total time=   3.9s\n"
     ]
    },
    {
     "name": "stderr",
     "output_type": "stream",
     "text": [
      "/Users/yanghaejun/opt/anaconda3/envs/yang_conda/lib/python3.8/site-packages/sklearn/ensemble/_forest.py:414: FutureWarning: `max_features='auto'` has been deprecated in 1.1 and will be removed in 1.3. To keep the past behaviour, explicitly set `max_features=1.0` or remove this parameter as it is also the default value for RandomForestRegressors and ExtraTreesRegressors.\n",
      "  warn(\n"
     ]
    },
    {
     "name": "stdout",
     "output_type": "stream",
     "text": [
      "[CV] END bootstrap=True, max_depth=100, max_features=auto, n_estimators=1200; total time=  19.3s\n"
     ]
    },
    {
     "name": "stderr",
     "output_type": "stream",
     "text": [
      "/Users/yanghaejun/opt/anaconda3/envs/yang_conda/lib/python3.8/site-packages/sklearn/ensemble/_forest.py:414: FutureWarning: `max_features='auto'` has been deprecated in 1.1 and will be removed in 1.3. To keep the past behaviour, explicitly set `max_features=1.0` or remove this parameter as it is also the default value for RandomForestRegressors and ExtraTreesRegressors.\n",
      "  warn(\n"
     ]
    },
    {
     "name": "stdout",
     "output_type": "stream",
     "text": [
      "[CV] END bootstrap=True, max_depth=20, max_features=sqrt, n_estimators=2000; total time=  13.1s\n",
      "[CV] END bootstrap=True, max_depth=20, max_features=sqrt, n_estimators=2000; total time=  14.8s\n",
      "[CV] END bootstrap=True, max_depth=20, max_features=sqrt, n_estimators=2000; total time=  14.3s\n",
      "[CV] END bootstrap=True, max_depth=100, max_features=auto, n_estimators=1200; total time=  21.5s\n",
      "[CV] END bootstrap=False, max_depth=50, max_features=auto, n_estimators=800; total time=  18.5s\n",
      "[CV] END bootstrap=True, max_depth=100, max_features=auto, n_estimators=1200; total time=  24.7s\n",
      "[CV] END bootstrap=False, max_depth=50, max_features=auto, n_estimators=800; total time=  20.2s\n",
      "[CV] END bootstrap=True, max_depth=40, max_features=sqrt, n_estimators=1400; total time=   9.9s\n",
      "[CV] END bootstrap=False, max_depth=110, max_features=sqrt, n_estimators=2000; total time=  17.5s\n",
      "[CV] END bootstrap=True, max_depth=40, max_features=sqrt, n_estimators=1400; total time=  11.2s\n"
     ]
    },
    {
     "name": "stderr",
     "output_type": "stream",
     "text": [
      "/Users/yanghaejun/opt/anaconda3/envs/yang_conda/lib/python3.8/site-packages/sklearn/ensemble/_forest.py:414: FutureWarning: `max_features='auto'` has been deprecated in 1.1 and will be removed in 1.3. To keep the past behaviour, explicitly set `max_features=1.0` or remove this parameter as it is also the default value for RandomForestRegressors and ExtraTreesRegressors.\n",
      "  warn(\n"
     ]
    },
    {
     "name": "stdout",
     "output_type": "stream",
     "text": [
      "[CV] END bootstrap=True, max_depth=80, max_features=sqrt, n_estimators=1200; total time=   8.7s\n"
     ]
    },
    {
     "name": "stderr",
     "output_type": "stream",
     "text": [
      "/Users/yanghaejun/opt/anaconda3/envs/yang_conda/lib/python3.8/site-packages/sklearn/ensemble/_forest.py:414: FutureWarning: `max_features='auto'` has been deprecated in 1.1 and will be removed in 1.3. To keep the past behaviour, explicitly set `max_features=1.0` or remove this parameter as it is also the default value for RandomForestRegressors and ExtraTreesRegressors.\n",
      "  warn(\n"
     ]
    },
    {
     "name": "stdout",
     "output_type": "stream",
     "text": [
      "[CV] END bootstrap=True, max_depth=40, max_features=sqrt, n_estimators=1400; total time=  11.3s\n"
     ]
    },
    {
     "name": "stderr",
     "output_type": "stream",
     "text": [
      "/Users/yanghaejun/opt/anaconda3/envs/yang_conda/lib/python3.8/site-packages/sklearn/ensemble/_forest.py:414: FutureWarning: `max_features='auto'` has been deprecated in 1.1 and will be removed in 1.3. To keep the past behaviour, explicitly set `max_features=1.0` or remove this parameter as it is also the default value for RandomForestRegressors and ExtraTreesRegressors.\n",
      "  warn(\n"
     ]
    },
    {
     "name": "stdout",
     "output_type": "stream",
     "text": [
      "[CV] END bootstrap=False, max_depth=110, max_features=sqrt, n_estimators=2000; total time=  20.2s\n",
      "[CV] END bootstrap=False, max_depth=110, max_features=sqrt, n_estimators=2000; total time=  20.1s\n",
      "[CV] END bootstrap=False, max_depth=50, max_features=auto, n_estimators=800; total time=  24.4s\n",
      "[CV] END bootstrap=True, max_depth=80, max_features=sqrt, n_estimators=1200; total time=  10.1s\n"
     ]
    },
    {
     "name": "stderr",
     "output_type": "stream",
     "text": [
      "/Users/yanghaejun/opt/anaconda3/envs/yang_conda/lib/python3.8/site-packages/sklearn/ensemble/_forest.py:414: FutureWarning: `max_features='auto'` has been deprecated in 1.1 and will be removed in 1.3. To keep the past behaviour, explicitly set `max_features=1.0` or remove this parameter as it is also the default value for RandomForestRegressors and ExtraTreesRegressors.\n",
      "  warn(\n"
     ]
    },
    {
     "name": "stdout",
     "output_type": "stream",
     "text": [
      "[CV] END bootstrap=False, max_depth=80, max_features=sqrt, n_estimators=200; total time=   1.8s\n"
     ]
    },
    {
     "name": "stderr",
     "output_type": "stream",
     "text": [
      "/Users/yanghaejun/opt/anaconda3/envs/yang_conda/lib/python3.8/site-packages/sklearn/ensemble/_forest.py:414: FutureWarning: `max_features='auto'` has been deprecated in 1.1 and will be removed in 1.3. To keep the past behaviour, explicitly set `max_features=1.0` or remove this parameter as it is also the default value for RandomForestRegressors and ExtraTreesRegressors.\n",
      "  warn(\n"
     ]
    },
    {
     "name": "stdout",
     "output_type": "stream",
     "text": [
      "[CV] END bootstrap=False, max_depth=80, max_features=sqrt, n_estimators=200; total time=   1.9s\n",
      "[CV] END bootstrap=False, max_depth=80, max_features=sqrt, n_estimators=200; total time=   1.9s\n"
     ]
    },
    {
     "name": "stderr",
     "output_type": "stream",
     "text": [
      "/Users/yanghaejun/opt/anaconda3/envs/yang_conda/lib/python3.8/site-packages/sklearn/ensemble/_forest.py:414: FutureWarning: `max_features='auto'` has been deprecated in 1.1 and will be removed in 1.3. To keep the past behaviour, explicitly set `max_features=1.0` or remove this parameter as it is also the default value for RandomForestRegressors and ExtraTreesRegressors.\n",
      "  warn(\n"
     ]
    },
    {
     "name": "stdout",
     "output_type": "stream",
     "text": [
      "[CV] END bootstrap=True, max_depth=80, max_features=sqrt, n_estimators=1200; total time=   9.9s\n",
      "[CV] END bootstrap=False, max_depth=60, max_features=auto, n_estimators=200; total time=   4.6s\n",
      "[CV] END bootstrap=False, max_depth=60, max_features=auto, n_estimators=200; total time=   5.0s\n",
      "[CV] END bootstrap=False, max_depth=60, max_features=auto, n_estimators=200; total time=   5.9s\n",
      "[CV] END bootstrap=True, max_depth=40, max_features=auto, n_estimators=800; total time=  12.8s\n",
      "[CV] END bootstrap=True, max_depth=40, max_features=auto, n_estimators=800; total time=  14.7s\n"
     ]
    },
    {
     "name": "stderr",
     "output_type": "stream",
     "text": [
      "/Users/yanghaejun/opt/anaconda3/envs/yang_conda/lib/python3.8/site-packages/sklearn/ensemble/_forest.py:414: FutureWarning: `max_features='auto'` has been deprecated in 1.1 and will be removed in 1.3. To keep the past behaviour, explicitly set `max_features=1.0` or remove this parameter as it is also the default value for RandomForestRegressors and ExtraTreesRegressors.\n",
      "  warn(\n"
     ]
    },
    {
     "name": "stdout",
     "output_type": "stream",
     "text": [
      "[CV] END bootstrap=False, max_depth=90, max_features=sqrt, n_estimators=1200; total time=  10.1s\n"
     ]
    },
    {
     "name": "stderr",
     "output_type": "stream",
     "text": [
      "/Users/yanghaejun/opt/anaconda3/envs/yang_conda/lib/python3.8/site-packages/sklearn/ensemble/_forest.py:414: FutureWarning: `max_features='auto'` has been deprecated in 1.1 and will be removed in 1.3. To keep the past behaviour, explicitly set `max_features=1.0` or remove this parameter as it is also the default value for RandomForestRegressors and ExtraTreesRegressors.\n",
      "  warn(\n"
     ]
    },
    {
     "name": "stdout",
     "output_type": "stream",
     "text": [
      "[CV] END bootstrap=True, max_depth=40, max_features=auto, n_estimators=800; total time=  16.2s\n"
     ]
    },
    {
     "name": "stderr",
     "output_type": "stream",
     "text": [
      "/Users/yanghaejun/opt/anaconda3/envs/yang_conda/lib/python3.8/site-packages/sklearn/ensemble/_forest.py:414: FutureWarning: `max_features='auto'` has been deprecated in 1.1 and will be removed in 1.3. To keep the past behaviour, explicitly set `max_features=1.0` or remove this parameter as it is also the default value for RandomForestRegressors and ExtraTreesRegressors.\n",
      "  warn(\n"
     ]
    },
    {
     "name": "stdout",
     "output_type": "stream",
     "text": [
      "[CV] END bootstrap=False, max_depth=100, max_features=sqrt, n_estimators=1000; total time=   8.4s\n"
     ]
    },
    {
     "name": "stderr",
     "output_type": "stream",
     "text": [
      "/Users/yanghaejun/opt/anaconda3/envs/yang_conda/lib/python3.8/site-packages/sklearn/ensemble/_forest.py:414: FutureWarning: `max_features='auto'` has been deprecated in 1.1 and will be removed in 1.3. To keep the past behaviour, explicitly set `max_features=1.0` or remove this parameter as it is also the default value for RandomForestRegressors and ExtraTreesRegressors.\n",
      "  warn(\n"
     ]
    },
    {
     "name": "stdout",
     "output_type": "stream",
     "text": [
      "[CV] END bootstrap=False, max_depth=90, max_features=sqrt, n_estimators=1200; total time=  11.8s\n"
     ]
    },
    {
     "name": "stderr",
     "output_type": "stream",
     "text": [
      "/Users/yanghaejun/opt/anaconda3/envs/yang_conda/lib/python3.8/site-packages/sklearn/ensemble/_forest.py:414: FutureWarning: `max_features='auto'` has been deprecated in 1.1 and will be removed in 1.3. To keep the past behaviour, explicitly set `max_features=1.0` or remove this parameter as it is also the default value for RandomForestRegressors and ExtraTreesRegressors.\n",
      "  warn(\n"
     ]
    },
    {
     "name": "stdout",
     "output_type": "stream",
     "text": [
      "[CV] END bootstrap=False, max_depth=90, max_features=sqrt, n_estimators=1200; total time=  11.5s\n",
      "[CV] END bootstrap=False, max_depth=100, max_features=sqrt, n_estimators=1000; total time=   9.7s\n"
     ]
    },
    {
     "name": "stderr",
     "output_type": "stream",
     "text": [
      "/Users/yanghaejun/opt/anaconda3/envs/yang_conda/lib/python3.8/site-packages/sklearn/ensemble/_forest.py:414: FutureWarning: `max_features='auto'` has been deprecated in 1.1 and will be removed in 1.3. To keep the past behaviour, explicitly set `max_features=1.0` or remove this parameter as it is also the default value for RandomForestRegressors and ExtraTreesRegressors.\n",
      "  warn(\n",
      "/Users/yanghaejun/opt/anaconda3/envs/yang_conda/lib/python3.8/site-packages/sklearn/ensemble/_forest.py:414: FutureWarning: `max_features='auto'` has been deprecated in 1.1 and will be removed in 1.3. To keep the past behaviour, explicitly set `max_features=1.0` or remove this parameter as it is also the default value for RandomForestRegressors and ExtraTreesRegressors.\n",
      "  warn(\n"
     ]
    },
    {
     "name": "stdout",
     "output_type": "stream",
     "text": [
      "[CV] END bootstrap=False, max_depth=100, max_features=sqrt, n_estimators=1000; total time=   9.8s\n"
     ]
    },
    {
     "name": "stderr",
     "output_type": "stream",
     "text": [
      "/Users/yanghaejun/opt/anaconda3/envs/yang_conda/lib/python3.8/site-packages/sklearn/ensemble/_forest.py:414: FutureWarning: `max_features='auto'` has been deprecated in 1.1 and will be removed in 1.3. To keep the past behaviour, explicitly set `max_features=1.0` or remove this parameter as it is also the default value for RandomForestRegressors and ExtraTreesRegressors.\n",
      "  warn(\n"
     ]
    },
    {
     "name": "stdout",
     "output_type": "stream",
     "text": [
      "[CV] END bootstrap=True, max_depth=50, max_features=auto, n_estimators=600; total time=   9.6s\n"
     ]
    },
    {
     "name": "stderr",
     "output_type": "stream",
     "text": [
      "/Users/yanghaejun/opt/anaconda3/envs/yang_conda/lib/python3.8/site-packages/sklearn/ensemble/_forest.py:414: FutureWarning: `max_features='auto'` has been deprecated in 1.1 and will be removed in 1.3. To keep the past behaviour, explicitly set `max_features=1.0` or remove this parameter as it is also the default value for RandomForestRegressors and ExtraTreesRegressors.\n",
      "  warn(\n"
     ]
    },
    {
     "name": "stdout",
     "output_type": "stream",
     "text": [
      "[CV] END bootstrap=True, max_depth=50, max_features=auto, n_estimators=600; total time=  11.2s\n"
     ]
    },
    {
     "name": "stderr",
     "output_type": "stream",
     "text": [
      "/Users/yanghaejun/opt/anaconda3/envs/yang_conda/lib/python3.8/site-packages/sklearn/ensemble/_forest.py:414: FutureWarning: `max_features='auto'` has been deprecated in 1.1 and will be removed in 1.3. To keep the past behaviour, explicitly set `max_features=1.0` or remove this parameter as it is also the default value for RandomForestRegressors and ExtraTreesRegressors.\n",
      "  warn(\n"
     ]
    },
    {
     "name": "stdout",
     "output_type": "stream",
     "text": [
      "[CV] END bootstrap=True, max_depth=60, max_features=auto, n_estimators=400; total time=   6.7s\n"
     ]
    },
    {
     "name": "stderr",
     "output_type": "stream",
     "text": [
      "/Users/yanghaejun/opt/anaconda3/envs/yang_conda/lib/python3.8/site-packages/sklearn/ensemble/_forest.py:414: FutureWarning: `max_features='auto'` has been deprecated in 1.1 and will be removed in 1.3. To keep the past behaviour, explicitly set `max_features=1.0` or remove this parameter as it is also the default value for RandomForestRegressors and ExtraTreesRegressors.\n",
      "  warn(\n"
     ]
    },
    {
     "name": "stdout",
     "output_type": "stream",
     "text": [
      "[CV] END bootstrap=False, max_depth=40, max_features=auto, n_estimators=1200; total time=  28.9s\n"
     ]
    },
    {
     "name": "stderr",
     "output_type": "stream",
     "text": [
      "/Users/yanghaejun/opt/anaconda3/envs/yang_conda/lib/python3.8/site-packages/sklearn/ensemble/_forest.py:414: FutureWarning: `max_features='auto'` has been deprecated in 1.1 and will be removed in 1.3. To keep the past behaviour, explicitly set `max_features=1.0` or remove this parameter as it is also the default value for RandomForestRegressors and ExtraTreesRegressors.\n",
      "  warn(\n"
     ]
    },
    {
     "name": "stdout",
     "output_type": "stream",
     "text": [
      "[CV] END bootstrap=True, max_depth=50, max_features=auto, n_estimators=600; total time=  13.5s\n",
      "[CV] END bootstrap=False, max_depth=40, max_features=auto, n_estimators=1200; total time=  32.0s\n",
      "[CV] END bootstrap=True, max_depth=60, max_features=auto, n_estimators=400; total time=   8.7s\n",
      "[CV] END bootstrap=False, max_depth=20, max_features=auto, n_estimators=1400; total time=  31.2s\n",
      "[CV] END bootstrap=False, max_depth=20, max_features=auto, n_estimators=1400; total time=  32.2s\n",
      "[CV] END bootstrap=True, max_depth=60, max_features=auto, n_estimators=400; total time=   9.6s\n",
      "[CV] END bootstrap=False, max_depth=40, max_features=auto, n_estimators=1200; total time=  38.3s\n"
     ]
    },
    {
     "name": "stderr",
     "output_type": "stream",
     "text": [
      "/Users/yanghaejun/opt/anaconda3/envs/yang_conda/lib/python3.8/site-packages/sklearn/ensemble/_forest.py:414: FutureWarning: `max_features='auto'` has been deprecated in 1.1 and will be removed in 1.3. To keep the past behaviour, explicitly set `max_features=1.0` or remove this parameter as it is also the default value for RandomForestRegressors and ExtraTreesRegressors.\n",
      "  warn(\n"
     ]
    },
    {
     "name": "stdout",
     "output_type": "stream",
     "text": [
      "[CV] END bootstrap=True, max_depth=60, max_features=sqrt, n_estimators=800; total time=   6.4s\n"
     ]
    },
    {
     "name": "stderr",
     "output_type": "stream",
     "text": [
      "/Users/yanghaejun/opt/anaconda3/envs/yang_conda/lib/python3.8/site-packages/sklearn/ensemble/_forest.py:414: FutureWarning: `max_features='auto'` has been deprecated in 1.1 and will be removed in 1.3. To keep the past behaviour, explicitly set `max_features=1.0` or remove this parameter as it is also the default value for RandomForestRegressors and ExtraTreesRegressors.\n",
      "  warn(\n"
     ]
    },
    {
     "name": "stdout",
     "output_type": "stream",
     "text": [
      "[CV] END bootstrap=False, max_depth=20, max_features=auto, n_estimators=1400; total time=  36.1s\n"
     ]
    },
    {
     "name": "stderr",
     "output_type": "stream",
     "text": [
      "/Users/yanghaejun/opt/anaconda3/envs/yang_conda/lib/python3.8/site-packages/sklearn/ensemble/_forest.py:414: FutureWarning: `max_features='auto'` has been deprecated in 1.1 and will be removed in 1.3. To keep the past behaviour, explicitly set `max_features=1.0` or remove this parameter as it is also the default value for RandomForestRegressors and ExtraTreesRegressors.\n",
      "  warn(\n"
     ]
    },
    {
     "name": "stdout",
     "output_type": "stream",
     "text": [
      "[CV] END bootstrap=True, max_depth=60, max_features=sqrt, n_estimators=800; total time=   7.6s\n",
      "[CV] END bootstrap=True, max_depth=60, max_features=sqrt, n_estimators=800; total time=   6.9s\n",
      "[CV] END bootstrap=False, max_depth=None, max_features=sqrt, n_estimators=1600; total time=  16.0s\n",
      "[CV] END bootstrap=False, max_depth=10, max_features=sqrt, n_estimators=800; total time=   4.2s\n",
      "[CV] END bootstrap=False, max_depth=10, max_features=sqrt, n_estimators=800; total time=   4.5s\n",
      "[CV] END bootstrap=False, max_depth=10, max_features=sqrt, n_estimators=800; total time=   4.6s\n",
      "[CV] END bootstrap=False, max_depth=None, max_features=sqrt, n_estimators=1600; total time=  16.8s\n",
      "[CV] END bootstrap=False, max_depth=None, max_features=sqrt, n_estimators=1600; total time=  18.1s\n",
      "[CV] END bootstrap=False, max_depth=None, max_features=auto, n_estimators=800; total time=  19.3s\n",
      "[CV] END bootstrap=True, max_depth=40, max_features=sqrt, n_estimators=1800; total time=  12.5s\n",
      "[CV] END bootstrap=False, max_depth=None, max_features=auto, n_estimators=800; total time=  20.3s\n",
      "[CV] END bootstrap=True, max_depth=70, max_features=sqrt, n_estimators=1600; total time=  10.9s\n",
      "[CV] END bootstrap=True, max_depth=70, max_features=sqrt, n_estimators=1600; total time=  12.0s\n"
     ]
    },
    {
     "name": "stderr",
     "output_type": "stream",
     "text": [
      "/Users/yanghaejun/opt/anaconda3/envs/yang_conda/lib/python3.8/site-packages/sklearn/ensemble/_forest.py:414: FutureWarning: `max_features='auto'` has been deprecated in 1.1 and will be removed in 1.3. To keep the past behaviour, explicitly set `max_features=1.0` or remove this parameter as it is also the default value for RandomForestRegressors and ExtraTreesRegressors.\n",
      "  warn(\n"
     ]
    },
    {
     "name": "stdout",
     "output_type": "stream",
     "text": [
      "[CV] END bootstrap=True, max_depth=40, max_features=sqrt, n_estimators=1800; total time=  13.6s\n",
      "[CV] END bootstrap=True, max_depth=40, max_features=sqrt, n_estimators=1800; total time=  13.3s\n"
     ]
    },
    {
     "name": "stderr",
     "output_type": "stream",
     "text": [
      "/Users/yanghaejun/opt/anaconda3/envs/yang_conda/lib/python3.8/site-packages/sklearn/ensemble/_forest.py:414: FutureWarning: `max_features='auto'` has been deprecated in 1.1 and will be removed in 1.3. To keep the past behaviour, explicitly set `max_features=1.0` or remove this parameter as it is also the default value for RandomForestRegressors and ExtraTreesRegressors.\n",
      "  warn(\n",
      "/Users/yanghaejun/opt/anaconda3/envs/yang_conda/lib/python3.8/site-packages/sklearn/ensemble/_forest.py:414: FutureWarning: `max_features='auto'` has been deprecated in 1.1 and will be removed in 1.3. To keep the past behaviour, explicitly set `max_features=1.0` or remove this parameter as it is also the default value for RandomForestRegressors and ExtraTreesRegressors.\n",
      "  warn(\n"
     ]
    },
    {
     "name": "stdout",
     "output_type": "stream",
     "text": [
      "[CV] END bootstrap=False, max_depth=None, max_features=auto, n_estimators=800; total time=  23.1s\n"
     ]
    },
    {
     "name": "stderr",
     "output_type": "stream",
     "text": [
      "/Users/yanghaejun/opt/anaconda3/envs/yang_conda/lib/python3.8/site-packages/sklearn/ensemble/_forest.py:414: FutureWarning: `max_features='auto'` has been deprecated in 1.1 and will be removed in 1.3. To keep the past behaviour, explicitly set `max_features=1.0` or remove this parameter as it is also the default value for RandomForestRegressors and ExtraTreesRegressors.\n",
      "  warn(\n"
     ]
    },
    {
     "name": "stdout",
     "output_type": "stream",
     "text": [
      "[CV] END bootstrap=True, max_depth=None, max_features=sqrt, n_estimators=1000; total time=   5.5s\n"
     ]
    },
    {
     "name": "stderr",
     "output_type": "stream",
     "text": [
      "/Users/yanghaejun/opt/anaconda3/envs/yang_conda/lib/python3.8/site-packages/sklearn/ensemble/_forest.py:414: FutureWarning: `max_features='auto'` has been deprecated in 1.1 and will be removed in 1.3. To keep the past behaviour, explicitly set `max_features=1.0` or remove this parameter as it is also the default value for RandomForestRegressors and ExtraTreesRegressors.\n",
      "  warn(\n"
     ]
    },
    {
     "name": "stdout",
     "output_type": "stream",
     "text": [
      "[CV] END bootstrap=True, max_depth=None, max_features=sqrt, n_estimators=1000; total time=   6.1s\n",
      "[CV] END bootstrap=True, max_depth=None, max_features=sqrt, n_estimators=1000; total time=   5.9s\n"
     ]
    },
    {
     "name": "stderr",
     "output_type": "stream",
     "text": [
      "/Users/yanghaejun/opt/anaconda3/envs/yang_conda/lib/python3.8/site-packages/sklearn/ensemble/_forest.py:414: FutureWarning: `max_features='auto'` has been deprecated in 1.1 and will be removed in 1.3. To keep the past behaviour, explicitly set `max_features=1.0` or remove this parameter as it is also the default value for RandomForestRegressors and ExtraTreesRegressors.\n",
      "  warn(\n",
      "/Users/yanghaejun/opt/anaconda3/envs/yang_conda/lib/python3.8/site-packages/sklearn/ensemble/_forest.py:414: FutureWarning: `max_features='auto'` has been deprecated in 1.1 and will be removed in 1.3. To keep the past behaviour, explicitly set `max_features=1.0` or remove this parameter as it is also the default value for RandomForestRegressors and ExtraTreesRegressors.\n",
      "  warn(\n"
     ]
    },
    {
     "name": "stdout",
     "output_type": "stream",
     "text": [
      "[CV] END bootstrap=True, max_depth=70, max_features=sqrt, n_estimators=1600; total time=   9.7s\n"
     ]
    },
    {
     "name": "stderr",
     "output_type": "stream",
     "text": [
      "/Users/yanghaejun/opt/anaconda3/envs/yang_conda/lib/python3.8/site-packages/sklearn/ensemble/_forest.py:414: FutureWarning: `max_features='auto'` has been deprecated in 1.1 and will be removed in 1.3. To keep the past behaviour, explicitly set `max_features=1.0` or remove this parameter as it is also the default value for RandomForestRegressors and ExtraTreesRegressors.\n",
      "  warn(\n"
     ]
    },
    {
     "name": "stdout",
     "output_type": "stream",
     "text": [
      "[CV] END bootstrap=False, max_depth=50, max_features=auto, n_estimators=600; total time=   8.8s\n"
     ]
    },
    {
     "name": "stderr",
     "output_type": "stream",
     "text": [
      "/Users/yanghaejun/opt/anaconda3/envs/yang_conda/lib/python3.8/site-packages/sklearn/ensemble/_forest.py:414: FutureWarning: `max_features='auto'` has been deprecated in 1.1 and will be removed in 1.3. To keep the past behaviour, explicitly set `max_features=1.0` or remove this parameter as it is also the default value for RandomForestRegressors and ExtraTreesRegressors.\n",
      "  warn(\n"
     ]
    },
    {
     "name": "stdout",
     "output_type": "stream",
     "text": [
      "[CV] END bootstrap=False, max_depth=50, max_features=auto, n_estimators=600; total time=   9.1s\n",
      "[CV] END bootstrap=False, max_depth=40, max_features=auto, n_estimators=1000; total time=  14.7s\n",
      "[CV] END bootstrap=False, max_depth=50, max_features=auto, n_estimators=600; total time=  10.7s\n",
      "[CV] END bootstrap=True, max_depth=40, max_features=sqrt, n_estimators=600; total time=   2.5s\n",
      "[CV] END bootstrap=False, max_depth=40, max_features=auto, n_estimators=1000; total time=  15.5s\n",
      "[CV] END bootstrap=True, max_depth=40, max_features=sqrt, n_estimators=600; total time=   2.6s\n",
      "[CV] END bootstrap=True, max_depth=40, max_features=sqrt, n_estimators=600; total time=   2.5s\n",
      "[CV] END bootstrap=False, max_depth=40, max_features=auto, n_estimators=1000; total time=  18.1s\n",
      "[CV] END bootstrap=False, max_depth=40, max_features=sqrt, n_estimators=200; total time=   0.9s\n",
      "[CV] END bootstrap=False, max_depth=40, max_features=sqrt, n_estimators=200; total time=   1.1s\n",
      "[CV] END bootstrap=False, max_depth=40, max_features=sqrt, n_estimators=200; total time=   1.1s\n",
      "[CV] END bootstrap=True, max_depth=40, max_features=auto, n_estimators=1800; total time=  16.5s\n",
      "[CV] END bootstrap=True, max_depth=110, max_features=sqrt, n_estimators=1800; total time=   6.9s\n"
     ]
    },
    {
     "name": "stderr",
     "output_type": "stream",
     "text": [
      "/Users/yanghaejun/opt/anaconda3/envs/yang_conda/lib/python3.8/site-packages/sklearn/ensemble/_forest.py:414: FutureWarning: `max_features='auto'` has been deprecated in 1.1 and will be removed in 1.3. To keep the past behaviour, explicitly set `max_features=1.0` or remove this parameter as it is also the default value for RandomForestRegressors and ExtraTreesRegressors.\n",
      "  warn(\n"
     ]
    },
    {
     "name": "stdout",
     "output_type": "stream",
     "text": [
      "[CV] END bootstrap=True, max_depth=110, max_features=sqrt, n_estimators=1800; total time=   8.0s\n"
     ]
    },
    {
     "name": "stderr",
     "output_type": "stream",
     "text": [
      "/Users/yanghaejun/opt/anaconda3/envs/yang_conda/lib/python3.8/site-packages/sklearn/ensemble/_forest.py:414: FutureWarning: `max_features='auto'` has been deprecated in 1.1 and will be removed in 1.3. To keep the past behaviour, explicitly set `max_features=1.0` or remove this parameter as it is also the default value for RandomForestRegressors and ExtraTreesRegressors.\n",
      "  warn(\n"
     ]
    },
    {
     "name": "stdout",
     "output_type": "stream",
     "text": [
      "[CV] END bootstrap=True, max_depth=40, max_features=auto, n_estimators=1800; total time=  19.0s\n"
     ]
    },
    {
     "name": "stderr",
     "output_type": "stream",
     "text": [
      "/Users/yanghaejun/opt/anaconda3/envs/yang_conda/lib/python3.8/site-packages/sklearn/ensemble/_forest.py:414: FutureWarning: `max_features='auto'` has been deprecated in 1.1 and will be removed in 1.3. To keep the past behaviour, explicitly set `max_features=1.0` or remove this parameter as it is also the default value for RandomForestRegressors and ExtraTreesRegressors.\n",
      "  warn(\n"
     ]
    },
    {
     "name": "stdout",
     "output_type": "stream",
     "text": [
      "[CV] END bootstrap=True, max_depth=110, max_features=sqrt, n_estimators=1800; total time=   8.1s\n"
     ]
    },
    {
     "name": "stderr",
     "output_type": "stream",
     "text": [
      "/Users/yanghaejun/opt/anaconda3/envs/yang_conda/lib/python3.8/site-packages/sklearn/ensemble/_forest.py:414: FutureWarning: `max_features='auto'` has been deprecated in 1.1 and will be removed in 1.3. To keep the past behaviour, explicitly set `max_features=1.0` or remove this parameter as it is also the default value for RandomForestRegressors and ExtraTreesRegressors.\n",
      "  warn(\n"
     ]
    },
    {
     "name": "stdout",
     "output_type": "stream",
     "text": [
      "[CV] END bootstrap=True, max_depth=40, max_features=sqrt, n_estimators=2000; total time=   8.2s\n"
     ]
    },
    {
     "name": "stderr",
     "output_type": "stream",
     "text": [
      "/Users/yanghaejun/opt/anaconda3/envs/yang_conda/lib/python3.8/site-packages/sklearn/ensemble/_forest.py:414: FutureWarning: `max_features='auto'` has been deprecated in 1.1 and will be removed in 1.3. To keep the past behaviour, explicitly set `max_features=1.0` or remove this parameter as it is also the default value for RandomForestRegressors and ExtraTreesRegressors.\n",
      "  warn(\n"
     ]
    },
    {
     "name": "stdout",
     "output_type": "stream",
     "text": [
      "[CV] END bootstrap=True, max_depth=40, max_features=sqrt, n_estimators=2000; total time=   9.1s\n"
     ]
    },
    {
     "name": "stderr",
     "output_type": "stream",
     "text": [
      "/Users/yanghaejun/opt/anaconda3/envs/yang_conda/lib/python3.8/site-packages/sklearn/ensemble/_forest.py:414: FutureWarning: `max_features='auto'` has been deprecated in 1.1 and will be removed in 1.3. To keep the past behaviour, explicitly set `max_features=1.0` or remove this parameter as it is also the default value for RandomForestRegressors and ExtraTreesRegressors.\n",
      "  warn(\n"
     ]
    },
    {
     "name": "stdout",
     "output_type": "stream",
     "text": [
      "[CV] END bootstrap=True, max_depth=40, max_features=sqrt, n_estimators=2000; total time=   9.0s\n",
      "[CV] END bootstrap=True, max_depth=40, max_features=auto, n_estimators=1800; total time=  21.0s\n",
      "[CV] END bootstrap=True, max_depth=80, max_features=sqrt, n_estimators=1000; total time=   4.4s\n",
      "[CV] END bootstrap=True, max_depth=80, max_features=sqrt, n_estimators=1000; total time=   5.0s\n",
      "[CV] END bootstrap=True, max_depth=80, max_features=sqrt, n_estimators=1000; total time=   4.8s\n",
      "[CV] END bootstrap=True, max_depth=110, max_features=auto, n_estimators=1800; total time=  17.0s\n",
      "[CV] END bootstrap=True, max_depth=90, max_features=sqrt, n_estimators=1200; total time=   5.4s\n"
     ]
    },
    {
     "name": "stderr",
     "output_type": "stream",
     "text": [
      "/Users/yanghaejun/opt/anaconda3/envs/yang_conda/lib/python3.8/site-packages/sklearn/ensemble/_forest.py:414: FutureWarning: `max_features='auto'` has been deprecated in 1.1 and will be removed in 1.3. To keep the past behaviour, explicitly set `max_features=1.0` or remove this parameter as it is also the default value for RandomForestRegressors and ExtraTreesRegressors.\n",
      "  warn(\n"
     ]
    },
    {
     "name": "stdout",
     "output_type": "stream",
     "text": [
      "[CV] END bootstrap=True, max_depth=80, max_features=auto, n_estimators=1800; total time=  17.3s\n"
     ]
    },
    {
     "name": "stderr",
     "output_type": "stream",
     "text": [
      "/Users/yanghaejun/opt/anaconda3/envs/yang_conda/lib/python3.8/site-packages/sklearn/ensemble/_forest.py:414: FutureWarning: `max_features='auto'` has been deprecated in 1.1 and will be removed in 1.3. To keep the past behaviour, explicitly set `max_features=1.0` or remove this parameter as it is also the default value for RandomForestRegressors and ExtraTreesRegressors.\n",
      "  warn(\n"
     ]
    },
    {
     "name": "stdout",
     "output_type": "stream",
     "text": [
      "[CV] END bootstrap=True, max_depth=110, max_features=auto, n_estimators=1800; total time=  19.6s\n"
     ]
    },
    {
     "name": "stderr",
     "output_type": "stream",
     "text": [
      "/Users/yanghaejun/opt/anaconda3/envs/yang_conda/lib/python3.8/site-packages/sklearn/ensemble/_forest.py:414: FutureWarning: `max_features='auto'` has been deprecated in 1.1 and will be removed in 1.3. To keep the past behaviour, explicitly set `max_features=1.0` or remove this parameter as it is also the default value for RandomForestRegressors and ExtraTreesRegressors.\n",
      "  warn(\n"
     ]
    },
    {
     "name": "stdout",
     "output_type": "stream",
     "text": [
      "[CV] END bootstrap=True, max_depth=90, max_features=sqrt, n_estimators=1200; total time=   5.4s\n",
      "[CV] END bootstrap=True, max_depth=90, max_features=sqrt, n_estimators=1200; total time=   5.4s\n",
      "[CV] END bootstrap=True, max_depth=110, max_features=auto, n_estimators=1800; total time=  21.5s\n",
      "[CV] END bootstrap=True, max_depth=80, max_features=auto, n_estimators=1800; total time=  19.2s\n",
      "[CV] END bootstrap=False, max_depth=None, max_features=sqrt, n_estimators=1200; total time=   4.8s\n",
      "[CV] END bootstrap=True, max_depth=80, max_features=auto, n_estimators=1800; total time=  21.1s\n",
      "[CV] END bootstrap=False, max_depth=None, max_features=sqrt, n_estimators=1200; total time=   5.5s\n",
      "[CV] END bootstrap=False, max_depth=50, max_features=sqrt, n_estimators=1000; total time=   4.0s\n",
      "[CV] END bootstrap=False, max_depth=None, max_features=sqrt, n_estimators=1200; total time=   5.4s\n",
      "[CV] END bootstrap=False, max_depth=50, max_features=sqrt, n_estimators=1000; total time=   4.5s\n",
      "[CV] END bootstrap=True, max_depth=40, max_features=sqrt, n_estimators=1200; total time=   3.9s\n"
     ]
    },
    {
     "name": "stderr",
     "output_type": "stream",
     "text": [
      "/Users/yanghaejun/opt/anaconda3/envs/yang_conda/lib/python3.8/site-packages/sklearn/ensemble/_forest.py:414: FutureWarning: `max_features='auto'` has been deprecated in 1.1 and will be removed in 1.3. To keep the past behaviour, explicitly set `max_features=1.0` or remove this parameter as it is also the default value for RandomForestRegressors and ExtraTreesRegressors.\n",
      "  warn(\n",
      "/Users/yanghaejun/opt/anaconda3/envs/yang_conda/lib/python3.8/site-packages/sklearn/ensemble/_forest.py:414: FutureWarning: `max_features='auto'` has been deprecated in 1.1 and will be removed in 1.3. To keep the past behaviour, explicitly set `max_features=1.0` or remove this parameter as it is also the default value for RandomForestRegressors and ExtraTreesRegressors.\n",
      "  warn(\n"
     ]
    },
    {
     "name": "stdout",
     "output_type": "stream",
     "text": [
      "[CV] END bootstrap=False, max_depth=50, max_features=sqrt, n_estimators=1000; total time=   4.4s\n"
     ]
    },
    {
     "name": "stderr",
     "output_type": "stream",
     "text": [
      "/Users/yanghaejun/opt/anaconda3/envs/yang_conda/lib/python3.8/site-packages/sklearn/ensemble/_forest.py:414: FutureWarning: `max_features='auto'` has been deprecated in 1.1 and will be removed in 1.3. To keep the past behaviour, explicitly set `max_features=1.0` or remove this parameter as it is also the default value for RandomForestRegressors and ExtraTreesRegressors.\n",
      "  warn(\n"
     ]
    },
    {
     "name": "stdout",
     "output_type": "stream",
     "text": [
      "[CV] END bootstrap=True, max_depth=40, max_features=sqrt, n_estimators=1200; total time=   4.4s\n",
      "[CV] END bootstrap=False, max_depth=10, max_features=auto, n_estimators=2000; total time=  13.4s\n",
      "[CV] END bootstrap=True, max_depth=40, max_features=sqrt, n_estimators=1200; total time=   4.2s\n",
      "[CV] END bootstrap=False, max_depth=10, max_features=auto, n_estimators=2000; total time=  13.5s\n",
      "[CV] END bootstrap=False, max_depth=10, max_features=auto, n_estimators=2000; total time=  14.2s\n",
      "[CV] END bootstrap=True, max_depth=10, max_features=sqrt, n_estimators=1200; total time=   2.3s\n",
      "[CV] END bootstrap=False, max_depth=100, max_features=auto, n_estimators=400; total time=   4.3s\n",
      "[CV] END bootstrap=True, max_depth=10, max_features=sqrt, n_estimators=1200; total time=   2.6s\n",
      "[CV] END bootstrap=True, max_depth=10, max_features=sqrt, n_estimators=1200; total time=   2.5s\n"
     ]
    },
    {
     "name": "stderr",
     "output_type": "stream",
     "text": [
      "/Users/yanghaejun/opt/anaconda3/envs/yang_conda/lib/python3.8/site-packages/sklearn/ensemble/_forest.py:414: FutureWarning: `max_features='auto'` has been deprecated in 1.1 and will be removed in 1.3. To keep the past behaviour, explicitly set `max_features=1.0` or remove this parameter as it is also the default value for RandomForestRegressors and ExtraTreesRegressors.\n",
      "  warn(\n",
      "/Users/yanghaejun/opt/anaconda3/envs/yang_conda/lib/python3.8/site-packages/sklearn/ensemble/_forest.py:414: FutureWarning: `max_features='auto'` has been deprecated in 1.1 and will be removed in 1.3. To keep the past behaviour, explicitly set `max_features=1.0` or remove this parameter as it is also the default value for RandomForestRegressors and ExtraTreesRegressors.\n",
      "  warn(\n",
      "/Users/yanghaejun/opt/anaconda3/envs/yang_conda/lib/python3.8/site-packages/sklearn/ensemble/_forest.py:414: FutureWarning: `max_features='auto'` has been deprecated in 1.1 and will be removed in 1.3. To keep the past behaviour, explicitly set `max_features=1.0` or remove this parameter as it is also the default value for RandomForestRegressors and ExtraTreesRegressors.\n",
      "  warn(\n"
     ]
    },
    {
     "name": "stdout",
     "output_type": "stream",
     "text": [
      "[CV] END bootstrap=True, max_depth=80, max_features=sqrt, n_estimators=800; total time=   2.5s\n",
      "[CV] END bootstrap=False, max_depth=100, max_features=auto, n_estimators=400; total time=   4.5s\n",
      "[CV] END bootstrap=False, max_depth=100, max_features=auto, n_estimators=400; total time=   5.6s\n",
      "[CV] END bootstrap=True, max_depth=80, max_features=sqrt, n_estimators=800; total time=   3.0s\n",
      "[CV] END bootstrap=True, max_depth=80, max_features=sqrt, n_estimators=800; total time=   2.8s\n",
      "[CV] END bootstrap=False, max_depth=40, max_features=sqrt, n_estimators=400; total time=   1.6s\n",
      "[CV] END bootstrap=False, max_depth=40, max_features=sqrt, n_estimators=400; total time=   1.8s\n"
     ]
    },
    {
     "name": "stderr",
     "output_type": "stream",
     "text": [
      "/Users/yanghaejun/opt/anaconda3/envs/yang_conda/lib/python3.8/site-packages/sklearn/ensemble/_forest.py:414: FutureWarning: `max_features='auto'` has been deprecated in 1.1 and will be removed in 1.3. To keep the past behaviour, explicitly set `max_features=1.0` or remove this parameter as it is also the default value for RandomForestRegressors and ExtraTreesRegressors.\n",
      "  warn(\n"
     ]
    },
    {
     "name": "stdout",
     "output_type": "stream",
     "text": [
      "[CV] END bootstrap=True, max_depth=10, max_features=sqrt, n_estimators=2000; total time=   4.1s\n"
     ]
    },
    {
     "name": "stderr",
     "output_type": "stream",
     "text": [
      "/Users/yanghaejun/opt/anaconda3/envs/yang_conda/lib/python3.8/site-packages/sklearn/ensemble/_forest.py:414: FutureWarning: `max_features='auto'` has been deprecated in 1.1 and will be removed in 1.3. To keep the past behaviour, explicitly set `max_features=1.0` or remove this parameter as it is also the default value for RandomForestRegressors and ExtraTreesRegressors.\n",
      "  warn(\n"
     ]
    },
    {
     "name": "stdout",
     "output_type": "stream",
     "text": [
      "[CV] END bootstrap=True, max_depth=10, max_features=sqrt, n_estimators=2000; total time=   4.4s\n"
     ]
    },
    {
     "name": "stderr",
     "output_type": "stream",
     "text": [
      "/Users/yanghaejun/opt/anaconda3/envs/yang_conda/lib/python3.8/site-packages/sklearn/ensemble/_forest.py:414: FutureWarning: `max_features='auto'` has been deprecated in 1.1 and will be removed in 1.3. To keep the past behaviour, explicitly set `max_features=1.0` or remove this parameter as it is also the default value for RandomForestRegressors and ExtraTreesRegressors.\n",
      "  warn(\n"
     ]
    },
    {
     "name": "stdout",
     "output_type": "stream",
     "text": [
      "[CV] END bootstrap=False, max_depth=40, max_features=sqrt, n_estimators=400; total time=   1.8s\n",
      "[CV] END bootstrap=True, max_depth=10, max_features=sqrt, n_estimators=2000; total time=   4.3s\n",
      "[CV] END bootstrap=False, max_depth=50, max_features=auto, n_estimators=200; total time=   2.2s\n",
      "[CV] END bootstrap=False, max_depth=50, max_features=auto, n_estimators=200; total time=   2.4s\n"
     ]
    },
    {
     "name": "stderr",
     "output_type": "stream",
     "text": [
      "/Users/yanghaejun/opt/anaconda3/envs/yang_conda/lib/python3.8/site-packages/sklearn/ensemble/_forest.py:414: FutureWarning: `max_features='auto'` has been deprecated in 1.1 and will be removed in 1.3. To keep the past behaviour, explicitly set `max_features=1.0` or remove this parameter as it is also the default value for RandomForestRegressors and ExtraTreesRegressors.\n",
      "  warn(\n"
     ]
    },
    {
     "name": "stdout",
     "output_type": "stream",
     "text": [
      "[CV] END bootstrap=False, max_depth=50, max_features=auto, n_estimators=200; total time=   2.6s\n"
     ]
    },
    {
     "name": "stderr",
     "output_type": "stream",
     "text": [
      "/Users/yanghaejun/opt/anaconda3/envs/yang_conda/lib/python3.8/site-packages/sklearn/ensemble/_forest.py:414: FutureWarning: `max_features='auto'` has been deprecated in 1.1 and will be removed in 1.3. To keep the past behaviour, explicitly set `max_features=1.0` or remove this parameter as it is also the default value for RandomForestRegressors and ExtraTreesRegressors.\n",
      "  warn(\n"
     ]
    },
    {
     "name": "stdout",
     "output_type": "stream",
     "text": [
      "[CV] END bootstrap=True, max_depth=30, max_features=sqrt, n_estimators=1400; total time=   4.6s\n"
     ]
    },
    {
     "name": "stderr",
     "output_type": "stream",
     "text": [
      "/Users/yanghaejun/opt/anaconda3/envs/yang_conda/lib/python3.8/site-packages/sklearn/ensemble/_forest.py:414: FutureWarning: `max_features='auto'` has been deprecated in 1.1 and will be removed in 1.3. To keep the past behaviour, explicitly set `max_features=1.0` or remove this parameter as it is also the default value for RandomForestRegressors and ExtraTreesRegressors.\n",
      "  warn(\n"
     ]
    },
    {
     "name": "stdout",
     "output_type": "stream",
     "text": [
      "[CV] END bootstrap=False, max_depth=None, max_features=auto, n_estimators=1000; total time=  10.8s\n",
      "[CV] END bootstrap=True, max_depth=30, max_features=sqrt, n_estimators=1400; total time=   5.0s\n",
      "[CV] END bootstrap=True, max_depth=30, max_features=sqrt, n_estimators=1400; total time=   5.1s\n",
      "[CV] END bootstrap=False, max_depth=None, max_features=auto, n_estimators=1000; total time=  12.0s\n",
      "[CV] END bootstrap=True, max_depth=110, max_features=sqrt, n_estimators=400; total time=   1.3s\n",
      "[CV] END bootstrap=True, max_depth=110, max_features=sqrt, n_estimators=400; total time=   1.6s\n",
      "[CV] END bootstrap=True, max_depth=110, max_features=sqrt, n_estimators=400; total time=   1.4s\n"
     ]
    },
    {
     "name": "stderr",
     "output_type": "stream",
     "text": [
      "/Users/yanghaejun/opt/anaconda3/envs/yang_conda/lib/python3.8/site-packages/sklearn/ensemble/_forest.py:414: FutureWarning: `max_features='auto'` has been deprecated in 1.1 and will be removed in 1.3. To keep the past behaviour, explicitly set `max_features=1.0` or remove this parameter as it is also the default value for RandomForestRegressors and ExtraTreesRegressors.\n",
      "  warn(\n"
     ]
    },
    {
     "name": "stdout",
     "output_type": "stream",
     "text": [
      "[CV] END bootstrap=False, max_depth=None, max_features=auto, n_estimators=1000; total time=  13.9s\n"
     ]
    },
    {
     "name": "stderr",
     "output_type": "stream",
     "text": [
      "/Users/yanghaejun/opt/anaconda3/envs/yang_conda/lib/python3.8/site-packages/sklearn/ensemble/_forest.py:414: FutureWarning: `max_features='auto'` has been deprecated in 1.1 and will be removed in 1.3. To keep the past behaviour, explicitly set `max_features=1.0` or remove this parameter as it is also the default value for RandomForestRegressors and ExtraTreesRegressors.\n",
      "  warn(\n"
     ]
    },
    {
     "name": "stdout",
     "output_type": "stream",
     "text": [
      "[CV] END bootstrap=False, max_depth=100, max_features=sqrt, n_estimators=600; total time=   2.3s\n"
     ]
    },
    {
     "name": "stderr",
     "output_type": "stream",
     "text": [
      "/Users/yanghaejun/opt/anaconda3/envs/yang_conda/lib/python3.8/site-packages/sklearn/ensemble/_forest.py:414: FutureWarning: `max_features='auto'` has been deprecated in 1.1 and will be removed in 1.3. To keep the past behaviour, explicitly set `max_features=1.0` or remove this parameter as it is also the default value for RandomForestRegressors and ExtraTreesRegressors.\n",
      "  warn(\n"
     ]
    },
    {
     "name": "stdout",
     "output_type": "stream",
     "text": [
      "[CV] END bootstrap=False, max_depth=100, max_features=sqrt, n_estimators=600; total time=   2.6s\n",
      "[CV] END bootstrap=False, max_depth=100, max_features=sqrt, n_estimators=600; total time=   2.6s\n",
      "[CV] END bootstrap=True, max_depth=None, max_features=auto, n_estimators=600; total time=   4.9s\n",
      "[CV] END bootstrap=True, max_depth=None, max_features=auto, n_estimators=600; total time=   5.8s\n"
     ]
    },
    {
     "name": "stderr",
     "output_type": "stream",
     "text": [
      "/Users/yanghaejun/opt/anaconda3/envs/yang_conda/lib/python3.8/site-packages/sklearn/ensemble/_forest.py:414: FutureWarning: `max_features='auto'` has been deprecated in 1.1 and will be removed in 1.3. To keep the past behaviour, explicitly set `max_features=1.0` or remove this parameter as it is also the default value for RandomForestRegressors and ExtraTreesRegressors.\n",
      "  warn(\n"
     ]
    },
    {
     "name": "stdout",
     "output_type": "stream",
     "text": [
      "[CV] END bootstrap=True, max_depth=None, max_features=sqrt, n_estimators=1600; total time=   6.1s\n",
      "[CV] END bootstrap=True, max_depth=None, max_features=auto, n_estimators=600; total time=   6.7s\n"
     ]
    },
    {
     "name": "stderr",
     "output_type": "stream",
     "text": [
      "/Users/yanghaejun/opt/anaconda3/envs/yang_conda/lib/python3.8/site-packages/sklearn/ensemble/_forest.py:414: FutureWarning: `max_features='auto'` has been deprecated in 1.1 and will be removed in 1.3. To keep the past behaviour, explicitly set `max_features=1.0` or remove this parameter as it is also the default value for RandomForestRegressors and ExtraTreesRegressors.\n",
      "  warn(\n",
      "/Users/yanghaejun/opt/anaconda3/envs/yang_conda/lib/python3.8/site-packages/sklearn/ensemble/_forest.py:414: FutureWarning: `max_features='auto'` has been deprecated in 1.1 and will be removed in 1.3. To keep the past behaviour, explicitly set `max_features=1.0` or remove this parameter as it is also the default value for RandomForestRegressors and ExtraTreesRegressors.\n",
      "  warn(\n"
     ]
    },
    {
     "name": "stdout",
     "output_type": "stream",
     "text": [
      "[CV] END bootstrap=True, max_depth=None, max_features=sqrt, n_estimators=1600; total time=   6.9s\n"
     ]
    },
    {
     "name": "stderr",
     "output_type": "stream",
     "text": [
      "/Users/yanghaejun/opt/anaconda3/envs/yang_conda/lib/python3.8/site-packages/sklearn/ensemble/_forest.py:414: FutureWarning: `max_features='auto'` has been deprecated in 1.1 and will be removed in 1.3. To keep the past behaviour, explicitly set `max_features=1.0` or remove this parameter as it is also the default value for RandomForestRegressors and ExtraTreesRegressors.\n",
      "  warn(\n"
     ]
    },
    {
     "name": "stdout",
     "output_type": "stream",
     "text": [
      "[CV] END bootstrap=True, max_depth=None, max_features=sqrt, n_estimators=1600; total time=   6.3s\n"
     ]
    },
    {
     "name": "stderr",
     "output_type": "stream",
     "text": [
      "/Users/yanghaejun/opt/anaconda3/envs/yang_conda/lib/python3.8/site-packages/sklearn/ensemble/_forest.py:414: FutureWarning: `max_features='auto'` has been deprecated in 1.1 and will be removed in 1.3. To keep the past behaviour, explicitly set `max_features=1.0` or remove this parameter as it is also the default value for RandomForestRegressors and ExtraTreesRegressors.\n",
      "  warn(\n"
     ]
    },
    {
     "name": "stdout",
     "output_type": "stream",
     "text": [
      "[CV] END bootstrap=False, max_depth=60, max_features=auto, n_estimators=2000; total time=  23.3s\n"
     ]
    },
    {
     "name": "stderr",
     "output_type": "stream",
     "text": [
      "/Users/yanghaejun/opt/anaconda3/envs/yang_conda/lib/python3.8/site-packages/sklearn/ensemble/_forest.py:414: FutureWarning: `max_features='auto'` has been deprecated in 1.1 and will be removed in 1.3. To keep the past behaviour, explicitly set `max_features=1.0` or remove this parameter as it is also the default value for RandomForestRegressors and ExtraTreesRegressors.\n",
      "  warn(\n"
     ]
    },
    {
     "name": "stdout",
     "output_type": "stream",
     "text": [
      "[CV] END bootstrap=True, max_depth=20, max_features=auto, n_estimators=1200; total time=   9.3s\n",
      "[CV] END bootstrap=False, max_depth=60, max_features=auto, n_estimators=2000; total time=  25.4s\n",
      "[CV] END bootstrap=True, max_depth=20, max_features=auto, n_estimators=1200; total time=  10.0s\n",
      "[CV] END bootstrap=False, max_depth=90, max_features=sqrt, n_estimators=2000; total time=   8.3s\n",
      "[CV] END bootstrap=True, max_depth=20, max_features=auto, n_estimators=1200; total time=  10.2s\n",
      "[CV] END bootstrap=False, max_depth=60, max_features=auto, n_estimators=2000; total time=  30.4s\n",
      "[CV] END bootstrap=False, max_depth=90, max_features=auto, n_estimators=1800; total time=  20.8s\n"
     ]
    },
    {
     "name": "stderr",
     "output_type": "stream",
     "text": [
      "/Users/yanghaejun/opt/anaconda3/envs/yang_conda/lib/python3.8/site-packages/sklearn/ensemble/_forest.py:414: FutureWarning: `max_features='auto'` has been deprecated in 1.1 and will be removed in 1.3. To keep the past behaviour, explicitly set `max_features=1.0` or remove this parameter as it is also the default value for RandomForestRegressors and ExtraTreesRegressors.\n",
      "  warn(\n"
     ]
    },
    {
     "name": "stdout",
     "output_type": "stream",
     "text": [
      "[CV] END bootstrap=True, max_depth=70, max_features=sqrt, n_estimators=600; total time=   2.0s\n",
      "[CV] END bootstrap=False, max_depth=90, max_features=sqrt, n_estimators=2000; total time=   8.9s\n"
     ]
    },
    {
     "name": "stderr",
     "output_type": "stream",
     "text": [
      "/Users/yanghaejun/opt/anaconda3/envs/yang_conda/lib/python3.8/site-packages/sklearn/ensemble/_forest.py:414: FutureWarning: `max_features='auto'` has been deprecated in 1.1 and will be removed in 1.3. To keep the past behaviour, explicitly set `max_features=1.0` or remove this parameter as it is also the default value for RandomForestRegressors and ExtraTreesRegressors.\n",
      "  warn(\n",
      "/Users/yanghaejun/opt/anaconda3/envs/yang_conda/lib/python3.8/site-packages/sklearn/ensemble/_forest.py:414: FutureWarning: `max_features='auto'` has been deprecated in 1.1 and will be removed in 1.3. To keep the past behaviour, explicitly set `max_features=1.0` or remove this parameter as it is also the default value for RandomForestRegressors and ExtraTreesRegressors.\n",
      "  warn(\n"
     ]
    },
    {
     "name": "stdout",
     "output_type": "stream",
     "text": [
      "[CV] END bootstrap=True, max_depth=70, max_features=sqrt, n_estimators=600; total time=   2.2s\n",
      "[CV] END bootstrap=True, max_depth=70, max_features=sqrt, n_estimators=600; total time=   2.3s\n",
      "[CV] END bootstrap=False, max_depth=90, max_features=sqrt, n_estimators=2000; total time=   9.2s\n"
     ]
    },
    {
     "name": "stderr",
     "output_type": "stream",
     "text": [
      "/Users/yanghaejun/opt/anaconda3/envs/yang_conda/lib/python3.8/site-packages/joblib/externals/loky/process_executor.py:700: UserWarning: A worker stopped while some jobs were given to the executor. This can be caused by a too short worker timeout or by a memory leak.\n",
      "  warnings.warn(\n"
     ]
    },
    {
     "name": "stdout",
     "output_type": "stream",
     "text": [
      "[CV] END bootstrap=False, max_depth=90, max_features=auto, n_estimators=1800; total time=  22.9s\n"
     ]
    },
    {
     "name": "stderr",
     "output_type": "stream",
     "text": [
      "/Users/yanghaejun/opt/anaconda3/envs/yang_conda/lib/python3.8/site-packages/sklearn/ensemble/_forest.py:414: FutureWarning: `max_features='auto'` has been deprecated in 1.1 and will be removed in 1.3. To keep the past behaviour, explicitly set `max_features=1.0` or remove this parameter as it is also the default value for RandomForestRegressors and ExtraTreesRegressors.\n",
      "  warn(\n"
     ]
    },
    {
     "name": "stdout",
     "output_type": "stream",
     "text": [
      "[CV] END bootstrap=False, max_depth=None, max_features=sqrt, n_estimators=800; total time=   3.5s\n"
     ]
    },
    {
     "name": "stderr",
     "output_type": "stream",
     "text": [
      "/Users/yanghaejun/opt/anaconda3/envs/yang_conda/lib/python3.8/site-packages/sklearn/ensemble/_forest.py:414: FutureWarning: `max_features='auto'` has been deprecated in 1.1 and will be removed in 1.3. To keep the past behaviour, explicitly set `max_features=1.0` or remove this parameter as it is also the default value for RandomForestRegressors and ExtraTreesRegressors.\n",
      "  warn(\n"
     ]
    },
    {
     "name": "stdout",
     "output_type": "stream",
     "text": [
      "[CV] END bootstrap=False, max_depth=None, max_features=sqrt, n_estimators=800; total time=   4.2s\n"
     ]
    },
    {
     "name": "stderr",
     "output_type": "stream",
     "text": [
      "/Users/yanghaejun/opt/anaconda3/envs/yang_conda/lib/python3.8/site-packages/sklearn/ensemble/_forest.py:414: FutureWarning: `max_features='auto'` has been deprecated in 1.1 and will be removed in 1.3. To keep the past behaviour, explicitly set `max_features=1.0` or remove this parameter as it is also the default value for RandomForestRegressors and ExtraTreesRegressors.\n",
      "  warn(\n"
     ]
    },
    {
     "name": "stdout",
     "output_type": "stream",
     "text": [
      "[CV] END bootstrap=False, max_depth=None, max_features=sqrt, n_estimators=800; total time=   3.9s\n",
      "[CV] END bootstrap=False, max_depth=90, max_features=auto, n_estimators=1800; total time=  27.4s\n",
      "[CV] END bootstrap=True, max_depth=30, max_features=auto, n_estimators=600; total time=   4.2s\n",
      "[CV] END bootstrap=True, max_depth=30, max_features=auto, n_estimators=600; total time=   4.5s\n",
      "[CV] END bootstrap=True, max_depth=30, max_features=auto, n_estimators=600; total time=   4.7s\n",
      "[CV] END bootstrap=True, max_depth=None, max_features=auto, n_estimators=1800; total time=  12.5s\n",
      "[CV] END bootstrap=True, max_depth=None, max_features=auto, n_estimators=1800; total time=  13.8s\n",
      "[CV] END bootstrap=True, max_depth=None, max_features=auto, n_estimators=1800; total time=  15.6s\n"
     ]
    },
    {
     "name": "stderr",
     "output_type": "stream",
     "text": [
      "/Users/yanghaejun/opt/anaconda3/envs/yang_conda/lib/python3.8/site-packages/sklearn/ensemble/_forest.py:414: FutureWarning: `max_features='auto'` has been deprecated in 1.1 and will be removed in 1.3. To keep the past behaviour, explicitly set `max_features=1.0` or remove this parameter as it is also the default value for RandomForestRegressors and ExtraTreesRegressors.\n",
      "  warn(\n"
     ]
    },
    {
     "data": {
      "text/html": [
       "<style>#sk-container-id-5 {color: black;background-color: white;}#sk-container-id-5 pre{padding: 0;}#sk-container-id-5 div.sk-toggleable {background-color: white;}#sk-container-id-5 label.sk-toggleable__label {cursor: pointer;display: block;width: 100%;margin-bottom: 0;padding: 0.3em;box-sizing: border-box;text-align: center;}#sk-container-id-5 label.sk-toggleable__label-arrow:before {content: \"▸\";float: left;margin-right: 0.25em;color: #696969;}#sk-container-id-5 label.sk-toggleable__label-arrow:hover:before {color: black;}#sk-container-id-5 div.sk-estimator:hover label.sk-toggleable__label-arrow:before {color: black;}#sk-container-id-5 div.sk-toggleable__content {max-height: 0;max-width: 0;overflow: hidden;text-align: left;background-color: #f0f8ff;}#sk-container-id-5 div.sk-toggleable__content pre {margin: 0.2em;color: black;border-radius: 0.25em;background-color: #f0f8ff;}#sk-container-id-5 input.sk-toggleable__control:checked~div.sk-toggleable__content {max-height: 200px;max-width: 100%;overflow: auto;}#sk-container-id-5 input.sk-toggleable__control:checked~label.sk-toggleable__label-arrow:before {content: \"▾\";}#sk-container-id-5 div.sk-estimator input.sk-toggleable__control:checked~label.sk-toggleable__label {background-color: #d4ebff;}#sk-container-id-5 div.sk-label input.sk-toggleable__control:checked~label.sk-toggleable__label {background-color: #d4ebff;}#sk-container-id-5 input.sk-hidden--visually {border: 0;clip: rect(1px 1px 1px 1px);clip: rect(1px, 1px, 1px, 1px);height: 1px;margin: -1px;overflow: hidden;padding: 0;position: absolute;width: 1px;}#sk-container-id-5 div.sk-estimator {font-family: monospace;background-color: #f0f8ff;border: 1px dotted black;border-radius: 0.25em;box-sizing: border-box;margin-bottom: 0.5em;}#sk-container-id-5 div.sk-estimator:hover {background-color: #d4ebff;}#sk-container-id-5 div.sk-parallel-item::after {content: \"\";width: 100%;border-bottom: 1px solid gray;flex-grow: 1;}#sk-container-id-5 div.sk-label:hover label.sk-toggleable__label {background-color: #d4ebff;}#sk-container-id-5 div.sk-serial::before {content: \"\";position: absolute;border-left: 1px solid gray;box-sizing: border-box;top: 0;bottom: 0;left: 50%;z-index: 0;}#sk-container-id-5 div.sk-serial {display: flex;flex-direction: column;align-items: center;background-color: white;padding-right: 0.2em;padding-left: 0.2em;position: relative;}#sk-container-id-5 div.sk-item {position: relative;z-index: 1;}#sk-container-id-5 div.sk-parallel {display: flex;align-items: stretch;justify-content: center;background-color: white;position: relative;}#sk-container-id-5 div.sk-item::before, #sk-container-id-5 div.sk-parallel-item::before {content: \"\";position: absolute;border-left: 1px solid gray;box-sizing: border-box;top: 0;bottom: 0;left: 50%;z-index: -1;}#sk-container-id-5 div.sk-parallel-item {display: flex;flex-direction: column;z-index: 1;position: relative;background-color: white;}#sk-container-id-5 div.sk-parallel-item:first-child::after {align-self: flex-end;width: 50%;}#sk-container-id-5 div.sk-parallel-item:last-child::after {align-self: flex-start;width: 50%;}#sk-container-id-5 div.sk-parallel-item:only-child::after {width: 0;}#sk-container-id-5 div.sk-dashed-wrapped {border: 1px dashed gray;margin: 0 0.4em 0.5em 0.4em;box-sizing: border-box;padding-bottom: 0.4em;background-color: white;}#sk-container-id-5 div.sk-label label {font-family: monospace;font-weight: bold;display: inline-block;line-height: 1.2em;}#sk-container-id-5 div.sk-label-container {text-align: center;}#sk-container-id-5 div.sk-container {/* jupyter's `normalize.less` sets `[hidden] { display: none; }` but bootstrap.min.css set `[hidden] { display: none !important; }` so we also need the `!important` here to be able to override the default hidden behavior on the sphinx rendered scikit-learn.org. See: https://github.com/scikit-learn/scikit-learn/issues/21755 */display: inline-block !important;position: relative;}#sk-container-id-5 div.sk-text-repr-fallback {display: none;}</style><div id=\"sk-container-id-5\" class=\"sk-top-container\"><div class=\"sk-text-repr-fallback\"><pre>RandomizedSearchCV(cv=3, estimator=RandomForestRegressor(), n_iter=100,\n",
       "                   n_jobs=-1,\n",
       "                   param_distributions={&#x27;bootstrap&#x27;: [True, False],\n",
       "                                        &#x27;max_depth&#x27;: [10, 20, 30, 40, 50, 60,\n",
       "                                                      70, 80, 90, 100, 110,\n",
       "                                                      None],\n",
       "                                        &#x27;max_features&#x27;: [&#x27;auto&#x27;, &#x27;sqrt&#x27;],\n",
       "                                        &#x27;n_estimators&#x27;: [200, 400, 600, 800,\n",
       "                                                         1000, 1200, 1400, 1600,\n",
       "                                                         1800, 2000]},\n",
       "                   random_state=42, verbose=2)</pre><b>In a Jupyter environment, please rerun this cell to show the HTML representation or trust the notebook. <br />On GitHub, the HTML representation is unable to render, please try loading this page with nbviewer.org.</b></div><div class=\"sk-container\" hidden><div class=\"sk-item sk-dashed-wrapped\"><div class=\"sk-label-container\"><div class=\"sk-label sk-toggleable\"><input class=\"sk-toggleable__control sk-hidden--visually\" id=\"sk-estimator-id-11\" type=\"checkbox\" ><label for=\"sk-estimator-id-11\" class=\"sk-toggleable__label sk-toggleable__label-arrow\">RandomizedSearchCV</label><div class=\"sk-toggleable__content\"><pre>RandomizedSearchCV(cv=3, estimator=RandomForestRegressor(), n_iter=100,\n",
       "                   n_jobs=-1,\n",
       "                   param_distributions={&#x27;bootstrap&#x27;: [True, False],\n",
       "                                        &#x27;max_depth&#x27;: [10, 20, 30, 40, 50, 60,\n",
       "                                                      70, 80, 90, 100, 110,\n",
       "                                                      None],\n",
       "                                        &#x27;max_features&#x27;: [&#x27;auto&#x27;, &#x27;sqrt&#x27;],\n",
       "                                        &#x27;n_estimators&#x27;: [200, 400, 600, 800,\n",
       "                                                         1000, 1200, 1400, 1600,\n",
       "                                                         1800, 2000]},\n",
       "                   random_state=42, verbose=2)</pre></div></div></div><div class=\"sk-parallel\"><div class=\"sk-parallel-item\"><div class=\"sk-item\"><div class=\"sk-label-container\"><div class=\"sk-label sk-toggleable\"><input class=\"sk-toggleable__control sk-hidden--visually\" id=\"sk-estimator-id-12\" type=\"checkbox\" ><label for=\"sk-estimator-id-12\" class=\"sk-toggleable__label sk-toggleable__label-arrow\">estimator: RandomForestRegressor</label><div class=\"sk-toggleable__content\"><pre>RandomForestRegressor()</pre></div></div></div><div class=\"sk-serial\"><div class=\"sk-item\"><div class=\"sk-estimator sk-toggleable\"><input class=\"sk-toggleable__control sk-hidden--visually\" id=\"sk-estimator-id-13\" type=\"checkbox\" ><label for=\"sk-estimator-id-13\" class=\"sk-toggleable__label sk-toggleable__label-arrow\">RandomForestRegressor</label><div class=\"sk-toggleable__content\"><pre>RandomForestRegressor()</pre></div></div></div></div></div></div></div></div></div></div>"
      ],
      "text/plain": [
       "RandomizedSearchCV(cv=3, estimator=RandomForestRegressor(), n_iter=100,\n",
       "                   n_jobs=-1,\n",
       "                   param_distributions={'bootstrap': [True, False],\n",
       "                                        'max_depth': [10, 20, 30, 40, 50, 60,\n",
       "                                                      70, 80, 90, 100, 110,\n",
       "                                                      None],\n",
       "                                        'max_features': ['auto', 'sqrt'],\n",
       "                                        'n_estimators': [200, 400, 600, 800,\n",
       "                                                         1000, 1200, 1400, 1600,\n",
       "                                                         1800, 2000]},\n",
       "                   random_state=42, verbose=2)"
      ]
     },
     "execution_count": 229,
     "metadata": {},
     "output_type": "execute_result"
    }
   ],
   "source": [
    "from sklearn.model_selection import RandomizedSearchCV\n",
    "\n",
    "# Randomized Search로 찾아낼 파라미터 후보군을 각각 리스트로 선정\n",
    "n_estimators = [int(x) for x in np.linspace(start = 200, stop = 2000, num = 10)] # 사용할 트리의 수\n",
    "max_features = [\"auto\", \"sqrt\"] # 무작위로 선택한 피처의 수\n",
    "max_depth = [int(x) for x in np.linspace(start = 10, stop = 110, num = 11)] # 트리의 깊이\n",
    "max_depth.append(None)\n",
    "bootstrap = [True, False] # True: 전체 피처에서 복원 추출로 트리를 만듦, False: 전체 피처에서 비복원 추출로 트리를 만듦\n",
    "\n",
    "# RandomizedSearchCV 오브젝트를 생성하여 모델을 정의\n",
    "random_grid = {\"n_estimators\": n_estimators,\n",
    "               \"max_features\": max_features,\n",
    "               \"max_depth\": max_depth,\n",
    "               \"bootstrap\": bootstrap}\n",
    "forest = RandomForestRegressor()\n",
    "optimal_forest = RandomizedSearchCV(estimator = forest,\n",
    "                                    param_distributions = random_grid, # 파라미터 입력\n",
    "                                    n_iter = 100, # 파라미터 검색 횟수\n",
    "                                    cv = 3, # 교차검증 시 fold 개수\n",
    "                                    verbose = 1, # 진행상황(1: 생략, 2: 다 보여줌)\n",
    "                                    random_state = 42,\n",
    "                                    n_jobs = -1) # 사용할 CPU 코어 개수(1: 기본값, -1: 모든 코어 다 사용) \n",
    "\n",
    "# RandomizedSearchCV 모델을 학습\n",
    "x = df.loc[:, df.columns != \"price\"]\n",
    "y = df[\"price\"]\n",
    "optimal_forest.fit(x, y)"
   ]
  },
  {
   "attachments": {},
   "cell_type": "markdown",
   "metadata": {},
   "source": [
    "### [최적의 파라미터 출력]"
   ]
  },
  {
   "cell_type": "code",
   "execution_count": 230,
   "metadata": {},
   "outputs": [
    {
     "name": "stdout",
     "output_type": "stream",
     "text": [
      "{'n_estimators': 2000, 'max_features': 'auto', 'max_depth': 10, 'bootstrap': False}\n"
     ]
    }
   ],
   "source": [
    "# 앞서 선정한 파라미터 후보군 중에서 가장 좋은 결과를 보인 파라미터의 조합을 출력\n",
    "print(optimal_forest.best_params_)"
   ]
  },
  {
   "attachments": {},
   "cell_type": "markdown",
   "metadata": {},
   "source": [
    "### [최적 모델 학습 결과]"
   ]
  },
  {
   "cell_type": "code",
   "execution_count": 231,
   "metadata": {},
   "outputs": [
    {
     "name": "stdout",
     "output_type": "stream",
     "text": [
      "MSE train: 8808368121.538, test: 7645658105.527\n",
      "R^2 train: 0.818, test: 0.825\n"
     ]
    }
   ],
   "source": [
    "# 최적의 파라미터를 적용한 모델로 중고 휴대폰의 가격을 예측하고 평가\n",
    "y_train_pred = optimal_forest.predict(x_train)\n",
    "y_test_pred = optimal_forest.predict(x_test)\n",
    "print(\"MSE train: %.3f, test: %.3f\" % (mean_squared_error(y_train, y_train_pred), mean_squared_error(y_test, y_test_pred)))\n",
    "print(\"R^2 train: %.3f, test: %.3f\" % (r2_score(y_train, y_train_pred), r2_score(y_test, y_test_pred)))"
   ]
  },
  {
   "cell_type": "code",
   "execution_count": 232,
   "metadata": {},
   "outputs": [
    {
     "data": {
      "image/png": "[encoded data removed]",
      "text/plain": [
       "<Figure size 1200x1000 with 1 Axes>"
      ]
     },
     "metadata": {},
     "output_type": "display_data"
    },
    {
     "data": {
      "image/png": "[encoded data removed]",
      "text/plain": [
       "<Figure size 640x480 with 1 Axes>"
      ]
     },
     "metadata": {},
     "output_type": "display_data"
    }
   ],
   "source": [
    "# 가격 예측 모델의 피처 중요도 plot을 출력(seaborn barplot)\n",
    "importances = optimal_forest.best_estimator_.feature_importances_\n",
    "importances = pd.Series(importances, index = x_train.columns)\n",
    "importances_top = importances.sort_values(ascending = False)[:30]\n",
    "plt.figure(figsize = (12, 10))\n",
    "sns.barplot(x = importances_top.values, y = importances_top.index)\n",
    "plt.show()\n",
    "\n",
    "# 가격 예측 모델의 피처 중요도 plot을 출력(matplotlib bar)\n",
    "importances = optimal_forest.best_estimator_.feature_importances_\n",
    "indices = np.argsort(importances)[::-1]\n",
    "plt.bar(x = range(len(indices)), height = importances[indices])\n",
    "plt.show()"
   ]
  },
  {
   "attachments": {},
   "cell_type": "markdown",
   "metadata": {},
   "source": [
    "## 프로토타입: 얼마고(Almhago)"
   ]
  },
  {
   "attachments": {},
   "cell_type": "markdown",
   "metadata": {},
   "source": [
    "### [재사용을 위한 파일 저장하기]"
   ]
  },
  {
   "cell_type": "code",
   "execution_count": 233,
   "metadata": {},
   "outputs": [
    {
     "data": {
      "text/plain": [
       "['/Users/yanghaejun/Documents/이것이 데이터분석이다/이것이 데이터 분석이다 예제/data/used_mobile_pickles/rf_regressor.pickle']"
      ]
     },
     "execution_count": 233,
     "metadata": {},
     "output_type": "execute_result"
    }
   ],
   "source": [
    "import joblib\n",
    "\n",
    "# 모델 예측을 위한 중간 오브젝트들을 각각 파일로 저장\n",
    "with open(\"/Users/yanghaejun/Documents/이것이 데이터분석이다/이것이 데이터 분석이다 예제/data/used_mobile_pickles/model_to_factory_price_dict.pickle\", \"wb\") as f:\n",
    "    pickle.dump(model_to_factory_price_dict, f, pickle.HIGHEST_PROTOCOL)\n",
    "\n",
    "with open(\"/Users/yanghaejun/Documents/이것이 데이터분석이다/이것이 데이터 분석이다 예제/data/used_mobile_pickles/col_to_index_dict.pickle\", \"wb\") as f:\n",
    "    pickle.dump(col_to_index_dict, f, pickle.HIGHEST_PROTOCOL)\n",
    "\n",
    "with open(\"/Users/yanghaejun/Documents/이것이 데이터분석이다/이것이 데이터 분석이다 예제/data/used_mobile_pickles/common_words.pickle\", \"wb\") as f:\n",
    "    pickle.dump(common_words, f, pickle.HIGHEST_PROTOCOL)\n",
    "\n",
    "with open(\"/Users/yanghaejun/Documents/이것이 데이터분석이다/이것이 데이터 분석이다 예제/data/used_mobile_pickles/init_vectorizer_vocabulary.pickle\", \"wb\") as f:\n",
    "    pickle.dump(index_vectorizer.vocabulary_, f, pickle.HIGHEST_PROTOCOL)\n",
    "\n",
    "with open(\"/Users/yanghaejun/Documents/이것이 데이터분석이다/이것이 데이터 분석이다 예제/data/used_mobile_pickles/tfidf_vectorizer.pickle\", \"wb\") as f:\n",
    "    pickle.dump(tfidf_vetorizer, f, pickle.HIGHEST_PROTOCOL)\n",
    "\n",
    "with open(\"/Users/yanghaejun/Documents/이것이 데이터분석이다/이것이 데이터 분석이다 예제/data/used_mobile_pickles/svm_classifier.pickle\", \"wb\") as f:\n",
    "    pickle.dump(svm, f, pickle.HIGHEST_PROTOCOL)\n",
    "\n",
    "joblib.dump(optimal_forest.best_estimator_, \"/Users/yanghaejun/Documents/이것이 데이터분석이다/이것이 데이터 분석이다 예제/data/used_mobile_pickles/rf_regressor.pickle\", compress = 1)"
   ]
  },
  {
   "attachments": {},
   "cell_type": "markdown",
   "metadata": {},
   "source": [
    "### [예측에 필요한 파일 로드]"
   ]
  },
  {
   "cell_type": "code",
   "execution_count": 234,
   "metadata": {},
   "outputs": [],
   "source": [
    "import pickle\n",
    "\n",
    "with open(\"/Users/yanghaejun/Documents/이것이 데이터분석이다/이것이 데이터 분석이다 예제/data/used_mobile_pickles/model_to_factory_price_dict.pickle\", 'rb') as f:\n",
    "    model_to_factory_price_dict = pickle.load(f)\n",
    "    \n",
    "with open(\"/Users/yanghaejun/Documents/이것이 데이터분석이다/이것이 데이터 분석이다 예제/data/used_mobile_pickles/col_to_index_dict.pickle\", 'rb') as f:\n",
    "    col_to_index_dict = pickle.load(f)\n",
    "    \n",
    "with open(\"/Users/yanghaejun/Documents/이것이 데이터분석이다/이것이 데이터 분석이다 예제/data/used_mobile_pickles/common_words.pickle\", 'rb') as f:\n",
    "    common_words = pickle.load(f)\n",
    "\n",
    "with open(\"/Users/yanghaejun/Documents/이것이 데이터분석이다/이것이 데이터 분석이다 예제/data/used_mobile_pickles/init_vectorizer_vocabulary.pickle\", 'rb') as f:\n",
    "    init_vectorizer_vocabulary = pickle.load(f)\n",
    "    \n",
    "with open(\"/Users/yanghaejun/Documents/이것이 데이터분석이다/이것이 데이터 분석이다 예제/data/used_mobile_pickles/tfidf_vectorizer.pickle\", 'rb') as f:\n",
    "    tfidf_vectorizer = pickle.load(f)\n",
    "    \n",
    "with open(\"/Users/yanghaejun/Documents/이것이 데이터분석이다/이것이 데이터 분석이다 예제/data/used_mobile_pickles/svm_classifier.pickle\", 'rb') as f:\n",
    "    svm_classifier = pickle.load(f)\n",
    "\n",
    "rf_regressor = joblib.load(\"/Users/yanghaejun/Documents/이것이 데이터분석이다/이것이 데이터 분석이다 예제/data/used_mobile_pickles/rf_regressor.pickle\")"
   ]
  },
  {
   "cell_type": "code",
   "execution_count": 266,
   "metadata": {},
   "outputs": [],
   "source": [
    "import numpy as np\n",
    "\n",
    "from konlpy.tag import Okt\n",
    "from sklearn.model_selection import RandomizedSearchCV\n",
    "from sklearn.feature_extraction.text import TfidfTransformer, CountVectorizer\n",
    "from sklearn.svm import SVC\n",
    "from sklearn.ensemble import RandomForestRegressor\n",
    "\n",
    "class Almhago():\n",
    "    def __init__(self, model_to_factory_price_dict, col_to_index_dict, common_words, init_vectorizer_vocabulary, tfidf_vetorizer, prd_status_classifier, price_regressor):\n",
    "        self._model_to_factory_price_dict = model_to_factory_price_dict\n",
    "        self._col_to_index_dict = col_to_index_dict\n",
    "        self._common_words = common_words\n",
    "        self._init_vectorizer_vocabulary = init_vectorizer_vocabulary\n",
    "        self._index_vectorizer = self._init_index_vectorizer()  \n",
    "        self._tfidf_vetorizer = tfidf_vetorizer\n",
    "        self._prd_status_classifier = prd_status_classifier\n",
    "        self._price_regressor = price_regressor\n",
    "    \n",
    "    def _get_common_words(self, x):\n",
    "        tagger = Okt()\n",
    "        poses = tagger.pos(x)\n",
    "        return [pos[0] for pos in poses if pos[0] in self._common_words]\n",
    "    \n",
    "    def _text_cleaning(self, text):\n",
    "        text = \"\".join(c for c in text if c.isalnum() or c in \"+, \") # +를 제외한 특수문자 제거\n",
    "        text = \"\".join(i for i in text if i.isdigit() == False) # 숫자가 아닌 문자들 제거\n",
    "        return text\n",
    "    \n",
    "    def _init_index_vectorizer(self):\n",
    "        word_index_vectorizer = CountVectorizer(tokenizer = lambda x: self._get_common_words(x))\n",
    "        word_index_vectorizer.vocabulary_ = self._init_vectorizer_vocabulary\n",
    "        return word_index_vectorizer\n",
    "    \n",
    "    def _get_factory_price(self, model_name, storage):\n",
    "        return self._model_to_factory_price_dict[(model_name, storage)]\n",
    "    \n",
    "    def _get_prd_status(self, text):\n",
    "        x = self._index_vectorizer.transform([self._text_cleaning(program_test_dict[\"text\"])])\n",
    "        x = self._tfidf_vetorizer.transform(x)\n",
    "        return self._prd_status_classifier.predict(x)[0]\n",
    "    \n",
    "    def _print_almhago(self, model, price, prd_status):\n",
    "        status = \"\"\n",
    "        if prd_status == 0:\n",
    "            status = \"불량한\"\n",
    "        elif prd_status == 1:\n",
    "            status = \"양호한\"\n",
    "        else:\n",
    "            status = \"좋은\"\n",
    "        print(\"선택하신\", model, \"모델은\", status, \"상태입니다. Almhago 예상 가격은\", str(int(price[0])), \"원 입니다.\")\n",
    "    \n",
    "    def predict(self, input_dict):\n",
    "        feature = np.zeros(64)\n",
    "        feature[self._col_to_index_dict[\"factory_price\"]] = self._get_factory_price(input_dict[\"phone_model_detail\"],\n",
    "                                                                                    input_dict[\"phone_model_storage\"])\n",
    "        feature[self._col_to_index_dict[\"price_index\"]] = input_dict[\"price_index\"]\n",
    "        feature[self._col_to_index_dict[\"create_time_score\"]] = input_dict[\"create_time_score\"]\n",
    "        feature[self._col_to_index_dict[\"_\".join([\"maker\", input_dict[\"maker\"]])]] = 1\n",
    "        feature[self._col_to_index_dict[\"_\".join([\"phone_model_detail\", input_dict[\"phone_model_detail\"]])]] = 1\n",
    "        feature[self._col_to_index_dict[\"_\".join([\"phone_model_storage\", input_dict[\"phone_model_storage\"]])]] = 1\n",
    "        feature[self._col_to_index_dict[\"_\".join([\"product_status\", self._get_prd_status(input_dict[\"text\"])])]] = 1\n",
    "\n",
    "        # predict result\n",
    "        predicted_price = self._price_regressor.predict([feature])\n",
    "        self._print_almhago(input_dict[\"phone_model_detail\"],\n",
    "                            predicted_price,\n",
    "                            self._get_prd_status(input_dict[\"text\"]))"
   ]
  },
  {
   "attachments": {},
   "cell_type": "markdown",
   "metadata": {},
   "source": [
    "### [프로그램 테스트하기]"
   ]
  },
  {
   "cell_type": "code",
   "execution_count": 268,
   "metadata": {},
   "outputs": [
    {
     "name": "stdout",
     "output_type": "stream",
     "text": [
      "선택하신 iphone 6 모델은 좋은 상태입니다. Almhago 예상 가격은 152307 원 입니다.\n"
     ]
    },
    {
     "name": "stderr",
     "output_type": "stream",
     "text": [
      "/Users/yanghaejun/opt/anaconda3/envs/yang_conda/lib/python3.8/site-packages/sklearn/base.py:409: UserWarning: X does not have valid feature names, but RandomForestRegressor was fitted with feature names\n",
      "  warnings.warn(\n"
     ]
    }
   ],
   "source": [
    "# 데이터의 가장 최근 시점인 2017년 4월을 기준으로 하기 위한 2개(price_index, create_time_score)의 피처를 정의\n",
    "recent_price_index = 95.96\n",
    "recent_create_time_score = 1.0\n",
    "\n",
    "# 판매 가격을 예측하고자 하는 메이커, 기종, 용량을 입력하고, 상품의 상태를 나타내는 게시글을 입력\n",
    "program_test_dict = {\"maker\": \"apple\",\n",
    "                     \"phone_model_detail\": \"iphone 6\",\n",
    "                     \"phone_model_storage\": \"16gb\",\n",
    "                     \"text\": \"아이폰6 스페이스그레이 16기가 10만원에 팔아요~ 직접거래 \\\n",
    "                     메인보드 세척 완료 한 침수 폰 입니다폰 안켜지는 상테이구요 고쳐서 쓰실분 가져가세요10만원에 팔아요 \\\n",
    "                     리퍼한지 얼마안되서 기스 이런거 하나도 없습니당~서울 강남 근처 직거래 가능하며택배거래도 가능해요\",\n",
    "                     \"price_index\": recent_price_index,\n",
    "                     \"create_time_score\": recent_create_time_score}\n",
    "\n",
    "# 정의한 피처를 파라미터로 하여 almhago 오브젝트를 생성\n",
    "almhago = Almhago(model_to_factory_price_dict, col_to_index_dict, common_words, init_vectorizer_vocabulary, tfidf_vetorizer, svm_classifier, rf_regressor)\n",
    "\n",
    "# 입력한 데이터로 판매 가격을 예측\n",
    "almhago.predict(program_test_dict)"
   ]
  },
  {
   "cell_type": "code",
   "execution_count": null,
   "metadata": {},
   "outputs": [],
   "source": []
  }
 ],
 "metadata": {
  "kernelspec": {
   "display_name": "yang_conda",
   "language": "python",
   "name": "python3"
  },
  "language_info": {
   "codemirror_mode": {
    "name": "ipython",
    "version": 3
   },
   "file_extension": ".py",
   "mimetype": "text/x-python",
   "name": "python",
   "nbconvert_exporter": "python",
   "pygments_lexer": "ipython3",
   "version": "3.8.15"
  },
  "orig_nbformat": 4,
  "vscode": {
   "interpreter": {
    "hash": "52c978c14acf5f637cf647b0b291a2b8a626b2be490b9270ac09acb4761bcaa5"
   }
  }
 },
 "nbformat": 4,
 "nbformat_minor": 2
}
